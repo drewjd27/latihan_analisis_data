{
 "cells": [
  {
   "cell_type": "code",
   "execution_count": 100,
   "outputs": [],
   "source": [
    "import numpy as np\n",
    "import pandas as pd\n",
    "import matplotlib.pyplot as plt\n",
    "import seaborn as sns"
   ],
   "metadata": {
    "collapsed": false,
    "ExecuteTime": {
     "end_time": "2023-11-08T15:22:42.677145300Z",
     "start_time": "2023-11-08T15:22:42.529950400Z"
    }
   },
   "id": "738aee66cc94b475"
  },
  {
   "cell_type": "markdown",
   "source": [],
   "metadata": {
    "collapsed": false
   },
   "id": "4c0713ae2cfa2c1e"
  },
  {
   "cell_type": "markdown",
   "source": [
    "## GATHERING DATA"
   ],
   "metadata": {
    "collapsed": false
   },
   "id": "619b7e3516d728c4"
  },
  {
   "cell_type": "markdown",
   "source": [
    "#### LOAD TABEL CUSTOMERS"
   ],
   "metadata": {
    "collapsed": false
   },
   "id": "fb0a35aa3292eb00"
  },
  {
   "cell_type": "code",
   "execution_count": 101,
   "outputs": [
    {
     "data": {
      "text/plain": "   customer_id customer_name             gender  age  \\\n0            1       fulan 1             Female   30   \n1            2       fulan 2  Prefer not to say   69   \n2            3       fulan 3  Prefer not to say   59   \n3            4       fulan 4  Prefer not to say   67   \n4            5       fulan 5  Prefer not to say   30   \n\n                     home_address  zip_code               city  \\\n0  8606 Victoria TerraceSuite 560      5464      Johnstonhaven   \n1      8327 Kirlin SummitApt. 461      8223    New Zacharyfort   \n2       269 Gemma SummitSuite 109      5661           Aliburgh   \n3       743 Bailey GroveSuite 141      1729  South Justinhaven   \n4         48 Hyatt ManorSuite 375      4032     Griffithsshire   \n\n                          state    country  \n0            Northern Territory  Australia  \n1               South Australia  Australia  \n2  Australian Capital Territory  Australia  \n3                    Queensland  Australia  \n4                    Queensland  Australia  ",
      "text/html": "<div>\n<style scoped>\n    .dataframe tbody tr th:only-of-type {\n        vertical-align: middle;\n    }\n\n    .dataframe tbody tr th {\n        vertical-align: top;\n    }\n\n    .dataframe thead th {\n        text-align: right;\n    }\n</style>\n<table border=\"1\" class=\"dataframe\">\n  <thead>\n    <tr style=\"text-align: right;\">\n      <th></th>\n      <th>customer_id</th>\n      <th>customer_name</th>\n      <th>gender</th>\n      <th>age</th>\n      <th>home_address</th>\n      <th>zip_code</th>\n      <th>city</th>\n      <th>state</th>\n      <th>country</th>\n    </tr>\n  </thead>\n  <tbody>\n    <tr>\n      <th>0</th>\n      <td>1</td>\n      <td>fulan 1</td>\n      <td>Female</td>\n      <td>30</td>\n      <td>8606 Victoria TerraceSuite 560</td>\n      <td>5464</td>\n      <td>Johnstonhaven</td>\n      <td>Northern Territory</td>\n      <td>Australia</td>\n    </tr>\n    <tr>\n      <th>1</th>\n      <td>2</td>\n      <td>fulan 2</td>\n      <td>Prefer not to say</td>\n      <td>69</td>\n      <td>8327 Kirlin SummitApt. 461</td>\n      <td>8223</td>\n      <td>New Zacharyfort</td>\n      <td>South Australia</td>\n      <td>Australia</td>\n    </tr>\n    <tr>\n      <th>2</th>\n      <td>3</td>\n      <td>fulan 3</td>\n      <td>Prefer not to say</td>\n      <td>59</td>\n      <td>269 Gemma SummitSuite 109</td>\n      <td>5661</td>\n      <td>Aliburgh</td>\n      <td>Australian Capital Territory</td>\n      <td>Australia</td>\n    </tr>\n    <tr>\n      <th>3</th>\n      <td>4</td>\n      <td>fulan 4</td>\n      <td>Prefer not to say</td>\n      <td>67</td>\n      <td>743 Bailey GroveSuite 141</td>\n      <td>1729</td>\n      <td>South Justinhaven</td>\n      <td>Queensland</td>\n      <td>Australia</td>\n    </tr>\n    <tr>\n      <th>4</th>\n      <td>5</td>\n      <td>fulan 5</td>\n      <td>Prefer not to say</td>\n      <td>30</td>\n      <td>48 Hyatt ManorSuite 375</td>\n      <td>4032</td>\n      <td>Griffithsshire</td>\n      <td>Queensland</td>\n      <td>Australia</td>\n    </tr>\n  </tbody>\n</table>\n</div>"
     },
     "execution_count": 101,
     "metadata": {},
     "output_type": "execute_result"
    }
   ],
   "source": [
    "customers_df = pd.read_csv(\"./customers.csv\")\n",
    "customers_df.head()"
   ],
   "metadata": {
    "collapsed": false,
    "ExecuteTime": {
     "end_time": "2023-11-08T15:22:42.814824500Z",
     "start_time": "2023-11-08T15:22:42.545581600Z"
    }
   },
   "id": "9ac6ae890f786a4c"
  },
  {
   "cell_type": "markdown",
   "source": [],
   "metadata": {
    "collapsed": false
   },
   "id": "7ace1bd62068dfeb"
  },
  {
   "cell_type": "markdown",
   "source": [
    "#### LOAD TABEL ORDERS"
   ],
   "metadata": {
    "collapsed": false
   },
   "id": "33d694e2b4c4c046"
  },
  {
   "cell_type": "code",
   "execution_count": 102,
   "outputs": [
    {
     "data": {
      "text/plain": "   order_id  customer_id  payment order_date delivery_date\n0         1           64    30811  2021-8-30    2021-09-24\n1         2          473    50490   2021-2-3    2021-02-13\n2         3          774    46763  2021-10-8    2021-11-03\n3         4          433    39782   2021-5-6    2021-05-19\n4         5          441    14719  2021-3-23    2021-03-24",
      "text/html": "<div>\n<style scoped>\n    .dataframe tbody tr th:only-of-type {\n        vertical-align: middle;\n    }\n\n    .dataframe tbody tr th {\n        vertical-align: top;\n    }\n\n    .dataframe thead th {\n        text-align: right;\n    }\n</style>\n<table border=\"1\" class=\"dataframe\">\n  <thead>\n    <tr style=\"text-align: right;\">\n      <th></th>\n      <th>order_id</th>\n      <th>customer_id</th>\n      <th>payment</th>\n      <th>order_date</th>\n      <th>delivery_date</th>\n    </tr>\n  </thead>\n  <tbody>\n    <tr>\n      <th>0</th>\n      <td>1</td>\n      <td>64</td>\n      <td>30811</td>\n      <td>2021-8-30</td>\n      <td>2021-09-24</td>\n    </tr>\n    <tr>\n      <th>1</th>\n      <td>2</td>\n      <td>473</td>\n      <td>50490</td>\n      <td>2021-2-3</td>\n      <td>2021-02-13</td>\n    </tr>\n    <tr>\n      <th>2</th>\n      <td>3</td>\n      <td>774</td>\n      <td>46763</td>\n      <td>2021-10-8</td>\n      <td>2021-11-03</td>\n    </tr>\n    <tr>\n      <th>3</th>\n      <td>4</td>\n      <td>433</td>\n      <td>39782</td>\n      <td>2021-5-6</td>\n      <td>2021-05-19</td>\n    </tr>\n    <tr>\n      <th>4</th>\n      <td>5</td>\n      <td>441</td>\n      <td>14719</td>\n      <td>2021-3-23</td>\n      <td>2021-03-24</td>\n    </tr>\n  </tbody>\n</table>\n</div>"
     },
     "execution_count": 102,
     "metadata": {},
     "output_type": "execute_result"
    }
   ],
   "source": [
    "# LOAD TABEL ORDERS\n",
    "orders_df = pd.read_csv(\"./orders.csv\")\n",
    "orders_df.head()"
   ],
   "metadata": {
    "collapsed": false,
    "ExecuteTime": {
     "end_time": "2023-11-08T15:22:42.830451900Z",
     "start_time": "2023-11-08T15:22:42.568093600Z"
    }
   },
   "id": "c967589b2724c8cf"
  },
  {
   "cell_type": "markdown",
   "source": [],
   "metadata": {
    "collapsed": false
   },
   "id": "67c99755bc1f5b76"
  },
  {
   "cell_type": "markdown",
   "source": [
    "##### LOAD TABEL PRODUCT"
   ],
   "metadata": {
    "collapsed": false
   },
   "id": "b0cae26ef7fedd61"
  },
  {
   "cell_type": "code",
   "execution_count": 103,
   "outputs": [
    {
     "data": {
      "text/plain": "   product_id product_type  product_name size colour  price  quantity  \\\n0           0        Shirt  Oxford Cloth   XS    red    114        66   \n1           1        Shirt  Oxford Cloth    S    red    114        53   \n2           2        Shirt  Oxford Cloth    M    red    114        54   \n3           3        Shirt  Oxford Cloth    L    red    114        69   \n4           4        Shirt  Oxford Cloth   XL    red    114        47   \n\n                                    description  \n0  A red coloured, XS sized, Oxford Cloth Shirt  \n1   A red coloured, S sized, Oxford Cloth Shirt  \n2   A red coloured, M sized, Oxford Cloth Shirt  \n3   A red coloured, L sized, Oxford Cloth Shirt  \n4  A red coloured, XL sized, Oxford Cloth Shirt  ",
      "text/html": "<div>\n<style scoped>\n    .dataframe tbody tr th:only-of-type {\n        vertical-align: middle;\n    }\n\n    .dataframe tbody tr th {\n        vertical-align: top;\n    }\n\n    .dataframe thead th {\n        text-align: right;\n    }\n</style>\n<table border=\"1\" class=\"dataframe\">\n  <thead>\n    <tr style=\"text-align: right;\">\n      <th></th>\n      <th>product_id</th>\n      <th>product_type</th>\n      <th>product_name</th>\n      <th>size</th>\n      <th>colour</th>\n      <th>price</th>\n      <th>quantity</th>\n      <th>description</th>\n    </tr>\n  </thead>\n  <tbody>\n    <tr>\n      <th>0</th>\n      <td>0</td>\n      <td>Shirt</td>\n      <td>Oxford Cloth</td>\n      <td>XS</td>\n      <td>red</td>\n      <td>114</td>\n      <td>66</td>\n      <td>A red coloured, XS sized, Oxford Cloth Shirt</td>\n    </tr>\n    <tr>\n      <th>1</th>\n      <td>1</td>\n      <td>Shirt</td>\n      <td>Oxford Cloth</td>\n      <td>S</td>\n      <td>red</td>\n      <td>114</td>\n      <td>53</td>\n      <td>A red coloured, S sized, Oxford Cloth Shirt</td>\n    </tr>\n    <tr>\n      <th>2</th>\n      <td>2</td>\n      <td>Shirt</td>\n      <td>Oxford Cloth</td>\n      <td>M</td>\n      <td>red</td>\n      <td>114</td>\n      <td>54</td>\n      <td>A red coloured, M sized, Oxford Cloth Shirt</td>\n    </tr>\n    <tr>\n      <th>3</th>\n      <td>3</td>\n      <td>Shirt</td>\n      <td>Oxford Cloth</td>\n      <td>L</td>\n      <td>red</td>\n      <td>114</td>\n      <td>69</td>\n      <td>A red coloured, L sized, Oxford Cloth Shirt</td>\n    </tr>\n    <tr>\n      <th>4</th>\n      <td>4</td>\n      <td>Shirt</td>\n      <td>Oxford Cloth</td>\n      <td>XL</td>\n      <td>red</td>\n      <td>114</td>\n      <td>47</td>\n      <td>A red coloured, XL sized, Oxford Cloth Shirt</td>\n    </tr>\n  </tbody>\n</table>\n</div>"
     },
     "execution_count": 103,
     "metadata": {},
     "output_type": "execute_result"
    }
   ],
   "source": [
    "# LOAD TABEL PRODUCT\n",
    "product_df = pd.read_csv(\"./products.csv\")\n",
    "product_df.head()"
   ],
   "metadata": {
    "collapsed": false,
    "ExecuteTime": {
     "end_time": "2023-11-08T15:22:42.830451900Z",
     "start_time": "2023-11-08T15:22:42.592479500Z"
    }
   },
   "id": "6dbe124c51e586e6"
  },
  {
   "cell_type": "markdown",
   "source": [],
   "metadata": {
    "collapsed": false
   },
   "id": "71f22655263ec5c0"
  },
  {
   "cell_type": "markdown",
   "source": [
    "#### LOAD TABEL SALES"
   ],
   "metadata": {
    "collapsed": false
   },
   "id": "1a57da634390f7bb"
  },
  {
   "cell_type": "code",
   "execution_count": 104,
   "outputs": [
    {
     "data": {
      "text/plain": "   sales_id  order_id  product_id  price_per_unit  quantity  total_price\n0         0         1         218             106         2        212.0\n1         1         1         481             118         1        118.0\n2         2         1           2              96         3        288.0\n3         3         1        1002             106         2        212.0\n4         4         1         691             113         3        339.0",
      "text/html": "<div>\n<style scoped>\n    .dataframe tbody tr th:only-of-type {\n        vertical-align: middle;\n    }\n\n    .dataframe tbody tr th {\n        vertical-align: top;\n    }\n\n    .dataframe thead th {\n        text-align: right;\n    }\n</style>\n<table border=\"1\" class=\"dataframe\">\n  <thead>\n    <tr style=\"text-align: right;\">\n      <th></th>\n      <th>sales_id</th>\n      <th>order_id</th>\n      <th>product_id</th>\n      <th>price_per_unit</th>\n      <th>quantity</th>\n      <th>total_price</th>\n    </tr>\n  </thead>\n  <tbody>\n    <tr>\n      <th>0</th>\n      <td>0</td>\n      <td>1</td>\n      <td>218</td>\n      <td>106</td>\n      <td>2</td>\n      <td>212.0</td>\n    </tr>\n    <tr>\n      <th>1</th>\n      <td>1</td>\n      <td>1</td>\n      <td>481</td>\n      <td>118</td>\n      <td>1</td>\n      <td>118.0</td>\n    </tr>\n    <tr>\n      <th>2</th>\n      <td>2</td>\n      <td>1</td>\n      <td>2</td>\n      <td>96</td>\n      <td>3</td>\n      <td>288.0</td>\n    </tr>\n    <tr>\n      <th>3</th>\n      <td>3</td>\n      <td>1</td>\n      <td>1002</td>\n      <td>106</td>\n      <td>2</td>\n      <td>212.0</td>\n    </tr>\n    <tr>\n      <th>4</th>\n      <td>4</td>\n      <td>1</td>\n      <td>691</td>\n      <td>113</td>\n      <td>3</td>\n      <td>339.0</td>\n    </tr>\n  </tbody>\n</table>\n</div>"
     },
     "execution_count": 104,
     "metadata": {},
     "output_type": "execute_result"
    }
   ],
   "source": [
    "# LOAD TABEL SALES\n",
    "sales_df = pd.read_csv(\"./sales.csv\")\n",
    "sales_df.head()"
   ],
   "metadata": {
    "collapsed": false,
    "ExecuteTime": {
     "end_time": "2023-11-08T15:22:42.846075500Z",
     "start_time": "2023-11-08T15:22:42.620875200Z"
    }
   },
   "id": "f4b13cabffef671a"
  },
  {
   "cell_type": "markdown",
   "source": [],
   "metadata": {
    "collapsed": false
   },
   "id": "322216e3b06ccc8"
  },
  {
   "cell_type": "markdown",
   "source": [
    "## ASSESSING DATA"
   ],
   "metadata": {
    "collapsed": false
   },
   "id": "caa2b5b4bfedbd9e"
  },
  {
   "cell_type": "markdown",
   "source": [
    "#### MENILAI DATA customers_df"
   ],
   "metadata": {
    "collapsed": false
   },
   "id": "30dc97aa9b9c4c0e"
  },
  {
   "cell_type": "code",
   "execution_count": 105,
   "outputs": [
    {
     "name": "stdout",
     "output_type": "stream",
     "text": [
      "<class 'pandas.core.frame.DataFrame'>\n",
      "RangeIndex: 1007 entries, 0 to 1006\n",
      "Data columns (total 9 columns):\n",
      " #   Column         Non-Null Count  Dtype \n",
      "---  ------         --------------  ----- \n",
      " 0   customer_id    1007 non-null   int64 \n",
      " 1   customer_name  1007 non-null   object\n",
      " 2   gender         989 non-null    object\n",
      " 3   age            1007 non-null   int64 \n",
      " 4   home_address   1007 non-null   object\n",
      " 5   zip_code       1007 non-null   int64 \n",
      " 6   city           1007 non-null   object\n",
      " 7   state          1007 non-null   object\n",
      " 8   country        1007 non-null   object\n",
      "dtypes: int64(3), object(6)\n",
      "memory usage: 70.9+ KB\n"
     ]
    }
   ],
   "source": [
    "customers_df.info()"
   ],
   "metadata": {
    "collapsed": false,
    "ExecuteTime": {
     "end_time": "2023-11-08T15:22:42.846075500Z",
     "start_time": "2023-11-08T15:22:42.646848700Z"
    }
   },
   "id": "6659e9d92004cffd"
  },
  {
   "cell_type": "markdown",
   "source": [
    "##### Periksa Missing Values"
   ],
   "metadata": {
    "collapsed": false
   },
   "id": "fb00332cc47df36e"
  },
  {
   "cell_type": "code",
   "execution_count": 106,
   "outputs": [
    {
     "data": {
      "text/plain": "customer_id       0\ncustomer_name     0\ngender           18\nage               0\nhome_address      0\nzip_code          0\ncity              0\nstate             0\ncountry           0\ndtype: int64"
     },
     "execution_count": 106,
     "metadata": {},
     "output_type": "execute_result"
    }
   ],
   "source": [
    "customers_df.isna().sum()"
   ],
   "metadata": {
    "collapsed": false,
    "ExecuteTime": {
     "end_time": "2023-11-08T15:22:42.846075500Z",
     "start_time": "2023-11-08T15:22:42.665448800Z"
    }
   },
   "id": "64a88dd40b189570"
  },
  {
   "cell_type": "markdown",
   "source": [
    "##### Periksa Nilai Duplikat"
   ],
   "metadata": {
    "collapsed": false
   },
   "id": "a62a714983a9ac3d"
  },
  {
   "cell_type": "code",
   "execution_count": 107,
   "outputs": [
    {
     "name": "stdout",
     "output_type": "stream",
     "text": [
      "Jumlah duplikasi:  6\n"
     ]
    }
   ],
   "source": [
    "print(\"Jumlah duplikasi: \", customers_df.duplicated().sum())"
   ],
   "metadata": {
    "collapsed": false,
    "ExecuteTime": {
     "end_time": "2023-11-08T15:22:42.846075500Z",
     "start_time": "2023-11-08T15:22:42.677652600Z"
    }
   },
   "id": "5c253c0c1f5c926b"
  },
  {
   "cell_type": "code",
   "execution_count": 108,
   "outputs": [
    {
     "data": {
      "text/plain": "       customer_id          age     zip_code\ncount  1007.000000  1007.000000  1007.000000\nmean    501.726912    50.929494  5012.538232\nstd     288.673238    30.516299  2885.836112\nmin       1.000000    20.000000     2.000000\n25%     252.500000    34.000000  2403.500000\n50%     502.000000    50.000000  5087.000000\n75%     751.500000    65.000000  7493.500000\nmax    1000.000000   700.000000  9998.000000",
      "text/html": "<div>\n<style scoped>\n    .dataframe tbody tr th:only-of-type {\n        vertical-align: middle;\n    }\n\n    .dataframe tbody tr th {\n        vertical-align: top;\n    }\n\n    .dataframe thead th {\n        text-align: right;\n    }\n</style>\n<table border=\"1\" class=\"dataframe\">\n  <thead>\n    <tr style=\"text-align: right;\">\n      <th></th>\n      <th>customer_id</th>\n      <th>age</th>\n      <th>zip_code</th>\n    </tr>\n  </thead>\n  <tbody>\n    <tr>\n      <th>count</th>\n      <td>1007.000000</td>\n      <td>1007.000000</td>\n      <td>1007.000000</td>\n    </tr>\n    <tr>\n      <th>mean</th>\n      <td>501.726912</td>\n      <td>50.929494</td>\n      <td>5012.538232</td>\n    </tr>\n    <tr>\n      <th>std</th>\n      <td>288.673238</td>\n      <td>30.516299</td>\n      <td>2885.836112</td>\n    </tr>\n    <tr>\n      <th>min</th>\n      <td>1.000000</td>\n      <td>20.000000</td>\n      <td>2.000000</td>\n    </tr>\n    <tr>\n      <th>25%</th>\n      <td>252.500000</td>\n      <td>34.000000</td>\n      <td>2403.500000</td>\n    </tr>\n    <tr>\n      <th>50%</th>\n      <td>502.000000</td>\n      <td>50.000000</td>\n      <td>5087.000000</td>\n    </tr>\n    <tr>\n      <th>75%</th>\n      <td>751.500000</td>\n      <td>65.000000</td>\n      <td>7493.500000</td>\n    </tr>\n    <tr>\n      <th>max</th>\n      <td>1000.000000</td>\n      <td>700.000000</td>\n      <td>9998.000000</td>\n    </tr>\n  </tbody>\n</table>\n</div>"
     },
     "execution_count": 108,
     "metadata": {},
     "output_type": "execute_result"
    }
   ],
   "source": [
    "customers_df.describe()"
   ],
   "metadata": {
    "collapsed": false,
    "ExecuteTime": {
     "end_time": "2023-11-08T15:22:42.846075500Z",
     "start_time": "2023-11-08T15:22:42.697381900Z"
    }
   },
   "id": "7cd91ba297e8ea65"
  },
  {
   "cell_type": "markdown",
   "source": [
    "#### MENILAI DATA ORDERS"
   ],
   "metadata": {
    "collapsed": false
   },
   "id": "ab03d17e0b14bd00"
  },
  {
   "cell_type": "code",
   "execution_count": 109,
   "outputs": [
    {
     "name": "stdout",
     "output_type": "stream",
     "text": [
      "<class 'pandas.core.frame.DataFrame'>\n",
      "RangeIndex: 1000 entries, 0 to 999\n",
      "Data columns (total 5 columns):\n",
      " #   Column         Non-Null Count  Dtype \n",
      "---  ------         --------------  ----- \n",
      " 0   order_id       1000 non-null   int64 \n",
      " 1   customer_id    1000 non-null   int64 \n",
      " 2   payment        1000 non-null   int64 \n",
      " 3   order_date     1000 non-null   object\n",
      " 4   delivery_date  1000 non-null   object\n",
      "dtypes: int64(3), object(2)\n",
      "memory usage: 39.2+ KB\n"
     ]
    }
   ],
   "source": [
    "orders_df.info()"
   ],
   "metadata": {
    "collapsed": false,
    "ExecuteTime": {
     "end_time": "2023-11-08T15:22:42.846075500Z",
     "start_time": "2023-11-08T15:22:42.729617600Z"
    }
   },
   "id": "454ef9efdca89e02"
  },
  {
   "cell_type": "markdown",
   "source": [
    "##### PERIKSA NILAI DUPLIKAT DAN CETAK RINGKASAN PARAMETER STATISTIK"
   ],
   "metadata": {
    "collapsed": false
   },
   "id": "18d79b224c659f73"
  },
  {
   "cell_type": "code",
   "execution_count": 110,
   "outputs": [
    {
     "name": "stdout",
     "output_type": "stream",
     "text": [
      "Jumlah Duplikasi:  0\n"
     ]
    },
    {
     "data": {
      "text/plain": "          order_id  customer_id       payment\ncount  1000.000000  1000.000000   1000.000000\nmean    500.500000   506.640000  33972.936000\nstd     288.819436   277.115502  14451.609047\nmin       1.000000     1.000000  10043.000000\n25%     250.750000   275.250000  21329.250000\n50%     500.500000   515.000000  33697.500000\n75%     750.250000   737.250000  46249.000000\nmax    1000.000000  1000.000000  59910.000000",
      "text/html": "<div>\n<style scoped>\n    .dataframe tbody tr th:only-of-type {\n        vertical-align: middle;\n    }\n\n    .dataframe tbody tr th {\n        vertical-align: top;\n    }\n\n    .dataframe thead th {\n        text-align: right;\n    }\n</style>\n<table border=\"1\" class=\"dataframe\">\n  <thead>\n    <tr style=\"text-align: right;\">\n      <th></th>\n      <th>order_id</th>\n      <th>customer_id</th>\n      <th>payment</th>\n    </tr>\n  </thead>\n  <tbody>\n    <tr>\n      <th>count</th>\n      <td>1000.000000</td>\n      <td>1000.000000</td>\n      <td>1000.000000</td>\n    </tr>\n    <tr>\n      <th>mean</th>\n      <td>500.500000</td>\n      <td>506.640000</td>\n      <td>33972.936000</td>\n    </tr>\n    <tr>\n      <th>std</th>\n      <td>288.819436</td>\n      <td>277.115502</td>\n      <td>14451.609047</td>\n    </tr>\n    <tr>\n      <th>min</th>\n      <td>1.000000</td>\n      <td>1.000000</td>\n      <td>10043.000000</td>\n    </tr>\n    <tr>\n      <th>25%</th>\n      <td>250.750000</td>\n      <td>275.250000</td>\n      <td>21329.250000</td>\n    </tr>\n    <tr>\n      <th>50%</th>\n      <td>500.500000</td>\n      <td>515.000000</td>\n      <td>33697.500000</td>\n    </tr>\n    <tr>\n      <th>75%</th>\n      <td>750.250000</td>\n      <td>737.250000</td>\n      <td>46249.000000</td>\n    </tr>\n    <tr>\n      <th>max</th>\n      <td>1000.000000</td>\n      <td>1000.000000</td>\n      <td>59910.000000</td>\n    </tr>\n  </tbody>\n</table>\n</div>"
     },
     "execution_count": 110,
     "metadata": {},
     "output_type": "execute_result"
    }
   ],
   "source": [
    "print(\"Jumlah Duplikasi: \",orders_df.duplicated().sum())\n",
    "orders_df.describe()"
   ],
   "metadata": {
    "collapsed": false,
    "ExecuteTime": {
     "end_time": "2023-11-08T15:22:42.846075500Z",
     "start_time": "2023-11-08T15:22:42.746838100Z"
    }
   },
   "id": "72aa65652ee9ed76"
  },
  {
   "cell_type": "markdown",
   "source": [
    "#### MENILAI DATA SALES"
   ],
   "metadata": {
    "collapsed": false
   },
   "id": "bc5aa08a19262a39"
  },
  {
   "cell_type": "code",
   "execution_count": 111,
   "outputs": [
    {
     "name": "stdout",
     "output_type": "stream",
     "text": [
      "<class 'pandas.core.frame.DataFrame'>\n",
      "RangeIndex: 5000 entries, 0 to 4999\n",
      "Data columns (total 6 columns):\n",
      " #   Column          Non-Null Count  Dtype  \n",
      "---  ------          --------------  -----  \n",
      " 0   sales_id        5000 non-null   int64  \n",
      " 1   order_id        5000 non-null   int64  \n",
      " 2   product_id      5000 non-null   int64  \n",
      " 3   price_per_unit  5000 non-null   int64  \n",
      " 4   quantity        5000 non-null   int64  \n",
      " 5   total_price     4981 non-null   float64\n",
      "dtypes: float64(1), int64(5)\n",
      "memory usage: 234.5 KB\n"
     ]
    }
   ],
   "source": [
    "sales_df.info()"
   ],
   "metadata": {
    "collapsed": false,
    "ExecuteTime": {
     "end_time": "2023-11-08T15:22:42.846075500Z",
     "start_time": "2023-11-08T15:22:42.782675400Z"
    }
   },
   "id": "67dfd3127f853bb5"
  },
  {
   "cell_type": "code",
   "execution_count": null,
   "outputs": [],
   "source": [],
   "metadata": {
    "collapsed": false
   },
   "id": "e504c6e51614cc5c"
  }
 ],
 "metadata": {
  "kernelspec": {
   "display_name": "Python 3",
   "language": "python",
   "name": "python3"
  },
  "language_info": {
   "codemirror_mode": {
    "name": "ipython",
    "version": 2
   },
   "file_extension": ".py",
   "mimetype": "text/x-python",
   "name": "python",
   "nbconvert_exporter": "python",
   "pygments_lexer": "ipython2",
   "version": "2.7.6"
  }
 },
 "nbformat": 4,
 "nbformat_minor": 5
}
