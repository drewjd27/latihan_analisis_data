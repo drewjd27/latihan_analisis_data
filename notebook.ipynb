{
 "cells": [
  {
   "cell_type": "code",
   "execution_count": 147,
   "outputs": [],
   "source": [
    "import numpy as np\n",
    "import pandas as pd\n",
    "import matplotlib.pyplot as plt\n",
    "import seaborn as sns"
   ],
   "metadata": {
    "collapsed": false,
    "ExecuteTime": {
     "end_time": "2023-12-09T02:40:48.581216300Z",
     "start_time": "2023-12-09T02:40:47.228630500Z"
    }
   },
   "id": "738aee66cc94b475"
  },
  {
   "cell_type": "markdown",
   "source": [],
   "metadata": {
    "collapsed": false
   },
   "id": "4c0713ae2cfa2c1e"
  },
  {
   "cell_type": "markdown",
   "source": [
    "# DATA WRANGLING"
   ],
   "metadata": {
    "collapsed": false
   },
   "id": "166093a46e8a6546"
  },
  {
   "cell_type": "markdown",
   "source": [
    "## GATHERING DATA"
   ],
   "metadata": {
    "collapsed": false
   },
   "id": "619b7e3516d728c4"
  },
  {
   "cell_type": "markdown",
   "source": [
    "#### LOAD TABEL CUSTOMERS"
   ],
   "metadata": {
    "collapsed": false
   },
   "id": "fb0a35aa3292eb00"
  },
  {
   "cell_type": "code",
   "execution_count": 148,
   "outputs": [
    {
     "data": {
      "text/plain": "   customer_id customer_name             gender  age  \\\n0            1       fulan 1             Female   30   \n1            2       fulan 2  Prefer not to say   69   \n2            3       fulan 3  Prefer not to say   59   \n3            4       fulan 4  Prefer not to say   67   \n4            5       fulan 5  Prefer not to say   30   \n\n                     home_address  zip_code               city  \\\n0  8606 Victoria TerraceSuite 560      5464      Johnstonhaven   \n1      8327 Kirlin SummitApt. 461      8223    New Zacharyfort   \n2       269 Gemma SummitSuite 109      5661           Aliburgh   \n3       743 Bailey GroveSuite 141      1729  South Justinhaven   \n4         48 Hyatt ManorSuite 375      4032     Griffithsshire   \n\n                          state    country  \n0            Northern Territory  Australia  \n1               South Australia  Australia  \n2  Australian Capital Territory  Australia  \n3                    Queensland  Australia  \n4                    Queensland  Australia  ",
      "text/html": "<div>\n<style scoped>\n    .dataframe tbody tr th:only-of-type {\n        vertical-align: middle;\n    }\n\n    .dataframe tbody tr th {\n        vertical-align: top;\n    }\n\n    .dataframe thead th {\n        text-align: right;\n    }\n</style>\n<table border=\"1\" class=\"dataframe\">\n  <thead>\n    <tr style=\"text-align: right;\">\n      <th></th>\n      <th>customer_id</th>\n      <th>customer_name</th>\n      <th>gender</th>\n      <th>age</th>\n      <th>home_address</th>\n      <th>zip_code</th>\n      <th>city</th>\n      <th>state</th>\n      <th>country</th>\n    </tr>\n  </thead>\n  <tbody>\n    <tr>\n      <th>0</th>\n      <td>1</td>\n      <td>fulan 1</td>\n      <td>Female</td>\n      <td>30</td>\n      <td>8606 Victoria TerraceSuite 560</td>\n      <td>5464</td>\n      <td>Johnstonhaven</td>\n      <td>Northern Territory</td>\n      <td>Australia</td>\n    </tr>\n    <tr>\n      <th>1</th>\n      <td>2</td>\n      <td>fulan 2</td>\n      <td>Prefer not to say</td>\n      <td>69</td>\n      <td>8327 Kirlin SummitApt. 461</td>\n      <td>8223</td>\n      <td>New Zacharyfort</td>\n      <td>South Australia</td>\n      <td>Australia</td>\n    </tr>\n    <tr>\n      <th>2</th>\n      <td>3</td>\n      <td>fulan 3</td>\n      <td>Prefer not to say</td>\n      <td>59</td>\n      <td>269 Gemma SummitSuite 109</td>\n      <td>5661</td>\n      <td>Aliburgh</td>\n      <td>Australian Capital Territory</td>\n      <td>Australia</td>\n    </tr>\n    <tr>\n      <th>3</th>\n      <td>4</td>\n      <td>fulan 4</td>\n      <td>Prefer not to say</td>\n      <td>67</td>\n      <td>743 Bailey GroveSuite 141</td>\n      <td>1729</td>\n      <td>South Justinhaven</td>\n      <td>Queensland</td>\n      <td>Australia</td>\n    </tr>\n    <tr>\n      <th>4</th>\n      <td>5</td>\n      <td>fulan 5</td>\n      <td>Prefer not to say</td>\n      <td>30</td>\n      <td>48 Hyatt ManorSuite 375</td>\n      <td>4032</td>\n      <td>Griffithsshire</td>\n      <td>Queensland</td>\n      <td>Australia</td>\n    </tr>\n  </tbody>\n</table>\n</div>"
     },
     "execution_count": 148,
     "metadata": {},
     "output_type": "execute_result"
    }
   ],
   "source": [
    "customers_df = pd.read_csv(\"./customers.csv\")\n",
    "customers_df.head()"
   ],
   "metadata": {
    "collapsed": false,
    "ExecuteTime": {
     "end_time": "2023-12-09T02:40:48.720538400Z",
     "start_time": "2023-12-09T02:40:48.573654100Z"
    }
   },
   "id": "9ac6ae890f786a4c"
  },
  {
   "cell_type": "markdown",
   "source": [],
   "metadata": {
    "collapsed": false
   },
   "id": "7ace1bd62068dfeb"
  },
  {
   "cell_type": "markdown",
   "source": [
    "#### LOAD TABEL ORDERS"
   ],
   "metadata": {
    "collapsed": false
   },
   "id": "33d694e2b4c4c046"
  },
  {
   "cell_type": "code",
   "execution_count": 149,
   "outputs": [
    {
     "data": {
      "text/plain": "   order_id  customer_id  payment order_date delivery_date\n0         1           64    30811  2021-8-30    2021-09-24\n1         2          473    50490   2021-2-3    2021-02-13\n2         3          774    46763  2021-10-8    2021-11-03\n3         4          433    39782   2021-5-6    2021-05-19\n4         5          441    14719  2021-3-23    2021-03-24",
      "text/html": "<div>\n<style scoped>\n    .dataframe tbody tr th:only-of-type {\n        vertical-align: middle;\n    }\n\n    .dataframe tbody tr th {\n        vertical-align: top;\n    }\n\n    .dataframe thead th {\n        text-align: right;\n    }\n</style>\n<table border=\"1\" class=\"dataframe\">\n  <thead>\n    <tr style=\"text-align: right;\">\n      <th></th>\n      <th>order_id</th>\n      <th>customer_id</th>\n      <th>payment</th>\n      <th>order_date</th>\n      <th>delivery_date</th>\n    </tr>\n  </thead>\n  <tbody>\n    <tr>\n      <th>0</th>\n      <td>1</td>\n      <td>64</td>\n      <td>30811</td>\n      <td>2021-8-30</td>\n      <td>2021-09-24</td>\n    </tr>\n    <tr>\n      <th>1</th>\n      <td>2</td>\n      <td>473</td>\n      <td>50490</td>\n      <td>2021-2-3</td>\n      <td>2021-02-13</td>\n    </tr>\n    <tr>\n      <th>2</th>\n      <td>3</td>\n      <td>774</td>\n      <td>46763</td>\n      <td>2021-10-8</td>\n      <td>2021-11-03</td>\n    </tr>\n    <tr>\n      <th>3</th>\n      <td>4</td>\n      <td>433</td>\n      <td>39782</td>\n      <td>2021-5-6</td>\n      <td>2021-05-19</td>\n    </tr>\n    <tr>\n      <th>4</th>\n      <td>5</td>\n      <td>441</td>\n      <td>14719</td>\n      <td>2021-3-23</td>\n      <td>2021-03-24</td>\n    </tr>\n  </tbody>\n</table>\n</div>"
     },
     "execution_count": 149,
     "metadata": {},
     "output_type": "execute_result"
    }
   ],
   "source": [
    "# LOAD TABEL ORDERS\n",
    "orders_df = pd.read_csv(\"./orders.csv\")\n",
    "orders_df.head()"
   ],
   "metadata": {
    "collapsed": false,
    "ExecuteTime": {
     "end_time": "2023-12-09T02:40:48.765916600Z",
     "start_time": "2023-12-09T02:40:48.635299600Z"
    }
   },
   "id": "c967589b2724c8cf"
  },
  {
   "cell_type": "markdown",
   "source": [],
   "metadata": {
    "collapsed": false
   },
   "id": "67c99755bc1f5b76"
  },
  {
   "cell_type": "markdown",
   "source": [
    "##### LOAD TABEL PRODUCT"
   ],
   "metadata": {
    "collapsed": false
   },
   "id": "b0cae26ef7fedd61"
  },
  {
   "cell_type": "code",
   "execution_count": 150,
   "outputs": [
    {
     "data": {
      "text/plain": "   product_id product_type  product_name size colour  price  quantity  \\\n0           0        Shirt  Oxford Cloth   XS    red    114        66   \n1           1        Shirt  Oxford Cloth    S    red    114        53   \n2           2        Shirt  Oxford Cloth    M    red    114        54   \n3           3        Shirt  Oxford Cloth    L    red    114        69   \n4           4        Shirt  Oxford Cloth   XL    red    114        47   \n\n                                    description  \n0  A red coloured, XS sized, Oxford Cloth Shirt  \n1   A red coloured, S sized, Oxford Cloth Shirt  \n2   A red coloured, M sized, Oxford Cloth Shirt  \n3   A red coloured, L sized, Oxford Cloth Shirt  \n4  A red coloured, XL sized, Oxford Cloth Shirt  ",
      "text/html": "<div>\n<style scoped>\n    .dataframe tbody tr th:only-of-type {\n        vertical-align: middle;\n    }\n\n    .dataframe tbody tr th {\n        vertical-align: top;\n    }\n\n    .dataframe thead th {\n        text-align: right;\n    }\n</style>\n<table border=\"1\" class=\"dataframe\">\n  <thead>\n    <tr style=\"text-align: right;\">\n      <th></th>\n      <th>product_id</th>\n      <th>product_type</th>\n      <th>product_name</th>\n      <th>size</th>\n      <th>colour</th>\n      <th>price</th>\n      <th>quantity</th>\n      <th>description</th>\n    </tr>\n  </thead>\n  <tbody>\n    <tr>\n      <th>0</th>\n      <td>0</td>\n      <td>Shirt</td>\n      <td>Oxford Cloth</td>\n      <td>XS</td>\n      <td>red</td>\n      <td>114</td>\n      <td>66</td>\n      <td>A red coloured, XS sized, Oxford Cloth Shirt</td>\n    </tr>\n    <tr>\n      <th>1</th>\n      <td>1</td>\n      <td>Shirt</td>\n      <td>Oxford Cloth</td>\n      <td>S</td>\n      <td>red</td>\n      <td>114</td>\n      <td>53</td>\n      <td>A red coloured, S sized, Oxford Cloth Shirt</td>\n    </tr>\n    <tr>\n      <th>2</th>\n      <td>2</td>\n      <td>Shirt</td>\n      <td>Oxford Cloth</td>\n      <td>M</td>\n      <td>red</td>\n      <td>114</td>\n      <td>54</td>\n      <td>A red coloured, M sized, Oxford Cloth Shirt</td>\n    </tr>\n    <tr>\n      <th>3</th>\n      <td>3</td>\n      <td>Shirt</td>\n      <td>Oxford Cloth</td>\n      <td>L</td>\n      <td>red</td>\n      <td>114</td>\n      <td>69</td>\n      <td>A red coloured, L sized, Oxford Cloth Shirt</td>\n    </tr>\n    <tr>\n      <th>4</th>\n      <td>4</td>\n      <td>Shirt</td>\n      <td>Oxford Cloth</td>\n      <td>XL</td>\n      <td>red</td>\n      <td>114</td>\n      <td>47</td>\n      <td>A red coloured, XL sized, Oxford Cloth Shirt</td>\n    </tr>\n  </tbody>\n</table>\n</div>"
     },
     "execution_count": 150,
     "metadata": {},
     "output_type": "execute_result"
    }
   ],
   "source": [
    "# LOAD TABEL PRODUCT\n",
    "product_df = pd.read_csv(\"./products.csv\")\n",
    "product_df.head()"
   ],
   "metadata": {
    "collapsed": false,
    "ExecuteTime": {
     "end_time": "2023-12-09T02:40:48.934109700Z",
     "start_time": "2023-12-09T02:40:48.762742300Z"
    }
   },
   "id": "6dbe124c51e586e6"
  },
  {
   "cell_type": "markdown",
   "source": [],
   "metadata": {
    "collapsed": false
   },
   "id": "71f22655263ec5c0"
  },
  {
   "cell_type": "markdown",
   "source": [
    "#### LOAD TABEL SALES"
   ],
   "metadata": {
    "collapsed": false
   },
   "id": "1a57da634390f7bb"
  },
  {
   "cell_type": "code",
   "execution_count": 151,
   "outputs": [
    {
     "data": {
      "text/plain": "   sales_id  order_id  product_id  price_per_unit  quantity  total_price\n0         0         1         218             106         2        212.0\n1         1         1         481             118         1        118.0\n2         2         1           2              96         3        288.0\n3         3         1        1002             106         2        212.0\n4         4         1         691             113         3        339.0",
      "text/html": "<div>\n<style scoped>\n    .dataframe tbody tr th:only-of-type {\n        vertical-align: middle;\n    }\n\n    .dataframe tbody tr th {\n        vertical-align: top;\n    }\n\n    .dataframe thead th {\n        text-align: right;\n    }\n</style>\n<table border=\"1\" class=\"dataframe\">\n  <thead>\n    <tr style=\"text-align: right;\">\n      <th></th>\n      <th>sales_id</th>\n      <th>order_id</th>\n      <th>product_id</th>\n      <th>price_per_unit</th>\n      <th>quantity</th>\n      <th>total_price</th>\n    </tr>\n  </thead>\n  <tbody>\n    <tr>\n      <th>0</th>\n      <td>0</td>\n      <td>1</td>\n      <td>218</td>\n      <td>106</td>\n      <td>2</td>\n      <td>212.0</td>\n    </tr>\n    <tr>\n      <th>1</th>\n      <td>1</td>\n      <td>1</td>\n      <td>481</td>\n      <td>118</td>\n      <td>1</td>\n      <td>118.0</td>\n    </tr>\n    <tr>\n      <th>2</th>\n      <td>2</td>\n      <td>1</td>\n      <td>2</td>\n      <td>96</td>\n      <td>3</td>\n      <td>288.0</td>\n    </tr>\n    <tr>\n      <th>3</th>\n      <td>3</td>\n      <td>1</td>\n      <td>1002</td>\n      <td>106</td>\n      <td>2</td>\n      <td>212.0</td>\n    </tr>\n    <tr>\n      <th>4</th>\n      <td>4</td>\n      <td>1</td>\n      <td>691</td>\n      <td>113</td>\n      <td>3</td>\n      <td>339.0</td>\n    </tr>\n  </tbody>\n</table>\n</div>"
     },
     "execution_count": 151,
     "metadata": {},
     "output_type": "execute_result"
    }
   ],
   "source": [
    "# LOAD TABEL SALES\n",
    "sales_df = pd.read_csv(\"./sales.csv\")\n",
    "sales_df.head()"
   ],
   "metadata": {
    "collapsed": false,
    "ExecuteTime": {
     "end_time": "2023-12-09T02:40:49.171924700Z",
     "start_time": "2023-12-09T02:40:48.861782900Z"
    }
   },
   "id": "f4b13cabffef671a"
  },
  {
   "cell_type": "markdown",
   "source": [],
   "metadata": {
    "collapsed": false
   },
   "id": "322216e3b06ccc8"
  },
  {
   "cell_type": "markdown",
   "source": [
    "## ASSESSING DATA"
   ],
   "metadata": {
    "collapsed": false
   },
   "id": "caa2b5b4bfedbd9e"
  },
  {
   "cell_type": "markdown",
   "source": [
    "#### MENILAI DATA customers_df"
   ],
   "metadata": {
    "collapsed": false
   },
   "id": "30dc97aa9b9c4c0e"
  },
  {
   "cell_type": "code",
   "execution_count": 152,
   "outputs": [
    {
     "name": "stdout",
     "output_type": "stream",
     "text": [
      "<class 'pandas.core.frame.DataFrame'>\n",
      "RangeIndex: 1007 entries, 0 to 1006\n",
      "Data columns (total 9 columns):\n",
      " #   Column         Non-Null Count  Dtype \n",
      "---  ------         --------------  ----- \n",
      " 0   customer_id    1007 non-null   int64 \n",
      " 1   customer_name  1007 non-null   object\n",
      " 2   gender         989 non-null    object\n",
      " 3   age            1007 non-null   int64 \n",
      " 4   home_address   1007 non-null   object\n",
      " 5   zip_code       1007 non-null   int64 \n",
      " 6   city           1007 non-null   object\n",
      " 7   state          1007 non-null   object\n",
      " 8   country        1007 non-null   object\n",
      "dtypes: int64(3), object(6)\n",
      "memory usage: 70.9+ KB\n"
     ]
    }
   ],
   "source": [
    "customers_df.info()"
   ],
   "metadata": {
    "collapsed": false,
    "ExecuteTime": {
     "end_time": "2023-12-09T02:40:49.493868100Z",
     "start_time": "2023-12-09T02:40:49.146948300Z"
    }
   },
   "id": "6659e9d92004cffd"
  },
  {
   "cell_type": "markdown",
   "source": [
    "##### Periksa Missing Values"
   ],
   "metadata": {
    "collapsed": false
   },
   "id": "fb00332cc47df36e"
  },
  {
   "cell_type": "code",
   "execution_count": 153,
   "outputs": [
    {
     "data": {
      "text/plain": "customer_id       0\ncustomer_name     0\ngender           18\nage               0\nhome_address      0\nzip_code          0\ncity              0\nstate             0\ncountry           0\ndtype: int64"
     },
     "execution_count": 153,
     "metadata": {},
     "output_type": "execute_result"
    }
   ],
   "source": [
    "customers_df.isna().sum()"
   ],
   "metadata": {
    "collapsed": false,
    "ExecuteTime": {
     "end_time": "2023-12-09T02:40:49.701083300Z",
     "start_time": "2023-12-09T02:40:49.469053800Z"
    }
   },
   "id": "64a88dd40b189570"
  },
  {
   "cell_type": "markdown",
   "source": [
    "##### Periksa Nilai Duplikat"
   ],
   "metadata": {
    "collapsed": false
   },
   "id": "a62a714983a9ac3d"
  },
  {
   "cell_type": "code",
   "execution_count": 154,
   "outputs": [
    {
     "name": "stdout",
     "output_type": "stream",
     "text": [
      "Jumlah duplikasi:  6\n"
     ]
    }
   ],
   "source": [
    "print(\"Jumlah duplikasi: \", customers_df.duplicated().sum())"
   ],
   "metadata": {
    "collapsed": false,
    "ExecuteTime": {
     "end_time": "2023-12-09T02:40:50.066171Z",
     "start_time": "2023-12-09T02:40:49.626014300Z"
    }
   },
   "id": "5c253c0c1f5c926b"
  },
  {
   "cell_type": "code",
   "execution_count": 155,
   "outputs": [
    {
     "data": {
      "text/plain": "       customer_id          age     zip_code\ncount  1007.000000  1007.000000  1007.000000\nmean    501.726912    50.929494  5012.538232\nstd     288.673238    30.516299  2885.836112\nmin       1.000000    20.000000     2.000000\n25%     252.500000    34.000000  2403.500000\n50%     502.000000    50.000000  5087.000000\n75%     751.500000    65.000000  7493.500000\nmax    1000.000000   700.000000  9998.000000",
      "text/html": "<div>\n<style scoped>\n    .dataframe tbody tr th:only-of-type {\n        vertical-align: middle;\n    }\n\n    .dataframe tbody tr th {\n        vertical-align: top;\n    }\n\n    .dataframe thead th {\n        text-align: right;\n    }\n</style>\n<table border=\"1\" class=\"dataframe\">\n  <thead>\n    <tr style=\"text-align: right;\">\n      <th></th>\n      <th>customer_id</th>\n      <th>age</th>\n      <th>zip_code</th>\n    </tr>\n  </thead>\n  <tbody>\n    <tr>\n      <th>count</th>\n      <td>1007.000000</td>\n      <td>1007.000000</td>\n      <td>1007.000000</td>\n    </tr>\n    <tr>\n      <th>mean</th>\n      <td>501.726912</td>\n      <td>50.929494</td>\n      <td>5012.538232</td>\n    </tr>\n    <tr>\n      <th>std</th>\n      <td>288.673238</td>\n      <td>30.516299</td>\n      <td>2885.836112</td>\n    </tr>\n    <tr>\n      <th>min</th>\n      <td>1.000000</td>\n      <td>20.000000</td>\n      <td>2.000000</td>\n    </tr>\n    <tr>\n      <th>25%</th>\n      <td>252.500000</td>\n      <td>34.000000</td>\n      <td>2403.500000</td>\n    </tr>\n    <tr>\n      <th>50%</th>\n      <td>502.000000</td>\n      <td>50.000000</td>\n      <td>5087.000000</td>\n    </tr>\n    <tr>\n      <th>75%</th>\n      <td>751.500000</td>\n      <td>65.000000</td>\n      <td>7493.500000</td>\n    </tr>\n    <tr>\n      <th>max</th>\n      <td>1000.000000</td>\n      <td>700.000000</td>\n      <td>9998.000000</td>\n    </tr>\n  </tbody>\n</table>\n</div>"
     },
     "execution_count": 155,
     "metadata": {},
     "output_type": "execute_result"
    }
   ],
   "source": [
    "customers_df.describe()"
   ],
   "metadata": {
    "collapsed": false,
    "ExecuteTime": {
     "end_time": "2023-12-09T02:40:50.215578900Z",
     "start_time": "2023-12-09T02:40:50.031038200Z"
    }
   },
   "id": "7cd91ba297e8ea65"
  },
  {
   "cell_type": "markdown",
   "source": [
    "#### MENILAI DATA ORDERS"
   ],
   "metadata": {
    "collapsed": false
   },
   "id": "ab03d17e0b14bd00"
  },
  {
   "cell_type": "code",
   "execution_count": 156,
   "outputs": [
    {
     "name": "stdout",
     "output_type": "stream",
     "text": [
      "<class 'pandas.core.frame.DataFrame'>\n",
      "RangeIndex: 1000 entries, 0 to 999\n",
      "Data columns (total 5 columns):\n",
      " #   Column         Non-Null Count  Dtype \n",
      "---  ------         --------------  ----- \n",
      " 0   order_id       1000 non-null   int64 \n",
      " 1   customer_id    1000 non-null   int64 \n",
      " 2   payment        1000 non-null   int64 \n",
      " 3   order_date     1000 non-null   object\n",
      " 4   delivery_date  1000 non-null   object\n",
      "dtypes: int64(3), object(2)\n",
      "memory usage: 39.2+ KB\n"
     ]
    }
   ],
   "source": [
    "orders_df.info()"
   ],
   "metadata": {
    "collapsed": false,
    "ExecuteTime": {
     "end_time": "2023-12-09T02:40:50.343879500Z",
     "start_time": "2023-12-09T02:40:50.151451500Z"
    }
   },
   "id": "454ef9efdca89e02"
  },
  {
   "cell_type": "markdown",
   "source": [
    "##### PERIKSA NILAI DUPLIKAT DAN CETAK RINGKASAN PARAMETER STATISTIK"
   ],
   "metadata": {
    "collapsed": false
   },
   "id": "18d79b224c659f73"
  },
  {
   "cell_type": "code",
   "execution_count": 157,
   "outputs": [
    {
     "name": "stdout",
     "output_type": "stream",
     "text": [
      "Jumlah Duplikasi:  0\n"
     ]
    },
    {
     "data": {
      "text/plain": "          order_id  customer_id       payment\ncount  1000.000000  1000.000000   1000.000000\nmean    500.500000   506.640000  33972.936000\nstd     288.819436   277.115502  14451.609047\nmin       1.000000     1.000000  10043.000000\n25%     250.750000   275.250000  21329.250000\n50%     500.500000   515.000000  33697.500000\n75%     750.250000   737.250000  46249.000000\nmax    1000.000000  1000.000000  59910.000000",
      "text/html": "<div>\n<style scoped>\n    .dataframe tbody tr th:only-of-type {\n        vertical-align: middle;\n    }\n\n    .dataframe tbody tr th {\n        vertical-align: top;\n    }\n\n    .dataframe thead th {\n        text-align: right;\n    }\n</style>\n<table border=\"1\" class=\"dataframe\">\n  <thead>\n    <tr style=\"text-align: right;\">\n      <th></th>\n      <th>order_id</th>\n      <th>customer_id</th>\n      <th>payment</th>\n    </tr>\n  </thead>\n  <tbody>\n    <tr>\n      <th>count</th>\n      <td>1000.000000</td>\n      <td>1000.000000</td>\n      <td>1000.000000</td>\n    </tr>\n    <tr>\n      <th>mean</th>\n      <td>500.500000</td>\n      <td>506.640000</td>\n      <td>33972.936000</td>\n    </tr>\n    <tr>\n      <th>std</th>\n      <td>288.819436</td>\n      <td>277.115502</td>\n      <td>14451.609047</td>\n    </tr>\n    <tr>\n      <th>min</th>\n      <td>1.000000</td>\n      <td>1.000000</td>\n      <td>10043.000000</td>\n    </tr>\n    <tr>\n      <th>25%</th>\n      <td>250.750000</td>\n      <td>275.250000</td>\n      <td>21329.250000</td>\n    </tr>\n    <tr>\n      <th>50%</th>\n      <td>500.500000</td>\n      <td>515.000000</td>\n      <td>33697.500000</td>\n    </tr>\n    <tr>\n      <th>75%</th>\n      <td>750.250000</td>\n      <td>737.250000</td>\n      <td>46249.000000</td>\n    </tr>\n    <tr>\n      <th>max</th>\n      <td>1000.000000</td>\n      <td>1000.000000</td>\n      <td>59910.000000</td>\n    </tr>\n  </tbody>\n</table>\n</div>"
     },
     "execution_count": 157,
     "metadata": {},
     "output_type": "execute_result"
    }
   ],
   "source": [
    "print(\"Jumlah Duplikasi: \", orders_df.duplicated().sum())\n",
    "orders_df.describe()"
   ],
   "metadata": {
    "collapsed": false,
    "ExecuteTime": {
     "end_time": "2023-12-09T02:40:50.566968100Z",
     "start_time": "2023-12-09T02:40:50.340588500Z"
    }
   },
   "id": "72aa65652ee9ed76"
  },
  {
   "cell_type": "markdown",
   "source": [
    "#### MENILAI DATA PRODUCT"
   ],
   "metadata": {
    "collapsed": false
   },
   "id": "bc5aa08a19262a39"
  },
  {
   "cell_type": "code",
   "execution_count": 158,
   "outputs": [
    {
     "name": "stdout",
     "output_type": "stream",
     "text": [
      "<class 'pandas.core.frame.DataFrame'>\n",
      "RangeIndex: 1266 entries, 0 to 1265\n",
      "Data columns (total 8 columns):\n",
      " #   Column        Non-Null Count  Dtype \n",
      "---  ------        --------------  ----- \n",
      " 0   product_id    1266 non-null   int64 \n",
      " 1   product_type  1266 non-null   object\n",
      " 2   product_name  1266 non-null   object\n",
      " 3   size          1266 non-null   object\n",
      " 4   colour        1266 non-null   object\n",
      " 5   price         1266 non-null   int64 \n",
      " 6   quantity      1266 non-null   int64 \n",
      " 7   description   1266 non-null   object\n",
      "dtypes: int64(3), object(5)\n",
      "memory usage: 79.2+ KB\n"
     ]
    }
   ],
   "source": [
    "product_df.info()"
   ],
   "metadata": {
    "collapsed": false,
    "ExecuteTime": {
     "end_time": "2023-12-09T02:40:50.704162500Z",
     "start_time": "2023-12-09T02:40:50.531794400Z"
    }
   },
   "id": "67dfd3127f853bb5"
  },
  {
   "cell_type": "markdown",
   "source": [
    "##### PERIKSA DATA DUPLIKAT DAN CETAK RANGKUMAN PARAMETER STATISTIK"
   ],
   "metadata": {
    "collapsed": false
   },
   "id": "a22131d2a5cfbae7"
  },
  {
   "cell_type": "code",
   "execution_count": 159,
   "outputs": [
    {
     "name": "stdout",
     "output_type": "stream",
     "text": [
      "Jumlah duplikasi:  6\n"
     ]
    },
    {
     "data": {
      "text/plain": "        product_id        price     quantity\ncount  1266.000000  1266.000000  1266.000000\nmean    627.926540   105.812006    60.138231\nstd     363.971586     9.715611    11.682791\nmin       0.000000    90.000000    40.000000\n25%     313.250000    95.250000    50.000000\n50%     626.500000   109.000000    60.000000\n75%     942.750000   114.000000    70.000000\nmax    1259.000000   119.000000    80.000000",
      "text/html": "<div>\n<style scoped>\n    .dataframe tbody tr th:only-of-type {\n        vertical-align: middle;\n    }\n\n    .dataframe tbody tr th {\n        vertical-align: top;\n    }\n\n    .dataframe thead th {\n        text-align: right;\n    }\n</style>\n<table border=\"1\" class=\"dataframe\">\n  <thead>\n    <tr style=\"text-align: right;\">\n      <th></th>\n      <th>product_id</th>\n      <th>price</th>\n      <th>quantity</th>\n    </tr>\n  </thead>\n  <tbody>\n    <tr>\n      <th>count</th>\n      <td>1266.000000</td>\n      <td>1266.000000</td>\n      <td>1266.000000</td>\n    </tr>\n    <tr>\n      <th>mean</th>\n      <td>627.926540</td>\n      <td>105.812006</td>\n      <td>60.138231</td>\n    </tr>\n    <tr>\n      <th>std</th>\n      <td>363.971586</td>\n      <td>9.715611</td>\n      <td>11.682791</td>\n    </tr>\n    <tr>\n      <th>min</th>\n      <td>0.000000</td>\n      <td>90.000000</td>\n      <td>40.000000</td>\n    </tr>\n    <tr>\n      <th>25%</th>\n      <td>313.250000</td>\n      <td>95.250000</td>\n      <td>50.000000</td>\n    </tr>\n    <tr>\n      <th>50%</th>\n      <td>626.500000</td>\n      <td>109.000000</td>\n      <td>60.000000</td>\n    </tr>\n    <tr>\n      <th>75%</th>\n      <td>942.750000</td>\n      <td>114.000000</td>\n      <td>70.000000</td>\n    </tr>\n    <tr>\n      <th>max</th>\n      <td>1259.000000</td>\n      <td>119.000000</td>\n      <td>80.000000</td>\n    </tr>\n  </tbody>\n</table>\n</div>"
     },
     "execution_count": 159,
     "metadata": {},
     "output_type": "execute_result"
    }
   ],
   "source": [
    "print(\"Jumlah duplikasi: \", product_df.duplicated().sum())\n",
    "product_df.describe()"
   ],
   "metadata": {
    "collapsed": false,
    "ExecuteTime": {
     "end_time": "2023-12-09T02:40:50.967065500Z",
     "start_time": "2023-12-09T02:40:50.673423100Z"
    }
   },
   "id": "e504c6e51614cc5c"
  },
  {
   "cell_type": "markdown",
   "source": [
    "#### MENILAI DATA SALES"
   ],
   "metadata": {
    "collapsed": false
   },
   "id": "fec107551277904a"
  },
  {
   "cell_type": "code",
   "execution_count": 160,
   "outputs": [
    {
     "name": "stdout",
     "output_type": "stream",
     "text": [
      "<class 'pandas.core.frame.DataFrame'>\n",
      "RangeIndex: 5000 entries, 0 to 4999\n",
      "Data columns (total 6 columns):\n",
      " #   Column          Non-Null Count  Dtype  \n",
      "---  ------          --------------  -----  \n",
      " 0   sales_id        5000 non-null   int64  \n",
      " 1   order_id        5000 non-null   int64  \n",
      " 2   product_id      5000 non-null   int64  \n",
      " 3   price_per_unit  5000 non-null   int64  \n",
      " 4   quantity        5000 non-null   int64  \n",
      " 5   total_price     4981 non-null   float64\n",
      "dtypes: float64(1), int64(5)\n",
      "memory usage: 234.5 KB\n"
     ]
    }
   ],
   "source": [
    "sales_df.info()"
   ],
   "metadata": {
    "collapsed": false,
    "ExecuteTime": {
     "end_time": "2023-12-09T02:40:51.061534100Z",
     "start_time": "2023-12-09T02:40:50.935964700Z"
    }
   },
   "id": "7304287f98e0ced8"
  },
  {
   "cell_type": "markdown",
   "source": [
    "##### PERIKSA DATA MISSING VALUE"
   ],
   "metadata": {
    "collapsed": false
   },
   "id": "7479caeb678d6cb7"
  },
  {
   "cell_type": "code",
   "execution_count": 161,
   "outputs": [
    {
     "data": {
      "text/plain": "sales_id           0\norder_id           0\nproduct_id         0\nprice_per_unit     0\nquantity           0\ntotal_price       19\ndtype: int64"
     },
     "execution_count": 161,
     "metadata": {},
     "output_type": "execute_result"
    }
   ],
   "source": [
    "sales_df.isna().sum()"
   ],
   "metadata": {
    "collapsed": false,
    "ExecuteTime": {
     "end_time": "2023-12-09T02:40:51.345041800Z",
     "start_time": "2023-12-09T02:40:51.041345400Z"
    }
   },
   "id": "a62e4206cd1b52a1"
  },
  {
   "cell_type": "markdown",
   "source": [
    "##### PERIKSA DATA DUPLIKAT DAN CETAK RANGKUMAN PARAMETER STATISTIK"
   ],
   "metadata": {
    "collapsed": false
   },
   "id": "f460731555097192"
  },
  {
   "cell_type": "code",
   "execution_count": 162,
   "outputs": [
    {
     "name": "stdout",
     "output_type": "stream",
     "text": [
      "Jumlah duplikasi:  0\n"
     ]
    },
    {
     "data": {
      "text/plain": "          sales_id     order_id   product_id  price_per_unit    quantity  \\\ncount  5000.000000  5000.000000  5000.000000     5000.000000  5000.00000   \nmean   2499.500000   503.038200   634.053200      103.501600     1.99240   \nstd    1443.520003   285.964418   363.255794        9.195004     0.80751   \nmin       0.000000     1.000000     1.000000       90.000000     1.00000   \n25%    1249.750000   258.000000   323.000000       95.000000     1.00000   \n50%    2499.500000   504.500000   635.000000      102.000000     2.00000   \n75%    3749.250000   749.000000   951.000000      112.000000     3.00000   \nmax    4999.000000   999.000000  1259.000000      119.000000     3.00000   \n\n       total_price  \ncount  4981.000000  \nmean    206.307368  \nstd      86.352449  \nmin      90.000000  \n25%     112.000000  \n50%     204.000000  \n75%     285.000000  \nmax     357.000000  ",
      "text/html": "<div>\n<style scoped>\n    .dataframe tbody tr th:only-of-type {\n        vertical-align: middle;\n    }\n\n    .dataframe tbody tr th {\n        vertical-align: top;\n    }\n\n    .dataframe thead th {\n        text-align: right;\n    }\n</style>\n<table border=\"1\" class=\"dataframe\">\n  <thead>\n    <tr style=\"text-align: right;\">\n      <th></th>\n      <th>sales_id</th>\n      <th>order_id</th>\n      <th>product_id</th>\n      <th>price_per_unit</th>\n      <th>quantity</th>\n      <th>total_price</th>\n    </tr>\n  </thead>\n  <tbody>\n    <tr>\n      <th>count</th>\n      <td>5000.000000</td>\n      <td>5000.000000</td>\n      <td>5000.000000</td>\n      <td>5000.000000</td>\n      <td>5000.00000</td>\n      <td>4981.000000</td>\n    </tr>\n    <tr>\n      <th>mean</th>\n      <td>2499.500000</td>\n      <td>503.038200</td>\n      <td>634.053200</td>\n      <td>103.501600</td>\n      <td>1.99240</td>\n      <td>206.307368</td>\n    </tr>\n    <tr>\n      <th>std</th>\n      <td>1443.520003</td>\n      <td>285.964418</td>\n      <td>363.255794</td>\n      <td>9.195004</td>\n      <td>0.80751</td>\n      <td>86.352449</td>\n    </tr>\n    <tr>\n      <th>min</th>\n      <td>0.000000</td>\n      <td>1.000000</td>\n      <td>1.000000</td>\n      <td>90.000000</td>\n      <td>1.00000</td>\n      <td>90.000000</td>\n    </tr>\n    <tr>\n      <th>25%</th>\n      <td>1249.750000</td>\n      <td>258.000000</td>\n      <td>323.000000</td>\n      <td>95.000000</td>\n      <td>1.00000</td>\n      <td>112.000000</td>\n    </tr>\n    <tr>\n      <th>50%</th>\n      <td>2499.500000</td>\n      <td>504.500000</td>\n      <td>635.000000</td>\n      <td>102.000000</td>\n      <td>2.00000</td>\n      <td>204.000000</td>\n    </tr>\n    <tr>\n      <th>75%</th>\n      <td>3749.250000</td>\n      <td>749.000000</td>\n      <td>951.000000</td>\n      <td>112.000000</td>\n      <td>3.00000</td>\n      <td>285.000000</td>\n    </tr>\n    <tr>\n      <th>max</th>\n      <td>4999.000000</td>\n      <td>999.000000</td>\n      <td>1259.000000</td>\n      <td>119.000000</td>\n      <td>3.00000</td>\n      <td>357.000000</td>\n    </tr>\n  </tbody>\n</table>\n</div>"
     },
     "execution_count": 162,
     "metadata": {},
     "output_type": "execute_result"
    }
   ],
   "source": [
    "print(\"Jumlah duplikasi: \", sales_df.duplicated().sum())\n",
    "sales_df.describe()"
   ],
   "metadata": {
    "collapsed": false,
    "ExecuteTime": {
     "end_time": "2023-12-09T02:40:51.617950300Z",
     "start_time": "2023-12-09T02:40:51.305030100Z"
    }
   },
   "id": "7fe270ab08cbcb5f"
  },
  {
   "cell_type": "markdown",
   "source": [
    "# CLEANING DATA"
   ],
   "metadata": {
    "collapsed": false
   },
   "id": "a37456151fc58626"
  },
  {
   "cell_type": "markdown",
   "source": [
    "## Membersihkan Data customer_df"
   ],
   "metadata": {
    "collapsed": false
   },
   "id": "92b0143cca5c7c61"
  },
  {
   "cell_type": "markdown",
   "source": [
    "### Hilangkan Data Duplikat"
   ],
   "metadata": {
    "collapsed": false
   },
   "id": "83418f283fead9a7"
  },
  {
   "cell_type": "code",
   "execution_count": 163,
   "outputs": [
    {
     "name": "stdout",
     "output_type": "stream",
     "text": [
      "Jumlah duplikasi :  0\n"
     ]
    }
   ],
   "source": [
    "customers_df.drop_duplicates(inplace=True)\n",
    "print(\"Jumlah duplikasi : \", customers_df.duplicated().sum())"
   ],
   "metadata": {
    "collapsed": false,
    "ExecuteTime": {
     "end_time": "2023-12-09T02:40:51.710271500Z",
     "start_time": "2023-12-09T02:40:51.507353300Z"
    }
   },
   "id": "6d9822b355ed7401"
  },
  {
   "cell_type": "markdown",
   "source": [
    "### Menangani Missing Value"
   ],
   "metadata": {
    "collapsed": false
   },
   "id": "46929c69d14d0325"
  },
  {
   "cell_type": "markdown",
   "source": [
    "#### Cek missing value pada kolom Gender"
   ],
   "metadata": {
    "collapsed": false
   },
   "id": "b9ccd7aa624ef406"
  },
  {
   "cell_type": "code",
   "execution_count": 164,
   "outputs": [
    {
     "data": {
      "text/plain": "     customer_id customer_name gender  age                     home_address  \\\n38            39      fulan 39    NaN   80  7440 Cameron Estate DrSuite 628   \n167          168     fulan 168    NaN   27         2781 Berge MallSuite 452   \n322          322     fulan 322    NaN   30        593 Becker CircleApt. 333   \n393          393     fulan 393    NaN   34          5158 Levi HillSuite 531   \n442          442     fulan 442    NaN   26           5157 Feil RoadApt. 633   \n722          720     fulan 720    NaN   40         31 Jordan ParadeApt. 400   \n745          743     fulan 743    NaN   57   09 Christopher StreetSuite 967   \n773          771     fulan 771    NaN   74     7367 Wright JunctionApt. 773   \n798          795     fulan 795    NaN   49          487 Summer MewsApt. 874   \n801          798     fulan 798    NaN   56           27 Aiden KnollApt. 875   \n825          822     fulan 822    NaN   59        41 Jenkins KnollSuite 438   \n859          855     fulan 855    NaN   55       603 O'keefe KnollSuite 782   \n863          859     fulan 859    NaN   38            32 Isla GroveApt. 078   \n914          909     fulan 909    NaN   62    976 Murray Station StApt. 036   \n934          929     fulan 929    NaN   68           394 Lily HillSuite 153   \n948          943     fulan 943    NaN   64       3117 Heller PlaceSuite 149   \n952          946     fulan 946    NaN   24      8227 Nicholas HillSuite 150   \n994          988     fulan 988    NaN   35   1130 Turner Estate DrSuite 925   \n\n     zip_code                   city                         state    country  \n38       4622  North Victoriachester            Northern Territory  Australia  \n167      1975         North Leoburgh             Western Australia  Australia  \n322      1640             Jacobiview             Western Australia  Australia  \n393      1474             Johnsburgh                    Queensland  Australia  \n442      7249             Port Chloe               New South Wales  Australia  \n722      1380             West Henry               South Australia  Australia  \n745      6226         Lake Lukemouth             Western Australia  Australia  \n773      8882               Kuhntown                      Victoria  Australia  \n798      1712            East Hayden  Australian Capital Territory  Australia  \n801      6531               Port Sam  Australian Capital Territory  Australia  \n825      2588        Lake Andrewport               South Australia  Australia  \n859      8822        Port Dylanmouth                      Tasmania  Australia  \n863      7711            Rosechester               New South Wales  Australia  \n914      3227               Langfort                      Tasmania  Australia  \n934      2353             Beahanfurt            Northern Territory  Australia  \n948       822           North Elijah               South Australia  Australia  \n952       115           South Jasper                    Queensland  Australia  \n994      9386              New Harry             Western Australia  Australia  ",
      "text/html": "<div>\n<style scoped>\n    .dataframe tbody tr th:only-of-type {\n        vertical-align: middle;\n    }\n\n    .dataframe tbody tr th {\n        vertical-align: top;\n    }\n\n    .dataframe thead th {\n        text-align: right;\n    }\n</style>\n<table border=\"1\" class=\"dataframe\">\n  <thead>\n    <tr style=\"text-align: right;\">\n      <th></th>\n      <th>customer_id</th>\n      <th>customer_name</th>\n      <th>gender</th>\n      <th>age</th>\n      <th>home_address</th>\n      <th>zip_code</th>\n      <th>city</th>\n      <th>state</th>\n      <th>country</th>\n    </tr>\n  </thead>\n  <tbody>\n    <tr>\n      <th>38</th>\n      <td>39</td>\n      <td>fulan 39</td>\n      <td>NaN</td>\n      <td>80</td>\n      <td>7440 Cameron Estate DrSuite 628</td>\n      <td>4622</td>\n      <td>North Victoriachester</td>\n      <td>Northern Territory</td>\n      <td>Australia</td>\n    </tr>\n    <tr>\n      <th>167</th>\n      <td>168</td>\n      <td>fulan 168</td>\n      <td>NaN</td>\n      <td>27</td>\n      <td>2781 Berge MallSuite 452</td>\n      <td>1975</td>\n      <td>North Leoburgh</td>\n      <td>Western Australia</td>\n      <td>Australia</td>\n    </tr>\n    <tr>\n      <th>322</th>\n      <td>322</td>\n      <td>fulan 322</td>\n      <td>NaN</td>\n      <td>30</td>\n      <td>593 Becker CircleApt. 333</td>\n      <td>1640</td>\n      <td>Jacobiview</td>\n      <td>Western Australia</td>\n      <td>Australia</td>\n    </tr>\n    <tr>\n      <th>393</th>\n      <td>393</td>\n      <td>fulan 393</td>\n      <td>NaN</td>\n      <td>34</td>\n      <td>5158 Levi HillSuite 531</td>\n      <td>1474</td>\n      <td>Johnsburgh</td>\n      <td>Queensland</td>\n      <td>Australia</td>\n    </tr>\n    <tr>\n      <th>442</th>\n      <td>442</td>\n      <td>fulan 442</td>\n      <td>NaN</td>\n      <td>26</td>\n      <td>5157 Feil RoadApt. 633</td>\n      <td>7249</td>\n      <td>Port Chloe</td>\n      <td>New South Wales</td>\n      <td>Australia</td>\n    </tr>\n    <tr>\n      <th>722</th>\n      <td>720</td>\n      <td>fulan 720</td>\n      <td>NaN</td>\n      <td>40</td>\n      <td>31 Jordan ParadeApt. 400</td>\n      <td>1380</td>\n      <td>West Henry</td>\n      <td>South Australia</td>\n      <td>Australia</td>\n    </tr>\n    <tr>\n      <th>745</th>\n      <td>743</td>\n      <td>fulan 743</td>\n      <td>NaN</td>\n      <td>57</td>\n      <td>09 Christopher StreetSuite 967</td>\n      <td>6226</td>\n      <td>Lake Lukemouth</td>\n      <td>Western Australia</td>\n      <td>Australia</td>\n    </tr>\n    <tr>\n      <th>773</th>\n      <td>771</td>\n      <td>fulan 771</td>\n      <td>NaN</td>\n      <td>74</td>\n      <td>7367 Wright JunctionApt. 773</td>\n      <td>8882</td>\n      <td>Kuhntown</td>\n      <td>Victoria</td>\n      <td>Australia</td>\n    </tr>\n    <tr>\n      <th>798</th>\n      <td>795</td>\n      <td>fulan 795</td>\n      <td>NaN</td>\n      <td>49</td>\n      <td>487 Summer MewsApt. 874</td>\n      <td>1712</td>\n      <td>East Hayden</td>\n      <td>Australian Capital Territory</td>\n      <td>Australia</td>\n    </tr>\n    <tr>\n      <th>801</th>\n      <td>798</td>\n      <td>fulan 798</td>\n      <td>NaN</td>\n      <td>56</td>\n      <td>27 Aiden KnollApt. 875</td>\n      <td>6531</td>\n      <td>Port Sam</td>\n      <td>Australian Capital Territory</td>\n      <td>Australia</td>\n    </tr>\n    <tr>\n      <th>825</th>\n      <td>822</td>\n      <td>fulan 822</td>\n      <td>NaN</td>\n      <td>59</td>\n      <td>41 Jenkins KnollSuite 438</td>\n      <td>2588</td>\n      <td>Lake Andrewport</td>\n      <td>South Australia</td>\n      <td>Australia</td>\n    </tr>\n    <tr>\n      <th>859</th>\n      <td>855</td>\n      <td>fulan 855</td>\n      <td>NaN</td>\n      <td>55</td>\n      <td>603 O'keefe KnollSuite 782</td>\n      <td>8822</td>\n      <td>Port Dylanmouth</td>\n      <td>Tasmania</td>\n      <td>Australia</td>\n    </tr>\n    <tr>\n      <th>863</th>\n      <td>859</td>\n      <td>fulan 859</td>\n      <td>NaN</td>\n      <td>38</td>\n      <td>32 Isla GroveApt. 078</td>\n      <td>7711</td>\n      <td>Rosechester</td>\n      <td>New South Wales</td>\n      <td>Australia</td>\n    </tr>\n    <tr>\n      <th>914</th>\n      <td>909</td>\n      <td>fulan 909</td>\n      <td>NaN</td>\n      <td>62</td>\n      <td>976 Murray Station StApt. 036</td>\n      <td>3227</td>\n      <td>Langfort</td>\n      <td>Tasmania</td>\n      <td>Australia</td>\n    </tr>\n    <tr>\n      <th>934</th>\n      <td>929</td>\n      <td>fulan 929</td>\n      <td>NaN</td>\n      <td>68</td>\n      <td>394 Lily HillSuite 153</td>\n      <td>2353</td>\n      <td>Beahanfurt</td>\n      <td>Northern Territory</td>\n      <td>Australia</td>\n    </tr>\n    <tr>\n      <th>948</th>\n      <td>943</td>\n      <td>fulan 943</td>\n      <td>NaN</td>\n      <td>64</td>\n      <td>3117 Heller PlaceSuite 149</td>\n      <td>822</td>\n      <td>North Elijah</td>\n      <td>South Australia</td>\n      <td>Australia</td>\n    </tr>\n    <tr>\n      <th>952</th>\n      <td>946</td>\n      <td>fulan 946</td>\n      <td>NaN</td>\n      <td>24</td>\n      <td>8227 Nicholas HillSuite 150</td>\n      <td>115</td>\n      <td>South Jasper</td>\n      <td>Queensland</td>\n      <td>Australia</td>\n    </tr>\n    <tr>\n      <th>994</th>\n      <td>988</td>\n      <td>fulan 988</td>\n      <td>NaN</td>\n      <td>35</td>\n      <td>1130 Turner Estate DrSuite 925</td>\n      <td>9386</td>\n      <td>New Harry</td>\n      <td>Western Australia</td>\n      <td>Australia</td>\n    </tr>\n  </tbody>\n</table>\n</div>"
     },
     "execution_count": 164,
     "metadata": {},
     "output_type": "execute_result"
    }
   ],
   "source": [
    "customers_df[customers_df.gender.isna()]"
   ],
   "metadata": {
    "collapsed": false,
    "ExecuteTime": {
     "end_time": "2023-12-09T02:40:51.958582300Z",
     "start_time": "2023-12-09T02:40:51.692695500Z"
    }
   },
   "id": "d899242ee29904ab"
  },
  {
   "cell_type": "markdown",
   "source": [
    "#### Gunakan metode imputation karena data yg memiliki missing value penting dan termasuk data kategorial"
   ],
   "metadata": {
    "collapsed": false
   },
   "id": "59911e0c310c6f09"
  },
  {
   "cell_type": "code",
   "execution_count": 165,
   "outputs": [
    {
     "data": {
      "text/plain": "gender\nPrefer not to say    725\nMale                 143\nFemale               115\nName: count, dtype: int64"
     },
     "execution_count": 165,
     "metadata": {},
     "output_type": "execute_result"
    }
   ],
   "source": [
    "customers_df.gender.value_counts()"
   ],
   "metadata": {
    "collapsed": false,
    "ExecuteTime": {
     "end_time": "2023-12-09T02:40:52.112458800Z",
     "start_time": "2023-12-09T02:40:51.926894Z"
    }
   },
   "id": "8143d9bcac8366ef"
  },
  {
   "cell_type": "markdown",
   "source": [
    "- Jalankan metode imputation dengan mengganti data missing values dengan data terbanyak pada kolom Gender"
   ],
   "metadata": {
    "collapsed": false
   },
   "id": "98aa2d60e44e241a"
  },
  {
   "cell_type": "code",
   "execution_count": 166,
   "outputs": [],
   "source": [
    "customers_df.fillna(value=\"Prefer not to say\", inplace=True)"
   ],
   "metadata": {
    "collapsed": false,
    "ExecuteTime": {
     "end_time": "2023-12-09T02:40:52.337679200Z",
     "start_time": "2023-12-09T02:40:52.113507400Z"
    }
   },
   "id": "7620d45cc1776907"
  },
  {
   "cell_type": "markdown",
   "source": [
    "#### Cek kembali missing value pada kolom data customer_df"
   ],
   "metadata": {
    "collapsed": false
   },
   "id": "13f1fa2e22d5898"
  },
  {
   "cell_type": "code",
   "execution_count": 167,
   "outputs": [
    {
     "data": {
      "text/plain": "customer_id      0\ncustomer_name    0\ngender           0\nage              0\nhome_address     0\nzip_code         0\ncity             0\nstate            0\ncountry          0\ndtype: int64"
     },
     "execution_count": 167,
     "metadata": {},
     "output_type": "execute_result"
    }
   ],
   "source": [
    "customers_df.isna().sum()"
   ],
   "metadata": {
    "collapsed": false,
    "ExecuteTime": {
     "end_time": "2023-12-09T02:40:52.568784600Z",
     "start_time": "2023-12-09T02:40:52.268732300Z"
    }
   },
   "id": "e898936a0655177c"
  },
  {
   "cell_type": "markdown",
   "source": [
    "### Menangani Inacurate Vallue"
   ],
   "metadata": {
    "collapsed": false
   },
   "id": "3bf1f58563100287"
  },
  {
   "cell_type": "markdown",
   "source": [
    "#### Tampilkan data dengan inacurate value (baris dengan nilai age maksimum) dengan menggunakan teknik filter"
   ],
   "metadata": {
    "collapsed": false
   },
   "id": "1b671f03cfbb924"
  },
  {
   "cell_type": "code",
   "execution_count": 168,
   "outputs": [
    {
     "data": {
      "text/plain": "     customer_id customer_name             gender  age  \\\n967          961     fulan 961  Prefer not to say  700   \n\n                   home_address  zip_code        city            state  \\\n967  29 Farrell ParadeSuite 818      6528  New Joseph  South Australia   \n\n       country  \n967  Australia  ",
      "text/html": "<div>\n<style scoped>\n    .dataframe tbody tr th:only-of-type {\n        vertical-align: middle;\n    }\n\n    .dataframe tbody tr th {\n        vertical-align: top;\n    }\n\n    .dataframe thead th {\n        text-align: right;\n    }\n</style>\n<table border=\"1\" class=\"dataframe\">\n  <thead>\n    <tr style=\"text-align: right;\">\n      <th></th>\n      <th>customer_id</th>\n      <th>customer_name</th>\n      <th>gender</th>\n      <th>age</th>\n      <th>home_address</th>\n      <th>zip_code</th>\n      <th>city</th>\n      <th>state</th>\n      <th>country</th>\n    </tr>\n  </thead>\n  <tbody>\n    <tr>\n      <th>967</th>\n      <td>961</td>\n      <td>fulan 961</td>\n      <td>Prefer not to say</td>\n      <td>700</td>\n      <td>29 Farrell ParadeSuite 818</td>\n      <td>6528</td>\n      <td>New Joseph</td>\n      <td>South Australia</td>\n      <td>Australia</td>\n    </tr>\n  </tbody>\n</table>\n</div>"
     },
     "execution_count": 168,
     "metadata": {},
     "output_type": "execute_result"
    }
   ],
   "source": [
    "customers_df[customers_df.age == customers_df.age.max()]"
   ],
   "metadata": {
    "collapsed": false,
    "ExecuteTime": {
     "end_time": "2023-12-09T02:40:52.714916500Z",
     "start_time": "2023-12-09T02:40:52.567530900Z"
    }
   },
   "id": "3cbbebd977cb9a5d"
  },
  {
   "cell_type": "markdown",
   "source": [
    "#### Kemungkinan besar inacurate value tersebut disebabkan oleh human error. Ganti nilai tersebut menjadi 70."
   ],
   "metadata": {
    "collapsed": false
   },
   "id": "7cc5936bc7919564"
  },
  {
   "cell_type": "code",
   "execution_count": 169,
   "outputs": [
    {
     "data": {
      "text/plain": "     customer_id customer_name             gender  age  \\\n215          216     fulan 216  Prefer not to say  500   \n\n               home_address  zip_code       city               state  \\\n215  038 Haley MewsApt. 810      3991  Bayertown  Northern Territory   \n\n       country  \n215  Australia  ",
      "text/html": "<div>\n<style scoped>\n    .dataframe tbody tr th:only-of-type {\n        vertical-align: middle;\n    }\n\n    .dataframe tbody tr th {\n        vertical-align: top;\n    }\n\n    .dataframe thead th {\n        text-align: right;\n    }\n</style>\n<table border=\"1\" class=\"dataframe\">\n  <thead>\n    <tr style=\"text-align: right;\">\n      <th></th>\n      <th>customer_id</th>\n      <th>customer_name</th>\n      <th>gender</th>\n      <th>age</th>\n      <th>home_address</th>\n      <th>zip_code</th>\n      <th>city</th>\n      <th>state</th>\n      <th>country</th>\n    </tr>\n  </thead>\n  <tbody>\n    <tr>\n      <th>215</th>\n      <td>216</td>\n      <td>fulan 216</td>\n      <td>Prefer not to say</td>\n      <td>500</td>\n      <td>038 Haley MewsApt. 810</td>\n      <td>3991</td>\n      <td>Bayertown</td>\n      <td>Northern Territory</td>\n      <td>Australia</td>\n    </tr>\n  </tbody>\n</table>\n</div>"
     },
     "execution_count": 169,
     "metadata": {},
     "output_type": "execute_result"
    }
   ],
   "source": [
    "customers_df.age.replace(customers_df.age.max(), 70, inplace=True)\n",
    "customers_df[customers_df.age == customers_df.age.max()]"
   ],
   "metadata": {
    "collapsed": false,
    "ExecuteTime": {
     "end_time": "2023-12-09T02:40:52.859964700Z",
     "start_time": "2023-12-09T02:40:52.710820100Z"
    }
   },
   "id": "46b86aa4d7e5df89"
  },
  {
   "cell_type": "markdown",
   "source": [
    "#### Masih ada inacurate value. Ganti ke 50."
   ],
   "metadata": {
    "collapsed": false
   },
   "id": "f0be16980832d566"
  },
  {
   "cell_type": "code",
   "execution_count": 170,
   "outputs": [
    {
     "data": {
      "text/plain": "     customer_id customer_name             gender  age  \\\n34            35      fulan 35               Male   80   \n38            39      fulan 39  Prefer not to say   80   \n142          143     fulan 143  Prefer not to say   80   \n154          155     fulan 155               Male   80   \n170          171     fulan 171  Prefer not to say   80   \n174          175     fulan 175  Prefer not to say   80   \n181          182     fulan 182               Male   80   \n235          236     fulan 236  Prefer not to say   80   \n424          424     fulan 424  Prefer not to say   80   \n438          438     fulan 438  Prefer not to say   80   \n495          495     fulan 495               Male   80   \n524          524     fulan 524  Prefer not to say   80   \n598          597     fulan 597  Prefer not to say   80   \n703          702     fulan 702  Prefer not to say   80   \n734          732     fulan 732  Prefer not to say   80   \n\n                          home_address  zip_code                   city  \\\n34   3168 Bartoletti CrescentSuite 878       593             Port Lucas   \n38     7440 Cameron Estate DrSuite 628      4622  North Victoriachester   \n142        87 Hahn Station StSuite 943      8254               New Ella   \n154           85 Charles MallSuite 424      7841            Port Sophia   \n170              16 Boyer WaySuite 018      6226          South Gabriel   \n174             57 David MallSuite 596      3129                Haneton   \n181           32 Thomas CrestSuite 753      2147             Archiefurt   \n235            64 Phillips RunApt. 722      2752            East Sienna   \n424            03 Grant CrestSuite 228      5743      Lake Charliemouth   \n438          569 Alyssa IslandApt. 766      6893             Hunterland   \n495          1798 Schultz MewsApt. 704      9409           Lake Caitlin   \n524            0358 Ashley WayApt. 506      3345     Port Sebastianland   \n598          78 O'hara CircuitApt. 096      1966       Lake Michaelbury   \n703              61 Bosco WaySuite 775       685        Thompsonborough   \n734    905 Stephanie BoulevardApt. 217      8114          Port Aaronton   \n\n                  state    country  \n34           Queensland  Australia  \n38   Northern Territory  Australia  \n142            Victoria  Australia  \n154     New South Wales  Australia  \n170   Western Australia  Australia  \n174     South Australia  Australia  \n181          Queensland  Australia  \n235     New South Wales  Australia  \n424   Western Australia  Australia  \n438   Western Australia  Australia  \n495     New South Wales  Australia  \n524          Queensland  Australia  \n598     South Australia  Australia  \n703   Western Australia  Australia  \n734          Queensland  Australia  ",
      "text/html": "<div>\n<style scoped>\n    .dataframe tbody tr th:only-of-type {\n        vertical-align: middle;\n    }\n\n    .dataframe tbody tr th {\n        vertical-align: top;\n    }\n\n    .dataframe thead th {\n        text-align: right;\n    }\n</style>\n<table border=\"1\" class=\"dataframe\">\n  <thead>\n    <tr style=\"text-align: right;\">\n      <th></th>\n      <th>customer_id</th>\n      <th>customer_name</th>\n      <th>gender</th>\n      <th>age</th>\n      <th>home_address</th>\n      <th>zip_code</th>\n      <th>city</th>\n      <th>state</th>\n      <th>country</th>\n    </tr>\n  </thead>\n  <tbody>\n    <tr>\n      <th>34</th>\n      <td>35</td>\n      <td>fulan 35</td>\n      <td>Male</td>\n      <td>80</td>\n      <td>3168 Bartoletti CrescentSuite 878</td>\n      <td>593</td>\n      <td>Port Lucas</td>\n      <td>Queensland</td>\n      <td>Australia</td>\n    </tr>\n    <tr>\n      <th>38</th>\n      <td>39</td>\n      <td>fulan 39</td>\n      <td>Prefer not to say</td>\n      <td>80</td>\n      <td>7440 Cameron Estate DrSuite 628</td>\n      <td>4622</td>\n      <td>North Victoriachester</td>\n      <td>Northern Territory</td>\n      <td>Australia</td>\n    </tr>\n    <tr>\n      <th>142</th>\n      <td>143</td>\n      <td>fulan 143</td>\n      <td>Prefer not to say</td>\n      <td>80</td>\n      <td>87 Hahn Station StSuite 943</td>\n      <td>8254</td>\n      <td>New Ella</td>\n      <td>Victoria</td>\n      <td>Australia</td>\n    </tr>\n    <tr>\n      <th>154</th>\n      <td>155</td>\n      <td>fulan 155</td>\n      <td>Male</td>\n      <td>80</td>\n      <td>85 Charles MallSuite 424</td>\n      <td>7841</td>\n      <td>Port Sophia</td>\n      <td>New South Wales</td>\n      <td>Australia</td>\n    </tr>\n    <tr>\n      <th>170</th>\n      <td>171</td>\n      <td>fulan 171</td>\n      <td>Prefer not to say</td>\n      <td>80</td>\n      <td>16 Boyer WaySuite 018</td>\n      <td>6226</td>\n      <td>South Gabriel</td>\n      <td>Western Australia</td>\n      <td>Australia</td>\n    </tr>\n    <tr>\n      <th>174</th>\n      <td>175</td>\n      <td>fulan 175</td>\n      <td>Prefer not to say</td>\n      <td>80</td>\n      <td>57 David MallSuite 596</td>\n      <td>3129</td>\n      <td>Haneton</td>\n      <td>South Australia</td>\n      <td>Australia</td>\n    </tr>\n    <tr>\n      <th>181</th>\n      <td>182</td>\n      <td>fulan 182</td>\n      <td>Male</td>\n      <td>80</td>\n      <td>32 Thomas CrestSuite 753</td>\n      <td>2147</td>\n      <td>Archiefurt</td>\n      <td>Queensland</td>\n      <td>Australia</td>\n    </tr>\n    <tr>\n      <th>235</th>\n      <td>236</td>\n      <td>fulan 236</td>\n      <td>Prefer not to say</td>\n      <td>80</td>\n      <td>64 Phillips RunApt. 722</td>\n      <td>2752</td>\n      <td>East Sienna</td>\n      <td>New South Wales</td>\n      <td>Australia</td>\n    </tr>\n    <tr>\n      <th>424</th>\n      <td>424</td>\n      <td>fulan 424</td>\n      <td>Prefer not to say</td>\n      <td>80</td>\n      <td>03 Grant CrestSuite 228</td>\n      <td>5743</td>\n      <td>Lake Charliemouth</td>\n      <td>Western Australia</td>\n      <td>Australia</td>\n    </tr>\n    <tr>\n      <th>438</th>\n      <td>438</td>\n      <td>fulan 438</td>\n      <td>Prefer not to say</td>\n      <td>80</td>\n      <td>569 Alyssa IslandApt. 766</td>\n      <td>6893</td>\n      <td>Hunterland</td>\n      <td>Western Australia</td>\n      <td>Australia</td>\n    </tr>\n    <tr>\n      <th>495</th>\n      <td>495</td>\n      <td>fulan 495</td>\n      <td>Male</td>\n      <td>80</td>\n      <td>1798 Schultz MewsApt. 704</td>\n      <td>9409</td>\n      <td>Lake Caitlin</td>\n      <td>New South Wales</td>\n      <td>Australia</td>\n    </tr>\n    <tr>\n      <th>524</th>\n      <td>524</td>\n      <td>fulan 524</td>\n      <td>Prefer not to say</td>\n      <td>80</td>\n      <td>0358 Ashley WayApt. 506</td>\n      <td>3345</td>\n      <td>Port Sebastianland</td>\n      <td>Queensland</td>\n      <td>Australia</td>\n    </tr>\n    <tr>\n      <th>598</th>\n      <td>597</td>\n      <td>fulan 597</td>\n      <td>Prefer not to say</td>\n      <td>80</td>\n      <td>78 O'hara CircuitApt. 096</td>\n      <td>1966</td>\n      <td>Lake Michaelbury</td>\n      <td>South Australia</td>\n      <td>Australia</td>\n    </tr>\n    <tr>\n      <th>703</th>\n      <td>702</td>\n      <td>fulan 702</td>\n      <td>Prefer not to say</td>\n      <td>80</td>\n      <td>61 Bosco WaySuite 775</td>\n      <td>685</td>\n      <td>Thompsonborough</td>\n      <td>Western Australia</td>\n      <td>Australia</td>\n    </tr>\n    <tr>\n      <th>734</th>\n      <td>732</td>\n      <td>fulan 732</td>\n      <td>Prefer not to say</td>\n      <td>80</td>\n      <td>905 Stephanie BoulevardApt. 217</td>\n      <td>8114</td>\n      <td>Port Aaronton</td>\n      <td>Queensland</td>\n      <td>Australia</td>\n    </tr>\n  </tbody>\n</table>\n</div>"
     },
     "execution_count": 170,
     "metadata": {},
     "output_type": "execute_result"
    }
   ],
   "source": [
    "customers_df.age.replace(customers_df.age.max(), 50, inplace=True)\n",
    "customers_df[customers_df.age == customers_df.age.max()]"
   ],
   "metadata": {
    "collapsed": false,
    "ExecuteTime": {
     "end_time": "2023-12-09T02:40:52.985940700Z",
     "start_time": "2023-12-09T02:40:52.824057200Z"
    }
   },
   "id": "e98982799ad702b"
  },
  {
   "cell_type": "markdown",
   "source": [
    "#### CETAK RANGKUMAN PARAMETER STATISTIK"
   ],
   "metadata": {
    "collapsed": false
   },
   "id": "bc9d85901a30495e"
  },
  {
   "cell_type": "code",
   "execution_count": 171,
   "outputs": [
    {
     "data": {
      "text/plain": "       customer_id          age     zip_code\ncount  1001.000000  1001.000000  1001.000000\nmean    500.942058    49.874126  5000.693307\nstd     289.013599    17.644663  2886.084454\nmin       1.000000    20.000000     2.000000\n25%     251.000000    34.000000  2398.000000\n50%     501.000000    50.000000  5079.000000\n75%     751.000000    65.000000  7454.000000\nmax    1000.000000    80.000000  9998.000000",
      "text/html": "<div>\n<style scoped>\n    .dataframe tbody tr th:only-of-type {\n        vertical-align: middle;\n    }\n\n    .dataframe tbody tr th {\n        vertical-align: top;\n    }\n\n    .dataframe thead th {\n        text-align: right;\n    }\n</style>\n<table border=\"1\" class=\"dataframe\">\n  <thead>\n    <tr style=\"text-align: right;\">\n      <th></th>\n      <th>customer_id</th>\n      <th>age</th>\n      <th>zip_code</th>\n    </tr>\n  </thead>\n  <tbody>\n    <tr>\n      <th>count</th>\n      <td>1001.000000</td>\n      <td>1001.000000</td>\n      <td>1001.000000</td>\n    </tr>\n    <tr>\n      <th>mean</th>\n      <td>500.942058</td>\n      <td>49.874126</td>\n      <td>5000.693307</td>\n    </tr>\n    <tr>\n      <th>std</th>\n      <td>289.013599</td>\n      <td>17.644663</td>\n      <td>2886.084454</td>\n    </tr>\n    <tr>\n      <th>min</th>\n      <td>1.000000</td>\n      <td>20.000000</td>\n      <td>2.000000</td>\n    </tr>\n    <tr>\n      <th>25%</th>\n      <td>251.000000</td>\n      <td>34.000000</td>\n      <td>2398.000000</td>\n    </tr>\n    <tr>\n      <th>50%</th>\n      <td>501.000000</td>\n      <td>50.000000</td>\n      <td>5079.000000</td>\n    </tr>\n    <tr>\n      <th>75%</th>\n      <td>751.000000</td>\n      <td>65.000000</td>\n      <td>7454.000000</td>\n    </tr>\n    <tr>\n      <th>max</th>\n      <td>1000.000000</td>\n      <td>80.000000</td>\n      <td>9998.000000</td>\n    </tr>\n  </tbody>\n</table>\n</div>"
     },
     "execution_count": 171,
     "metadata": {},
     "output_type": "execute_result"
    }
   ],
   "source": [
    "customers_df.describe()"
   ],
   "metadata": {
    "collapsed": false,
    "ExecuteTime": {
     "end_time": "2023-12-09T02:40:53.230545400Z",
     "start_time": "2023-12-09T02:40:52.934158700Z"
    }
   },
   "id": "dda1064c573c12e6"
  },
  {
   "cell_type": "markdown",
   "source": [
    "## Membersihkan data orders_df"
   ],
   "metadata": {
    "collapsed": false
   },
   "id": "2cab01c860ddfb9b"
  },
  {
   "cell_type": "markdown",
   "source": [
    "Berdasarkan proses assessing data sebelumnya, diketahui bahwa terdapat kesalahan tipe data untuk kolom order_date & delivery_date.\n",
    "\n",
    "Untuk mengatasi masalah ini, kita akan mengganti tipe data pada kolom order_date & delivery_date menjadi datetime. Proses ini dapat dilakukan menggunakan function to_datetime() yang disediakan oleh library pandas. Berikut merupakan contoh kode untuk melakukannya."
   ],
   "metadata": {
    "collapsed": false
   },
   "id": "cd2c39c3d2f706d0"
  },
  {
   "cell_type": "markdown",
   "source": [
    "### Ubah tipe data  pada kolom order_date & delivery_date menjadi datetime."
   ],
   "metadata": {
    "collapsed": false
   },
   "id": "250ea7d58698d452"
  },
  {
   "cell_type": "code",
   "execution_count": 172,
   "outputs": [],
   "source": [
    "datetime_columns = [\"order_date\", \"delivery_date\"]\n",
    "\n",
    "for column in datetime_columns:\n",
    "    orders_df[column] = pd.to_datetime(orders_df[column])"
   ],
   "metadata": {
    "collapsed": false,
    "ExecuteTime": {
     "end_time": "2023-12-09T02:40:53.437454100Z",
     "start_time": "2023-12-09T02:40:53.229490400Z"
    }
   },
   "id": "f60a5a76538f9be5"
  },
  {
   "cell_type": "markdown",
   "source": [
    "### Periksa kembali tipe data pada kolom order_date dan delivery_date."
   ],
   "metadata": {
    "collapsed": false
   },
   "id": "91e10d65c79a694a"
  },
  {
   "cell_type": "code",
   "execution_count": 173,
   "outputs": [
    {
     "name": "stdout",
     "output_type": "stream",
     "text": [
      "<class 'pandas.core.frame.DataFrame'>\n",
      "RangeIndex: 1000 entries, 0 to 999\n",
      "Data columns (total 5 columns):\n",
      " #   Column         Non-Null Count  Dtype         \n",
      "---  ------         --------------  -----         \n",
      " 0   order_id       1000 non-null   int64         \n",
      " 1   customer_id    1000 non-null   int64         \n",
      " 2   payment        1000 non-null   int64         \n",
      " 3   order_date     1000 non-null   datetime64[ns]\n",
      " 4   delivery_date  1000 non-null   datetime64[ns]\n",
      "dtypes: datetime64[ns](2), int64(3)\n",
      "memory usage: 39.2 KB\n"
     ]
    }
   ],
   "source": [
    "orders_df.info()"
   ],
   "metadata": {
    "collapsed": false,
    "ExecuteTime": {
     "end_time": "2023-12-09T02:40:53.743010700Z",
     "start_time": "2023-12-09T02:40:53.415177200Z"
    }
   },
   "id": "c396a4cba895da63"
  },
  {
   "cell_type": "markdown",
   "source": [
    "## MEMBERSIHKAN DATA product_df"
   ],
   "metadata": {
    "collapsed": false
   },
   "id": "ef2c71322fd24f17"
  },
  {
   "cell_type": "markdown",
   "source": [
    "Sesuai hasil assessing data sebelumnya, diketahui bahwa terdapat 6 data yang terduplikasi pada product_df."
   ],
   "metadata": {
    "collapsed": false
   },
   "id": "9394dbe882794f08"
  },
  {
   "cell_type": "markdown",
   "source": [
    "### Buang data duplikat"
   ],
   "metadata": {
    "collapsed": false
   },
   "id": "6eada48b838085ec"
  },
  {
   "cell_type": "code",
   "execution_count": 174,
   "outputs": [
    {
     "name": "stdout",
     "output_type": "stream",
     "text": [
      "Jumlah duplikasi :  0\n"
     ]
    }
   ],
   "source": [
    "product_df.drop_duplicates(inplace=True)\n",
    "print(\"Jumlah duplikasi : \", product_df.duplicated().sum())"
   ],
   "metadata": {
    "collapsed": false,
    "ExecuteTime": {
     "end_time": "2023-12-09T02:40:53.948510500Z",
     "start_time": "2023-12-09T02:40:53.722491100Z"
    }
   },
   "id": "59360f0792de34dc"
  },
  {
   "cell_type": "markdown",
   "source": [
    "## MEMBERSIHKAN DATA sales_df"
   ],
   "metadata": {
    "collapsed": false
   },
   "id": "94e89c2ec41babd"
  },
  {
   "cell_type": "markdown",
   "source": [
    "Berdasarkan hasil penilain data sebelumnya, diketahui bahwa terdapat 19 missing value pada kolom total_price."
   ],
   "metadata": {
    "collapsed": false
   },
   "id": "249f9373e736a578"
  },
  {
   "cell_type": "markdown",
   "source": [
    "### Lihat baris data yang mengandung missing value tersebut"
   ],
   "metadata": {
    "collapsed": false
   },
   "id": "89edaaefcabb4786"
  },
  {
   "cell_type": "code",
   "execution_count": 175,
   "outputs": [
    {
     "data": {
      "text/plain": "      sales_id  order_id  product_id  price_per_unit  quantity  total_price\n9            9         2        1196             105         1          NaN\n121        121        27        1027              90         3          NaN\n278        278        63         360              94         2          NaN\n421        421        95        1091             115         1          NaN\n489        489       108        1193             105         3          NaN\n539        539       117         405             119         2          NaN\n636        636       134         653              93         3          NaN\n687        687       145        1138             102         1          NaN\n854        854       177          64             104         1          NaN\n1079      1079       222         908              94         3          NaN\n1193      1193       248        1121             102         2          NaN\n1313      1313       272         826             117         1          NaN\n1548      1548       316         103             118         3          NaN\n1688      1688       345         428             107         1          NaN\n1775      1775       359         694             113         2          NaN\n1902      1902       381        1218             105         3          NaN\n2025      2025       408         611             112         3          NaN\n2164      2164       436         583             100         3          NaN\n2347      2347       476         696             113         2          NaN",
      "text/html": "<div>\n<style scoped>\n    .dataframe tbody tr th:only-of-type {\n        vertical-align: middle;\n    }\n\n    .dataframe tbody tr th {\n        vertical-align: top;\n    }\n\n    .dataframe thead th {\n        text-align: right;\n    }\n</style>\n<table border=\"1\" class=\"dataframe\">\n  <thead>\n    <tr style=\"text-align: right;\">\n      <th></th>\n      <th>sales_id</th>\n      <th>order_id</th>\n      <th>product_id</th>\n      <th>price_per_unit</th>\n      <th>quantity</th>\n      <th>total_price</th>\n    </tr>\n  </thead>\n  <tbody>\n    <tr>\n      <th>9</th>\n      <td>9</td>\n      <td>2</td>\n      <td>1196</td>\n      <td>105</td>\n      <td>1</td>\n      <td>NaN</td>\n    </tr>\n    <tr>\n      <th>121</th>\n      <td>121</td>\n      <td>27</td>\n      <td>1027</td>\n      <td>90</td>\n      <td>3</td>\n      <td>NaN</td>\n    </tr>\n    <tr>\n      <th>278</th>\n      <td>278</td>\n      <td>63</td>\n      <td>360</td>\n      <td>94</td>\n      <td>2</td>\n      <td>NaN</td>\n    </tr>\n    <tr>\n      <th>421</th>\n      <td>421</td>\n      <td>95</td>\n      <td>1091</td>\n      <td>115</td>\n      <td>1</td>\n      <td>NaN</td>\n    </tr>\n    <tr>\n      <th>489</th>\n      <td>489</td>\n      <td>108</td>\n      <td>1193</td>\n      <td>105</td>\n      <td>3</td>\n      <td>NaN</td>\n    </tr>\n    <tr>\n      <th>539</th>\n      <td>539</td>\n      <td>117</td>\n      <td>405</td>\n      <td>119</td>\n      <td>2</td>\n      <td>NaN</td>\n    </tr>\n    <tr>\n      <th>636</th>\n      <td>636</td>\n      <td>134</td>\n      <td>653</td>\n      <td>93</td>\n      <td>3</td>\n      <td>NaN</td>\n    </tr>\n    <tr>\n      <th>687</th>\n      <td>687</td>\n      <td>145</td>\n      <td>1138</td>\n      <td>102</td>\n      <td>1</td>\n      <td>NaN</td>\n    </tr>\n    <tr>\n      <th>854</th>\n      <td>854</td>\n      <td>177</td>\n      <td>64</td>\n      <td>104</td>\n      <td>1</td>\n      <td>NaN</td>\n    </tr>\n    <tr>\n      <th>1079</th>\n      <td>1079</td>\n      <td>222</td>\n      <td>908</td>\n      <td>94</td>\n      <td>3</td>\n      <td>NaN</td>\n    </tr>\n    <tr>\n      <th>1193</th>\n      <td>1193</td>\n      <td>248</td>\n      <td>1121</td>\n      <td>102</td>\n      <td>2</td>\n      <td>NaN</td>\n    </tr>\n    <tr>\n      <th>1313</th>\n      <td>1313</td>\n      <td>272</td>\n      <td>826</td>\n      <td>117</td>\n      <td>1</td>\n      <td>NaN</td>\n    </tr>\n    <tr>\n      <th>1548</th>\n      <td>1548</td>\n      <td>316</td>\n      <td>103</td>\n      <td>118</td>\n      <td>3</td>\n      <td>NaN</td>\n    </tr>\n    <tr>\n      <th>1688</th>\n      <td>1688</td>\n      <td>345</td>\n      <td>428</td>\n      <td>107</td>\n      <td>1</td>\n      <td>NaN</td>\n    </tr>\n    <tr>\n      <th>1775</th>\n      <td>1775</td>\n      <td>359</td>\n      <td>694</td>\n      <td>113</td>\n      <td>2</td>\n      <td>NaN</td>\n    </tr>\n    <tr>\n      <th>1902</th>\n      <td>1902</td>\n      <td>381</td>\n      <td>1218</td>\n      <td>105</td>\n      <td>3</td>\n      <td>NaN</td>\n    </tr>\n    <tr>\n      <th>2025</th>\n      <td>2025</td>\n      <td>408</td>\n      <td>611</td>\n      <td>112</td>\n      <td>3</td>\n      <td>NaN</td>\n    </tr>\n    <tr>\n      <th>2164</th>\n      <td>2164</td>\n      <td>436</td>\n      <td>583</td>\n      <td>100</td>\n      <td>3</td>\n      <td>NaN</td>\n    </tr>\n    <tr>\n      <th>2347</th>\n      <td>2347</td>\n      <td>476</td>\n      <td>696</td>\n      <td>113</td>\n      <td>2</td>\n      <td>NaN</td>\n    </tr>\n  </tbody>\n</table>\n</div>"
     },
     "execution_count": 175,
     "metadata": {},
     "output_type": "execute_result"
    }
   ],
   "source": [
    "sales_df[sales_df.total_price.isna()]"
   ],
   "metadata": {
    "collapsed": false,
    "ExecuteTime": {
     "end_time": "2023-12-09T02:40:54.097963400Z",
     "start_time": "2023-12-09T02:40:53.866619800Z"
    }
   },
   "id": "72672fb3be4958c1"
  },
  {
   "cell_type": "markdown",
   "source": [
    "Berdasarkan tampilan data tersebut, kita menemukan bahwa nilai total_price merupakan hasil perkalian antara price_per_unit dan quantity. Kita dapat menggunakan pola ini untuk menangani missing value pada kolom total_price."
   ],
   "metadata": {
    "collapsed": false
   },
   "id": "cf0dc297448c3d5d"
  },
  {
   "cell_type": "code",
   "execution_count": 176,
   "outputs": [],
   "source": [
    "sales_df[\"total_price\"] = sales_df[\"price_per_unit\"] * sales_df[\"quantity\"]"
   ],
   "metadata": {
    "collapsed": false,
    "ExecuteTime": {
     "end_time": "2023-12-09T02:40:54.311399300Z",
     "start_time": "2023-12-09T02:40:54.092478400Z"
    }
   },
   "id": "20c934cca486384a"
  },
  {
   "cell_type": "markdown",
   "source": [
    "### Periksa jumlah missing vallue pada sales_df"
   ],
   "metadata": {
    "collapsed": false
   },
   "id": "bf90b27f1539f23f"
  },
  {
   "cell_type": "code",
   "execution_count": 177,
   "outputs": [
    {
     "data": {
      "text/plain": "sales_id          0\norder_id          0\nproduct_id        0\nprice_per_unit    0\nquantity          0\ntotal_price       0\ndtype: int64"
     },
     "execution_count": 177,
     "metadata": {},
     "output_type": "execute_result"
    }
   ],
   "source": [
    "sales_df.isna().sum()"
   ],
   "metadata": {
    "collapsed": false,
    "ExecuteTime": {
     "end_time": "2023-12-09T02:40:54.456910800Z",
     "start_time": "2023-12-09T02:40:54.276384800Z"
    }
   },
   "id": "6e9a665b304ea493"
  },
  {
   "cell_type": "markdown",
   "source": [],
   "metadata": {
    "collapsed": false
   },
   "id": "7a4d9fafe96ebc2e"
  },
  {
   "cell_type": "markdown",
   "source": [
    "# EXPLORATORY DATA ANALYSIS"
   ],
   "metadata": {
    "collapsed": false
   },
   "id": "f4cb08f160faf417"
  },
  {
   "cell_type": "markdown",
   "source": [
    "## MENENTUKAN PERTANYAAN BISNIS"
   ],
   "metadata": {
    "collapsed": false
   },
   "id": "4751dd9f2b2b988f"
  },
  {
   "cell_type": "markdown",
   "source": [
    "-    Bagaimana performa penjualan dan revenue perusahaan dalam beberapa bulan terakhir?\n",
    "-    Produk apa yang paling banyak dan paling sedikit terjual?\n",
    "-    Bagaimana demografi pelanggan yang kita miliki?\n",
    "-    Kapan terakhir pelanggan melakukan transaksi?\n",
    "-    Seberapa sering seorang pelanggan melakukan pembelian dalam beberapa bulan terakhir?\n",
    "-    Berapa banyak uang yang dihabiskan pelanggan dalam beberapa bulan terakhir? "
   ],
   "metadata": {
    "collapsed": false
   },
   "id": "3a459b94205366e6"
  },
  {
   "cell_type": "markdown",
   "source": [
    "## EXPLORASI DATA"
   ],
   "metadata": {
    "collapsed": false
   },
   "id": "4f36fb51a8243c49"
  },
  {
   "cell_type": "markdown",
   "source": [
    "### Explorasi Data customers_df"
   ],
   "metadata": {
    "collapsed": false
   },
   "id": "54124344c6af5c3b"
  },
  {
   "cell_type": "code",
   "execution_count": 178,
   "outputs": [
    {
     "data": {
      "text/plain": "        customer_id customer_name             gender          age  \\\ncount   1001.000000          1001               1001  1001.000000   \nunique          NaN          1000                  3          NaN   \ntop             NaN     fulan 943  Prefer not to say          NaN   \nfreq            NaN             2                743          NaN   \nmean     500.942058           NaN                NaN    49.874126   \nstd      289.013599           NaN                NaN    17.644663   \nmin        1.000000           NaN                NaN    20.000000   \n25%      251.000000           NaN                NaN    34.000000   \n50%      501.000000           NaN                NaN    50.000000   \n75%      751.000000           NaN                NaN    65.000000   \nmax     1000.000000           NaN                NaN    80.000000   \n\n                      home_address     zip_code     city            state  \\\ncount                         1001  1001.000000     1001             1001   \nunique                        1000          NaN      961                8   \ntop     3117 Heller PlaceSuite 149          NaN  New Ava  South Australia   \nfreq                             2          NaN        3              140   \nmean                           NaN  5000.693307      NaN              NaN   \nstd                            NaN  2886.084454      NaN              NaN   \nmin                            NaN     2.000000      NaN              NaN   \n25%                            NaN  2398.000000      NaN              NaN   \n50%                            NaN  5079.000000      NaN              NaN   \n75%                            NaN  7454.000000      NaN              NaN   \nmax                            NaN  9998.000000      NaN              NaN   \n\n          country  \ncount        1001  \nunique          1  \ntop     Australia  \nfreq         1001  \nmean          NaN  \nstd           NaN  \nmin           NaN  \n25%           NaN  \n50%           NaN  \n75%           NaN  \nmax           NaN  ",
      "text/html": "<div>\n<style scoped>\n    .dataframe tbody tr th:only-of-type {\n        vertical-align: middle;\n    }\n\n    .dataframe tbody tr th {\n        vertical-align: top;\n    }\n\n    .dataframe thead th {\n        text-align: right;\n    }\n</style>\n<table border=\"1\" class=\"dataframe\">\n  <thead>\n    <tr style=\"text-align: right;\">\n      <th></th>\n      <th>customer_id</th>\n      <th>customer_name</th>\n      <th>gender</th>\n      <th>age</th>\n      <th>home_address</th>\n      <th>zip_code</th>\n      <th>city</th>\n      <th>state</th>\n      <th>country</th>\n    </tr>\n  </thead>\n  <tbody>\n    <tr>\n      <th>count</th>\n      <td>1001.000000</td>\n      <td>1001</td>\n      <td>1001</td>\n      <td>1001.000000</td>\n      <td>1001</td>\n      <td>1001.000000</td>\n      <td>1001</td>\n      <td>1001</td>\n      <td>1001</td>\n    </tr>\n    <tr>\n      <th>unique</th>\n      <td>NaN</td>\n      <td>1000</td>\n      <td>3</td>\n      <td>NaN</td>\n      <td>1000</td>\n      <td>NaN</td>\n      <td>961</td>\n      <td>8</td>\n      <td>1</td>\n    </tr>\n    <tr>\n      <th>top</th>\n      <td>NaN</td>\n      <td>fulan 943</td>\n      <td>Prefer not to say</td>\n      <td>NaN</td>\n      <td>3117 Heller PlaceSuite 149</td>\n      <td>NaN</td>\n      <td>New Ava</td>\n      <td>South Australia</td>\n      <td>Australia</td>\n    </tr>\n    <tr>\n      <th>freq</th>\n      <td>NaN</td>\n      <td>2</td>\n      <td>743</td>\n      <td>NaN</td>\n      <td>2</td>\n      <td>NaN</td>\n      <td>3</td>\n      <td>140</td>\n      <td>1001</td>\n    </tr>\n    <tr>\n      <th>mean</th>\n      <td>500.942058</td>\n      <td>NaN</td>\n      <td>NaN</td>\n      <td>49.874126</td>\n      <td>NaN</td>\n      <td>5000.693307</td>\n      <td>NaN</td>\n      <td>NaN</td>\n      <td>NaN</td>\n    </tr>\n    <tr>\n      <th>std</th>\n      <td>289.013599</td>\n      <td>NaN</td>\n      <td>NaN</td>\n      <td>17.644663</td>\n      <td>NaN</td>\n      <td>2886.084454</td>\n      <td>NaN</td>\n      <td>NaN</td>\n      <td>NaN</td>\n    </tr>\n    <tr>\n      <th>min</th>\n      <td>1.000000</td>\n      <td>NaN</td>\n      <td>NaN</td>\n      <td>20.000000</td>\n      <td>NaN</td>\n      <td>2.000000</td>\n      <td>NaN</td>\n      <td>NaN</td>\n      <td>NaN</td>\n    </tr>\n    <tr>\n      <th>25%</th>\n      <td>251.000000</td>\n      <td>NaN</td>\n      <td>NaN</td>\n      <td>34.000000</td>\n      <td>NaN</td>\n      <td>2398.000000</td>\n      <td>NaN</td>\n      <td>NaN</td>\n      <td>NaN</td>\n    </tr>\n    <tr>\n      <th>50%</th>\n      <td>501.000000</td>\n      <td>NaN</td>\n      <td>NaN</td>\n      <td>50.000000</td>\n      <td>NaN</td>\n      <td>5079.000000</td>\n      <td>NaN</td>\n      <td>NaN</td>\n      <td>NaN</td>\n    </tr>\n    <tr>\n      <th>75%</th>\n      <td>751.000000</td>\n      <td>NaN</td>\n      <td>NaN</td>\n      <td>65.000000</td>\n      <td>NaN</td>\n      <td>7454.000000</td>\n      <td>NaN</td>\n      <td>NaN</td>\n      <td>NaN</td>\n    </tr>\n    <tr>\n      <th>max</th>\n      <td>1000.000000</td>\n      <td>NaN</td>\n      <td>NaN</td>\n      <td>80.000000</td>\n      <td>NaN</td>\n      <td>9998.000000</td>\n      <td>NaN</td>\n      <td>NaN</td>\n      <td>NaN</td>\n    </tr>\n  </tbody>\n</table>\n</div>"
     },
     "execution_count": 178,
     "metadata": {},
     "output_type": "execute_result"
    }
   ],
   "source": [
    "customers_df.describe(include=\"all\")"
   ],
   "metadata": {
    "collapsed": false,
    "ExecuteTime": {
     "end_time": "2023-12-09T02:40:54.676329100Z",
     "start_time": "2023-12-09T02:40:54.405972400Z"
    }
   },
   "id": "4e5ffcf33b3514fb"
  },
  {
   "cell_type": "markdown",
   "source": [
    "Melihat demografi pelanggan berdasarkan gender"
   ],
   "metadata": {
    "collapsed": false
   },
   "id": "75ceec7f4beb9aee"
  },
  {
   "cell_type": "code",
   "execution_count": 179,
   "outputs": [
    {
     "data": {
      "text/plain": "                  customer_id age                          \n                      nunique max min       mean        std\ngender                                                     \nFemale                    115  79  20  49.147826  16.646607\nMale                      143  80  20  51.230769  18.462635\nPrefer not to say         742  80  20  49.725437  17.644283",
      "text/html": "<div>\n<style scoped>\n    .dataframe tbody tr th:only-of-type {\n        vertical-align: middle;\n    }\n\n    .dataframe tbody tr th {\n        vertical-align: top;\n    }\n\n    .dataframe thead tr th {\n        text-align: left;\n    }\n\n    .dataframe thead tr:last-of-type th {\n        text-align: right;\n    }\n</style>\n<table border=\"1\" class=\"dataframe\">\n  <thead>\n    <tr>\n      <th></th>\n      <th>customer_id</th>\n      <th colspan=\"4\" halign=\"left\">age</th>\n    </tr>\n    <tr>\n      <th></th>\n      <th>nunique</th>\n      <th>max</th>\n      <th>min</th>\n      <th>mean</th>\n      <th>std</th>\n    </tr>\n    <tr>\n      <th>gender</th>\n      <th></th>\n      <th></th>\n      <th></th>\n      <th></th>\n      <th></th>\n    </tr>\n  </thead>\n  <tbody>\n    <tr>\n      <th>Female</th>\n      <td>115</td>\n      <td>79</td>\n      <td>20</td>\n      <td>49.147826</td>\n      <td>16.646607</td>\n    </tr>\n    <tr>\n      <th>Male</th>\n      <td>143</td>\n      <td>80</td>\n      <td>20</td>\n      <td>51.230769</td>\n      <td>18.462635</td>\n    </tr>\n    <tr>\n      <th>Prefer not to say</th>\n      <td>742</td>\n      <td>80</td>\n      <td>20</td>\n      <td>49.725437</td>\n      <td>17.644283</td>\n    </tr>\n  </tbody>\n</table>\n</div>"
     },
     "execution_count": 179,
     "metadata": {},
     "output_type": "execute_result"
    }
   ],
   "source": [
    "customers_df.groupby(by=\"gender\").agg({\n",
    "    \"customer_id\": \"nunique\",\n",
    "    \"age\": [\"max\", \"min\", \"mean\", \"std\"]\n",
    "})"
   ],
   "metadata": {
    "collapsed": false,
    "ExecuteTime": {
     "end_time": "2023-12-09T02:40:54.737065300Z",
     "start_time": "2023-12-09T02:40:54.651223Z"
    }
   },
   "id": "e68691629c8bcae0"
  },
  {
   "cell_type": "code",
   "execution_count": 180,
   "outputs": [
    {
     "data": {
      "text/plain": "state\nSouth Australia                 139\nQueensland                      134\nNew South Wales                 132\nNorthern Territory              125\nWestern Australia               124\nAustralian Capital Territory    121\nVictoria                        121\nTasmania                        104\nName: customer_id, dtype: int64"
     },
     "execution_count": 180,
     "metadata": {},
     "output_type": "execute_result"
    }
   ],
   "source": [
    "customers_df.groupby(by=\"city\").customer_id.nunique().sort_values(ascending=False)\n",
    "customers_df.groupby(by=\"state\").customer_id.nunique().sort_values(ascending=False)"
   ],
   "metadata": {
    "collapsed": false,
    "ExecuteTime": {
     "end_time": "2023-12-09T02:40:54.962958900Z",
     "start_time": "2023-12-09T02:40:54.731963200Z"
    }
   },
   "id": "4a08396b8018cb64"
  },
  {
   "cell_type": "markdown",
   "source": [
    "### Explorasi Data orders_df"
   ],
   "metadata": {
    "collapsed": false
   },
   "id": "ed763e911b615fc5"
  },
  {
   "cell_type": "code",
   "execution_count": 181,
   "outputs": [
    {
     "data": {
      "text/plain": "     order_id  customer_id  payment order_date delivery_date  delivery_time\n757       758          781    24144 2021-03-27    2021-04-21           25.0\n385       386          458    34948 2021-02-14    2021-03-03           17.0\n426       427          282    20082 2021-01-27    2021-02-10           14.0\n298       299          994    58159 2021-01-12    2021-02-03           22.0\n739       740          178    58226 2021-02-05    2021-02-10            5.0",
      "text/html": "<div>\n<style scoped>\n    .dataframe tbody tr th:only-of-type {\n        vertical-align: middle;\n    }\n\n    .dataframe tbody tr th {\n        vertical-align: top;\n    }\n\n    .dataframe thead th {\n        text-align: right;\n    }\n</style>\n<table border=\"1\" class=\"dataframe\">\n  <thead>\n    <tr style=\"text-align: right;\">\n      <th></th>\n      <th>order_id</th>\n      <th>customer_id</th>\n      <th>payment</th>\n      <th>order_date</th>\n      <th>delivery_date</th>\n      <th>delivery_time</th>\n    </tr>\n  </thead>\n  <tbody>\n    <tr>\n      <th>757</th>\n      <td>758</td>\n      <td>781</td>\n      <td>24144</td>\n      <td>2021-03-27</td>\n      <td>2021-04-21</td>\n      <td>25.0</td>\n    </tr>\n    <tr>\n      <th>385</th>\n      <td>386</td>\n      <td>458</td>\n      <td>34948</td>\n      <td>2021-02-14</td>\n      <td>2021-03-03</td>\n      <td>17.0</td>\n    </tr>\n    <tr>\n      <th>426</th>\n      <td>427</td>\n      <td>282</td>\n      <td>20082</td>\n      <td>2021-01-27</td>\n      <td>2021-02-10</td>\n      <td>14.0</td>\n    </tr>\n    <tr>\n      <th>298</th>\n      <td>299</td>\n      <td>994</td>\n      <td>58159</td>\n      <td>2021-01-12</td>\n      <td>2021-02-03</td>\n      <td>22.0</td>\n    </tr>\n    <tr>\n      <th>739</th>\n      <td>740</td>\n      <td>178</td>\n      <td>58226</td>\n      <td>2021-02-05</td>\n      <td>2021-02-10</td>\n      <td>5.0</td>\n    </tr>\n  </tbody>\n</table>\n</div>"
     },
     "execution_count": 181,
     "metadata": {},
     "output_type": "execute_result"
    }
   ],
   "source": [
    "delivery_time = orders_df[\"delivery_date\"] - orders_df[\"order_date\"]\n",
    "delivery_time = delivery_time.apply(lambda x: x.total_seconds())\n",
    "orders_df[\"delivery_time\"] = round(delivery_time / 86400)\n",
    "orders_df.sample(5)"
   ],
   "metadata": {
    "collapsed": false,
    "ExecuteTime": {
     "end_time": "2023-12-09T02:40:55.276325400Z",
     "start_time": "2023-12-09T02:40:54.926329800Z"
    }
   },
   "id": "2962e38b5630c0ca"
  },
  {
   "cell_type": "code",
   "execution_count": 182,
   "outputs": [
    {
     "data": {
      "text/plain": "          order_id  customer_id       payment                  order_date  \\\ncount  1000.000000  1000.000000   1000.000000                        1000   \nmean    500.500000   506.640000  33972.936000  2021-05-27 18:38:52.800000   \nmin       1.000000     1.000000  10043.000000         2021-01-01 00:00:00   \n25%     250.750000   275.250000  21329.250000         2021-03-13 18:00:00   \n50%     500.500000   515.000000  33697.500000         2021-05-27 12:00:00   \n75%     750.250000   737.250000  46249.000000         2021-08-12 06:00:00   \nmax    1000.000000  1000.000000  59910.000000         2021-10-24 00:00:00   \nstd     288.819436   277.115502  14451.609047                         NaN   \n\n             delivery_date  delivery_time  \ncount                 1000    1000.000000  \nmean   2021-06-10 20:31:12      14.078000  \nmin    2021-01-03 00:00:00       1.000000  \n25%    2021-03-28 00:00:00       8.000000  \n50%    2021-06-11 12:00:00      14.000000  \n75%    2021-08-24 06:00:00      21.000000  \nmax    2021-11-20 00:00:00      27.000000  \nstd                    NaN       7.707225  ",
      "text/html": "<div>\n<style scoped>\n    .dataframe tbody tr th:only-of-type {\n        vertical-align: middle;\n    }\n\n    .dataframe tbody tr th {\n        vertical-align: top;\n    }\n\n    .dataframe thead th {\n        text-align: right;\n    }\n</style>\n<table border=\"1\" class=\"dataframe\">\n  <thead>\n    <tr style=\"text-align: right;\">\n      <th></th>\n      <th>order_id</th>\n      <th>customer_id</th>\n      <th>payment</th>\n      <th>order_date</th>\n      <th>delivery_date</th>\n      <th>delivery_time</th>\n    </tr>\n  </thead>\n  <tbody>\n    <tr>\n      <th>count</th>\n      <td>1000.000000</td>\n      <td>1000.000000</td>\n      <td>1000.000000</td>\n      <td>1000</td>\n      <td>1000</td>\n      <td>1000.000000</td>\n    </tr>\n    <tr>\n      <th>mean</th>\n      <td>500.500000</td>\n      <td>506.640000</td>\n      <td>33972.936000</td>\n      <td>2021-05-27 18:38:52.800000</td>\n      <td>2021-06-10 20:31:12</td>\n      <td>14.078000</td>\n    </tr>\n    <tr>\n      <th>min</th>\n      <td>1.000000</td>\n      <td>1.000000</td>\n      <td>10043.000000</td>\n      <td>2021-01-01 00:00:00</td>\n      <td>2021-01-03 00:00:00</td>\n      <td>1.000000</td>\n    </tr>\n    <tr>\n      <th>25%</th>\n      <td>250.750000</td>\n      <td>275.250000</td>\n      <td>21329.250000</td>\n      <td>2021-03-13 18:00:00</td>\n      <td>2021-03-28 00:00:00</td>\n      <td>8.000000</td>\n    </tr>\n    <tr>\n      <th>50%</th>\n      <td>500.500000</td>\n      <td>515.000000</td>\n      <td>33697.500000</td>\n      <td>2021-05-27 12:00:00</td>\n      <td>2021-06-11 12:00:00</td>\n      <td>14.000000</td>\n    </tr>\n    <tr>\n      <th>75%</th>\n      <td>750.250000</td>\n      <td>737.250000</td>\n      <td>46249.000000</td>\n      <td>2021-08-12 06:00:00</td>\n      <td>2021-08-24 06:00:00</td>\n      <td>21.000000</td>\n    </tr>\n    <tr>\n      <th>max</th>\n      <td>1000.000000</td>\n      <td>1000.000000</td>\n      <td>59910.000000</td>\n      <td>2021-10-24 00:00:00</td>\n      <td>2021-11-20 00:00:00</td>\n      <td>27.000000</td>\n    </tr>\n    <tr>\n      <th>std</th>\n      <td>288.819436</td>\n      <td>277.115502</td>\n      <td>14451.609047</td>\n      <td>NaN</td>\n      <td>NaN</td>\n      <td>7.707225</td>\n    </tr>\n  </tbody>\n</table>\n</div>"
     },
     "execution_count": 182,
     "metadata": {},
     "output_type": "execute_result"
    }
   ],
   "source": [
    "orders_df.describe(include=\"all\")"
   ],
   "metadata": {
    "collapsed": false,
    "ExecuteTime": {
     "end_time": "2023-12-09T02:40:55.559038700Z",
     "start_time": "2023-12-09T02:40:55.196163600Z"
    }
   },
   "id": "ed3516efb14ed522"
  },
  {
   "cell_type": "markdown",
   "source": [],
   "metadata": {
    "collapsed": false
   },
   "id": "65d8be4e374f9f14"
  },
  {
   "cell_type": "markdown",
   "source": [
    "### Explorasi Data orders_df dan customers_df"
   ],
   "metadata": {
    "collapsed": false
   },
   "id": "f477190e3b41367d"
  },
  {
   "cell_type": "code",
   "execution_count": 183,
   "outputs": [
    {
     "data": {
      "text/plain": "     customer_id customer_name             gender  age  \\\n29            30      fulan 30             Female   38   \n662          661     fulan 661               Male   45   \n650          649     fulan 649  Prefer not to say   74   \n782          779     fulan 779  Prefer not to say   20   \n262          263     fulan 263  Prefer not to say   22   \n\n                     home_address  zip_code           city  \\\n29    612 Jessica TerraceApt. 847      7110       Jetttown   \n662     4317 Holly CourtSuite 716      1431     North Beau   \n650      3796 Kayla RoadSuite 477      5825  Schneiderbury   \n782  63 Willow Estate DrSuite 657      4604    Clarkeburgh   \n262     75 Kovacek KnollSuite 417      4122   West Cameron   \n\n                            state    country      status  \n29   Australian Capital Territory  Australia  Non Active  \n662             Western Australia  Australia      Active  \n650            Northern Territory  Australia      Active  \n782               South Australia  Australia  Non Active  \n262             Western Australia  Australia      Active  ",
      "text/html": "<div>\n<style scoped>\n    .dataframe tbody tr th:only-of-type {\n        vertical-align: middle;\n    }\n\n    .dataframe tbody tr th {\n        vertical-align: top;\n    }\n\n    .dataframe thead th {\n        text-align: right;\n    }\n</style>\n<table border=\"1\" class=\"dataframe\">\n  <thead>\n    <tr style=\"text-align: right;\">\n      <th></th>\n      <th>customer_id</th>\n      <th>customer_name</th>\n      <th>gender</th>\n      <th>age</th>\n      <th>home_address</th>\n      <th>zip_code</th>\n      <th>city</th>\n      <th>state</th>\n      <th>country</th>\n      <th>status</th>\n    </tr>\n  </thead>\n  <tbody>\n    <tr>\n      <th>29</th>\n      <td>30</td>\n      <td>fulan 30</td>\n      <td>Female</td>\n      <td>38</td>\n      <td>612 Jessica TerraceApt. 847</td>\n      <td>7110</td>\n      <td>Jetttown</td>\n      <td>Australian Capital Territory</td>\n      <td>Australia</td>\n      <td>Non Active</td>\n    </tr>\n    <tr>\n      <th>662</th>\n      <td>661</td>\n      <td>fulan 661</td>\n      <td>Male</td>\n      <td>45</td>\n      <td>4317 Holly CourtSuite 716</td>\n      <td>1431</td>\n      <td>North Beau</td>\n      <td>Western Australia</td>\n      <td>Australia</td>\n      <td>Active</td>\n    </tr>\n    <tr>\n      <th>650</th>\n      <td>649</td>\n      <td>fulan 649</td>\n      <td>Prefer not to say</td>\n      <td>74</td>\n      <td>3796 Kayla RoadSuite 477</td>\n      <td>5825</td>\n      <td>Schneiderbury</td>\n      <td>Northern Territory</td>\n      <td>Australia</td>\n      <td>Active</td>\n    </tr>\n    <tr>\n      <th>782</th>\n      <td>779</td>\n      <td>fulan 779</td>\n      <td>Prefer not to say</td>\n      <td>20</td>\n      <td>63 Willow Estate DrSuite 657</td>\n      <td>4604</td>\n      <td>Clarkeburgh</td>\n      <td>South Australia</td>\n      <td>Australia</td>\n      <td>Non Active</td>\n    </tr>\n    <tr>\n      <th>262</th>\n      <td>263</td>\n      <td>fulan 263</td>\n      <td>Prefer not to say</td>\n      <td>22</td>\n      <td>75 Kovacek KnollSuite 417</td>\n      <td>4122</td>\n      <td>West Cameron</td>\n      <td>Western Australia</td>\n      <td>Australia</td>\n      <td>Active</td>\n    </tr>\n  </tbody>\n</table>\n</div>"
     },
     "execution_count": 183,
     "metadata": {},
     "output_type": "execute_result"
    }
   ],
   "source": [
    "customer_id_in_orders_df = orders_df.customer_id.tolist()\n",
    "customers_df[\"status\"] = customers_df[\"customer_id\"].apply(\n",
    "    lambda x: \"Active\" if x in customer_id_in_orders_df else \"Non Active\")\n",
    "customers_df.sample(5)"
   ],
   "metadata": {
    "collapsed": false,
    "ExecuteTime": {
     "end_time": "2023-12-09T02:40:55.851159100Z",
     "start_time": "2023-12-09T02:40:55.553743300Z"
    }
   },
   "id": "c15f693447d13516"
  },
  {
   "cell_type": "code",
   "execution_count": 184,
   "outputs": [
    {
     "data": {
      "text/plain": "status\nActive        617\nNon Active    384\nName: customer_id, dtype: int64"
     },
     "execution_count": 184,
     "metadata": {},
     "output_type": "execute_result"
    }
   ],
   "source": [
    "customers_df.groupby(by=\"status\").customer_id.count()"
   ],
   "metadata": {
    "collapsed": false,
    "ExecuteTime": {
     "end_time": "2023-12-09T02:40:56.113314800Z",
     "start_time": "2023-12-09T02:40:55.812935Z"
    }
   },
   "id": "7d3859bafbb28c18"
  },
  {
   "cell_type": "code",
   "execution_count": 185,
   "outputs": [
    {
     "data": {
      "text/plain": "   order_id  customer_id  payment order_date delivery_date  delivery_time  \\\n0         1           64    30811 2021-08-30    2021-09-24           25.0   \n1         2          473    50490 2021-02-03    2021-02-13           10.0   \n2         3          774    46763 2021-10-08    2021-11-03           26.0   \n3         4          433    39782 2021-05-06    2021-05-19           13.0   \n4         5          441    14719 2021-03-23    2021-03-24            1.0   \n\n  customer_name             gender  age                   home_address  \\\n0      fulan 64  Prefer not to say   75      4927 Alice MeadowApt. 960   \n1     fulan 473               Male   61  531 Schmitt BoulevardApt. 010   \n2     fulan 774  Prefer not to say   34       2096 Wilson MewsApt. 714   \n3     fulan 433  Prefer not to say   46        5777 Mayer PassApt. 881   \n4     fulan 441  Prefer not to say   53   33 Richards JunctionApt. 478   \n\n   zip_code                city              state    country  status  \n0      7787      Sanfordborough    South Australia  Australia  Active  \n1      1744             Annaton    South Australia  Australia  Active  \n2      8590  West Jonathanshire           Tasmania  Australia  Active  \n3      9728    West Michaelport           Tasmania  Australia  Active  \n4      7650     South Rileyview  Western Australia  Australia  Active  ",
      "text/html": "<div>\n<style scoped>\n    .dataframe tbody tr th:only-of-type {\n        vertical-align: middle;\n    }\n\n    .dataframe tbody tr th {\n        vertical-align: top;\n    }\n\n    .dataframe thead th {\n        text-align: right;\n    }\n</style>\n<table border=\"1\" class=\"dataframe\">\n  <thead>\n    <tr style=\"text-align: right;\">\n      <th></th>\n      <th>order_id</th>\n      <th>customer_id</th>\n      <th>payment</th>\n      <th>order_date</th>\n      <th>delivery_date</th>\n      <th>delivery_time</th>\n      <th>customer_name</th>\n      <th>gender</th>\n      <th>age</th>\n      <th>home_address</th>\n      <th>zip_code</th>\n      <th>city</th>\n      <th>state</th>\n      <th>country</th>\n      <th>status</th>\n    </tr>\n  </thead>\n  <tbody>\n    <tr>\n      <th>0</th>\n      <td>1</td>\n      <td>64</td>\n      <td>30811</td>\n      <td>2021-08-30</td>\n      <td>2021-09-24</td>\n      <td>25.0</td>\n      <td>fulan 64</td>\n      <td>Prefer not to say</td>\n      <td>75</td>\n      <td>4927 Alice MeadowApt. 960</td>\n      <td>7787</td>\n      <td>Sanfordborough</td>\n      <td>South Australia</td>\n      <td>Australia</td>\n      <td>Active</td>\n    </tr>\n    <tr>\n      <th>1</th>\n      <td>2</td>\n      <td>473</td>\n      <td>50490</td>\n      <td>2021-02-03</td>\n      <td>2021-02-13</td>\n      <td>10.0</td>\n      <td>fulan 473</td>\n      <td>Male</td>\n      <td>61</td>\n      <td>531 Schmitt BoulevardApt. 010</td>\n      <td>1744</td>\n      <td>Annaton</td>\n      <td>South Australia</td>\n      <td>Australia</td>\n      <td>Active</td>\n    </tr>\n    <tr>\n      <th>2</th>\n      <td>3</td>\n      <td>774</td>\n      <td>46763</td>\n      <td>2021-10-08</td>\n      <td>2021-11-03</td>\n      <td>26.0</td>\n      <td>fulan 774</td>\n      <td>Prefer not to say</td>\n      <td>34</td>\n      <td>2096 Wilson MewsApt. 714</td>\n      <td>8590</td>\n      <td>West Jonathanshire</td>\n      <td>Tasmania</td>\n      <td>Australia</td>\n      <td>Active</td>\n    </tr>\n    <tr>\n      <th>3</th>\n      <td>4</td>\n      <td>433</td>\n      <td>39782</td>\n      <td>2021-05-06</td>\n      <td>2021-05-19</td>\n      <td>13.0</td>\n      <td>fulan 433</td>\n      <td>Prefer not to say</td>\n      <td>46</td>\n      <td>5777 Mayer PassApt. 881</td>\n      <td>9728</td>\n      <td>West Michaelport</td>\n      <td>Tasmania</td>\n      <td>Australia</td>\n      <td>Active</td>\n    </tr>\n    <tr>\n      <th>4</th>\n      <td>5</td>\n      <td>441</td>\n      <td>14719</td>\n      <td>2021-03-23</td>\n      <td>2021-03-24</td>\n      <td>1.0</td>\n      <td>fulan 441</td>\n      <td>Prefer not to say</td>\n      <td>53</td>\n      <td>33 Richards JunctionApt. 478</td>\n      <td>7650</td>\n      <td>South Rileyview</td>\n      <td>Western Australia</td>\n      <td>Australia</td>\n      <td>Active</td>\n    </tr>\n  </tbody>\n</table>\n</div>"
     },
     "execution_count": 185,
     "metadata": {},
     "output_type": "execute_result"
    }
   ],
   "source": [
    "orders_customers_df = pd.merge(\n",
    "    left=orders_df,\n",
    "    right=customers_df,\n",
    "    how=\"left\",\n",
    "    left_on=\"customer_id\",\n",
    "    right_on=\"customer_id\"\n",
    ")\n",
    "orders_customers_df.head()"
   ],
   "metadata": {
    "collapsed": false,
    "ExecuteTime": {
     "end_time": "2023-12-09T02:40:56.316414400Z",
     "start_time": "2023-12-09T02:40:56.031323600Z"
    }
   },
   "id": "df5290ba91665d3e"
  },
  {
   "cell_type": "markdown",
   "source": [
    "#### Jumlah order berdasarkan kota"
   ],
   "metadata": {
    "collapsed": false
   },
   "id": "75a04f6aec98709c"
  },
  {
   "cell_type": "code",
   "execution_count": 186,
   "outputs": [
    {
     "data": {
      "text/plain": "               city  order_id\n0        Jordanside         6\n1           New Ava         6\n2         Lake Rose         5\n3        O'keefeton         5\n4          East Max         5\n5  Port Hannahburgh         5\n6          Rubyfort         5\n7          West Kai         5\n8     Andrewborough         4\n9     Port Aaronton         4",
      "text/html": "<div>\n<style scoped>\n    .dataframe tbody tr th:only-of-type {\n        vertical-align: middle;\n    }\n\n    .dataframe tbody tr th {\n        vertical-align: top;\n    }\n\n    .dataframe thead th {\n        text-align: right;\n    }\n</style>\n<table border=\"1\" class=\"dataframe\">\n  <thead>\n    <tr style=\"text-align: right;\">\n      <th></th>\n      <th>city</th>\n      <th>order_id</th>\n    </tr>\n  </thead>\n  <tbody>\n    <tr>\n      <th>0</th>\n      <td>Jordanside</td>\n      <td>6</td>\n    </tr>\n    <tr>\n      <th>1</th>\n      <td>New Ava</td>\n      <td>6</td>\n    </tr>\n    <tr>\n      <th>2</th>\n      <td>Lake Rose</td>\n      <td>5</td>\n    </tr>\n    <tr>\n      <th>3</th>\n      <td>O'keefeton</td>\n      <td>5</td>\n    </tr>\n    <tr>\n      <th>4</th>\n      <td>East Max</td>\n      <td>5</td>\n    </tr>\n    <tr>\n      <th>5</th>\n      <td>Port Hannahburgh</td>\n      <td>5</td>\n    </tr>\n    <tr>\n      <th>6</th>\n      <td>Rubyfort</td>\n      <td>5</td>\n    </tr>\n    <tr>\n      <th>7</th>\n      <td>West Kai</td>\n      <td>5</td>\n    </tr>\n    <tr>\n      <th>8</th>\n      <td>Andrewborough</td>\n      <td>4</td>\n    </tr>\n    <tr>\n      <th>9</th>\n      <td>Port Aaronton</td>\n      <td>4</td>\n    </tr>\n  </tbody>\n</table>\n</div>"
     },
     "execution_count": 186,
     "metadata": {},
     "output_type": "execute_result"
    }
   ],
   "source": [
    "orders_customers_df.groupby(by=\"city\").order_id.nunique().sort_values(ascending=False).reset_index().head(10)"
   ],
   "metadata": {
    "collapsed": false,
    "ExecuteTime": {
     "end_time": "2023-12-09T02:40:56.483144100Z",
     "start_time": "2023-12-09T02:40:56.314316400Z"
    }
   },
   "id": "51fe95798d77e77c"
  },
  {
   "cell_type": "markdown",
   "source": [
    "#### Jumlah order berdasarkan state"
   ],
   "metadata": {
    "collapsed": false
   },
   "id": "a86d652a21dc3309"
  },
  {
   "cell_type": "code",
   "execution_count": 187,
   "outputs": [
    {
     "data": {
      "text/plain": "state\nSouth Australia                 148\nQueensland                      139\nWestern Australia               130\nNew South Wales                 129\nAustralian Capital Territory    118\nVictoria                        118\nTasmania                        112\nNorthern Territory              106\nName: order_id, dtype: int64"
     },
     "execution_count": 187,
     "metadata": {},
     "output_type": "execute_result"
    }
   ],
   "source": [
    "orders_customers_df.groupby(by=\"state\").order_id.nunique().sort_values(ascending=False)"
   ],
   "metadata": {
    "collapsed": false,
    "ExecuteTime": {
     "end_time": "2023-12-09T02:40:56.761198100Z",
     "start_time": "2023-12-09T02:40:56.394035100Z"
    }
   },
   "id": "2f6e5d9f08ad5ea9"
  },
  {
   "cell_type": "markdown",
   "source": [
    "#### Jumlah order berdasarkan gender"
   ],
   "metadata": {
    "collapsed": false
   },
   "id": "cbbc577dc42d1b27"
  },
  {
   "cell_type": "code",
   "execution_count": 188,
   "outputs": [
    {
     "data": {
      "text/plain": "gender\nPrefer not to say    725\nFemale               139\nMale                 136\nName: order_id, dtype: int64"
     },
     "execution_count": 188,
     "metadata": {},
     "output_type": "execute_result"
    }
   ],
   "source": [
    "orders_customers_df.groupby(by=\"gender\").order_id.nunique().sort_values(ascending=False)"
   ],
   "metadata": {
    "collapsed": false,
    "ExecuteTime": {
     "end_time": "2023-12-09T02:40:56.898488200Z",
     "start_time": "2023-12-09T02:40:56.744759400Z"
    }
   },
   "id": "f269e87ab7e5eb0d"
  },
  {
   "cell_type": "markdown",
   "source": [
    "#### Jumlah order berdasarkan kelompok usia"
   ],
   "metadata": {
    "collapsed": false
   },
   "id": "383ca7420dea76f7"
  },
  {
   "cell_type": "code",
   "execution_count": 189,
   "outputs": [
    {
     "data": {
      "text/plain": "age_group\nAdults     681\nSeniors    226\nYouth       93\nName: order_id, dtype: int64"
     },
     "execution_count": 189,
     "metadata": {},
     "output_type": "execute_result"
    }
   ],
   "source": [
    "orders_customers_df[\"age_group\"] = orders_customers_df.age.apply(\n",
    "    lambda x: \"Youth\" if x <= 24 else (\"Seniors\" if x > 64 else \"Adults\"))\n",
    "orders_customers_df.groupby(by=\"age_group\").order_id.nunique().sort_values(ascending=False)"
   ],
   "metadata": {
    "collapsed": false,
    "ExecuteTime": {
     "end_time": "2023-12-09T02:40:57.220723600Z",
     "start_time": "2023-12-09T02:40:56.874803400Z"
    }
   },
   "id": "ef8a3050589d43ad"
  },
  {
   "cell_type": "markdown",
   "source": [
    "### Eksplorasi Data product_df dan sales_df"
   ],
   "metadata": {
    "collapsed": false
   },
   "id": "628513a9398abc61"
  },
  {
   "cell_type": "code",
   "execution_count": 190,
   "outputs": [
    {
     "data": {
      "text/plain": "         product_id product_type product_name  size colour        price  \\\ncount   1260.000000         1260         1260  1260   1260  1260.000000   \nunique          NaN            3           35     8      7          NaN   \ntop             NaN        Shirt        Denim    XS    red          NaN   \nfreq            NaN          420           70   252    180          NaN   \nmean     629.500000          NaN          NaN   NaN    NaN   105.805556   \nstd      363.874979          NaN          NaN   NaN    NaN     9.704423   \nmin        0.000000          NaN          NaN   NaN    NaN    90.000000   \n25%      314.750000          NaN          NaN   NaN    NaN    95.750000   \n50%      629.500000          NaN          NaN   NaN    NaN   108.500000   \n75%      944.250000          NaN          NaN   NaN    NaN   114.000000   \nmax     1259.000000          NaN          NaN   NaN    NaN   119.000000   \n\n           quantity                                   description  \ncount   1260.000000                                          1260  \nunique          NaN                                          1260  \ntop             NaN  A red coloured, XS sized, Oxford Cloth Shirt  \nfreq            NaN                                             1  \nmean      60.150000                                           NaN  \nstd       11.670573                                           NaN  \nmin       40.000000                                           NaN  \n25%       50.000000                                           NaN  \n50%       60.000000                                           NaN  \n75%       70.000000                                           NaN  \nmax       80.000000                                           NaN  ",
      "text/html": "<div>\n<style scoped>\n    .dataframe tbody tr th:only-of-type {\n        vertical-align: middle;\n    }\n\n    .dataframe tbody tr th {\n        vertical-align: top;\n    }\n\n    .dataframe thead th {\n        text-align: right;\n    }\n</style>\n<table border=\"1\" class=\"dataframe\">\n  <thead>\n    <tr style=\"text-align: right;\">\n      <th></th>\n      <th>product_id</th>\n      <th>product_type</th>\n      <th>product_name</th>\n      <th>size</th>\n      <th>colour</th>\n      <th>price</th>\n      <th>quantity</th>\n      <th>description</th>\n    </tr>\n  </thead>\n  <tbody>\n    <tr>\n      <th>count</th>\n      <td>1260.000000</td>\n      <td>1260</td>\n      <td>1260</td>\n      <td>1260</td>\n      <td>1260</td>\n      <td>1260.000000</td>\n      <td>1260.000000</td>\n      <td>1260</td>\n    </tr>\n    <tr>\n      <th>unique</th>\n      <td>NaN</td>\n      <td>3</td>\n      <td>35</td>\n      <td>8</td>\n      <td>7</td>\n      <td>NaN</td>\n      <td>NaN</td>\n      <td>1260</td>\n    </tr>\n    <tr>\n      <th>top</th>\n      <td>NaN</td>\n      <td>Shirt</td>\n      <td>Denim</td>\n      <td>XS</td>\n      <td>red</td>\n      <td>NaN</td>\n      <td>NaN</td>\n      <td>A red coloured, XS sized, Oxford Cloth Shirt</td>\n    </tr>\n    <tr>\n      <th>freq</th>\n      <td>NaN</td>\n      <td>420</td>\n      <td>70</td>\n      <td>252</td>\n      <td>180</td>\n      <td>NaN</td>\n      <td>NaN</td>\n      <td>1</td>\n    </tr>\n    <tr>\n      <th>mean</th>\n      <td>629.500000</td>\n      <td>NaN</td>\n      <td>NaN</td>\n      <td>NaN</td>\n      <td>NaN</td>\n      <td>105.805556</td>\n      <td>60.150000</td>\n      <td>NaN</td>\n    </tr>\n    <tr>\n      <th>std</th>\n      <td>363.874979</td>\n      <td>NaN</td>\n      <td>NaN</td>\n      <td>NaN</td>\n      <td>NaN</td>\n      <td>9.704423</td>\n      <td>11.670573</td>\n      <td>NaN</td>\n    </tr>\n    <tr>\n      <th>min</th>\n      <td>0.000000</td>\n      <td>NaN</td>\n      <td>NaN</td>\n      <td>NaN</td>\n      <td>NaN</td>\n      <td>90.000000</td>\n      <td>40.000000</td>\n      <td>NaN</td>\n    </tr>\n    <tr>\n      <th>25%</th>\n      <td>314.750000</td>\n      <td>NaN</td>\n      <td>NaN</td>\n      <td>NaN</td>\n      <td>NaN</td>\n      <td>95.750000</td>\n      <td>50.000000</td>\n      <td>NaN</td>\n    </tr>\n    <tr>\n      <th>50%</th>\n      <td>629.500000</td>\n      <td>NaN</td>\n      <td>NaN</td>\n      <td>NaN</td>\n      <td>NaN</td>\n      <td>108.500000</td>\n      <td>60.000000</td>\n      <td>NaN</td>\n    </tr>\n    <tr>\n      <th>75%</th>\n      <td>944.250000</td>\n      <td>NaN</td>\n      <td>NaN</td>\n      <td>NaN</td>\n      <td>NaN</td>\n      <td>114.000000</td>\n      <td>70.000000</td>\n      <td>NaN</td>\n    </tr>\n    <tr>\n      <th>max</th>\n      <td>1259.000000</td>\n      <td>NaN</td>\n      <td>NaN</td>\n      <td>NaN</td>\n      <td>NaN</td>\n      <td>119.000000</td>\n      <td>80.000000</td>\n      <td>NaN</td>\n    </tr>\n  </tbody>\n</table>\n</div>"
     },
     "execution_count": 190,
     "metadata": {},
     "output_type": "execute_result"
    }
   ],
   "source": [
    "product_df.describe(include=\"all\")"
   ],
   "metadata": {
    "collapsed": false,
    "ExecuteTime": {
     "end_time": "2023-12-09T02:40:57.345056500Z",
     "start_time": "2023-12-09T02:40:57.201745200Z"
    }
   },
   "id": "8f68e58056041a3b"
  },
  {
   "cell_type": "code",
   "execution_count": 191,
   "outputs": [
    {
     "data": {
      "text/plain": "          sales_id     order_id   product_id  price_per_unit    quantity  \\\ncount  5000.000000  5000.000000  5000.000000     5000.000000  5000.00000   \nmean   2499.500000   503.038200   634.053200      103.501600     1.99240   \nstd    1443.520003   285.964418   363.255794        9.195004     0.80751   \nmin       0.000000     1.000000     1.000000       90.000000     1.00000   \n25%    1249.750000   258.000000   323.000000       95.000000     1.00000   \n50%    2499.500000   504.500000   635.000000      102.000000     2.00000   \n75%    3749.250000   749.000000   951.000000      112.000000     3.00000   \nmax    4999.000000   999.000000  1259.000000      119.000000     3.00000   \n\n       total_price  \ncount  5000.000000  \nmean    206.360000  \nstd      86.357457  \nmin      90.000000  \n25%     112.000000  \n50%     204.000000  \n75%     285.000000  \nmax     357.000000  ",
      "text/html": "<div>\n<style scoped>\n    .dataframe tbody tr th:only-of-type {\n        vertical-align: middle;\n    }\n\n    .dataframe tbody tr th {\n        vertical-align: top;\n    }\n\n    .dataframe thead th {\n        text-align: right;\n    }\n</style>\n<table border=\"1\" class=\"dataframe\">\n  <thead>\n    <tr style=\"text-align: right;\">\n      <th></th>\n      <th>sales_id</th>\n      <th>order_id</th>\n      <th>product_id</th>\n      <th>price_per_unit</th>\n      <th>quantity</th>\n      <th>total_price</th>\n    </tr>\n  </thead>\n  <tbody>\n    <tr>\n      <th>count</th>\n      <td>5000.000000</td>\n      <td>5000.000000</td>\n      <td>5000.000000</td>\n      <td>5000.000000</td>\n      <td>5000.00000</td>\n      <td>5000.000000</td>\n    </tr>\n    <tr>\n      <th>mean</th>\n      <td>2499.500000</td>\n      <td>503.038200</td>\n      <td>634.053200</td>\n      <td>103.501600</td>\n      <td>1.99240</td>\n      <td>206.360000</td>\n    </tr>\n    <tr>\n      <th>std</th>\n      <td>1443.520003</td>\n      <td>285.964418</td>\n      <td>363.255794</td>\n      <td>9.195004</td>\n      <td>0.80751</td>\n      <td>86.357457</td>\n    </tr>\n    <tr>\n      <th>min</th>\n      <td>0.000000</td>\n      <td>1.000000</td>\n      <td>1.000000</td>\n      <td>90.000000</td>\n      <td>1.00000</td>\n      <td>90.000000</td>\n    </tr>\n    <tr>\n      <th>25%</th>\n      <td>1249.750000</td>\n      <td>258.000000</td>\n      <td>323.000000</td>\n      <td>95.000000</td>\n      <td>1.00000</td>\n      <td>112.000000</td>\n    </tr>\n    <tr>\n      <th>50%</th>\n      <td>2499.500000</td>\n      <td>504.500000</td>\n      <td>635.000000</td>\n      <td>102.000000</td>\n      <td>2.00000</td>\n      <td>204.000000</td>\n    </tr>\n    <tr>\n      <th>75%</th>\n      <td>3749.250000</td>\n      <td>749.000000</td>\n      <td>951.000000</td>\n      <td>112.000000</td>\n      <td>3.00000</td>\n      <td>285.000000</td>\n    </tr>\n    <tr>\n      <th>max</th>\n      <td>4999.000000</td>\n      <td>999.000000</td>\n      <td>1259.000000</td>\n      <td>119.000000</td>\n      <td>3.00000</td>\n      <td>357.000000</td>\n    </tr>\n  </tbody>\n</table>\n</div>"
     },
     "execution_count": 191,
     "metadata": {},
     "output_type": "execute_result"
    }
   ],
   "source": [
    "sales_df.describe(include=\"all\")"
   ],
   "metadata": {
    "collapsed": false,
    "ExecuteTime": {
     "end_time": "2023-12-09T02:40:57.402811300Z",
     "start_time": "2023-12-09T02:40:57.276381800Z"
    }
   },
   "id": "e3d76577c103ac37"
  },
  {
   "cell_type": "code",
   "execution_count": 192,
   "outputs": [
    {
     "data": {
      "text/plain": "      product_id product_type product_name size  colour  price  quantity  \\\n704          698       Jacket        Parka    L  violet    119        53   \n671          665       Jacket        Parka   XS     red    119        65   \n698          692       Jacket        Parka    M  indigo    119        66   \n699          693       Jacket        Parka    L  indigo    119        44   \n700          694       Jacket        Parka   XL  indigo    119        78   \n...          ...          ...          ...  ...     ...    ...       ...   \n1225        1219     Trousers      Pleated   XL  indigo     90        45   \n1226        1220     Trousers      Pleated   XS  violet     90        58   \n1227        1221     Trousers      Pleated    S  violet     90        50   \n1228        1222     Trousers      Pleated    M  violet     90        45   \n599          593       Jacket       Bomber    L  violet     90        68   \n\n                                        description  \n704        A violet coloured, L sized, Parka Jacket  \n671          A red coloured, XS sized, Parka Jacket  \n698        A indigo coloured, M sized, Parka Jacket  \n699        A indigo coloured, L sized, Parka Jacket  \n700       A indigo coloured, XL sized, Parka Jacket  \n...                                             ...  \n1225  A indigo coloured, XL sized, Pleated Trousers  \n1226  A violet coloured, XS sized, Pleated Trousers  \n1227   A violet coloured, S sized, Pleated Trousers  \n1228   A violet coloured, M sized, Pleated Trousers  \n599       A violet coloured, L sized, Bomber Jacket  \n\n[1260 rows x 8 columns]",
      "text/html": "<div>\n<style scoped>\n    .dataframe tbody tr th:only-of-type {\n        vertical-align: middle;\n    }\n\n    .dataframe tbody tr th {\n        vertical-align: top;\n    }\n\n    .dataframe thead th {\n        text-align: right;\n    }\n</style>\n<table border=\"1\" class=\"dataframe\">\n  <thead>\n    <tr style=\"text-align: right;\">\n      <th></th>\n      <th>product_id</th>\n      <th>product_type</th>\n      <th>product_name</th>\n      <th>size</th>\n      <th>colour</th>\n      <th>price</th>\n      <th>quantity</th>\n      <th>description</th>\n    </tr>\n  </thead>\n  <tbody>\n    <tr>\n      <th>704</th>\n      <td>698</td>\n      <td>Jacket</td>\n      <td>Parka</td>\n      <td>L</td>\n      <td>violet</td>\n      <td>119</td>\n      <td>53</td>\n      <td>A violet coloured, L sized, Parka Jacket</td>\n    </tr>\n    <tr>\n      <th>671</th>\n      <td>665</td>\n      <td>Jacket</td>\n      <td>Parka</td>\n      <td>XS</td>\n      <td>red</td>\n      <td>119</td>\n      <td>65</td>\n      <td>A red coloured, XS sized, Parka Jacket</td>\n    </tr>\n    <tr>\n      <th>698</th>\n      <td>692</td>\n      <td>Jacket</td>\n      <td>Parka</td>\n      <td>M</td>\n      <td>indigo</td>\n      <td>119</td>\n      <td>66</td>\n      <td>A indigo coloured, M sized, Parka Jacket</td>\n    </tr>\n    <tr>\n      <th>699</th>\n      <td>693</td>\n      <td>Jacket</td>\n      <td>Parka</td>\n      <td>L</td>\n      <td>indigo</td>\n      <td>119</td>\n      <td>44</td>\n      <td>A indigo coloured, L sized, Parka Jacket</td>\n    </tr>\n    <tr>\n      <th>700</th>\n      <td>694</td>\n      <td>Jacket</td>\n      <td>Parka</td>\n      <td>XL</td>\n      <td>indigo</td>\n      <td>119</td>\n      <td>78</td>\n      <td>A indigo coloured, XL sized, Parka Jacket</td>\n    </tr>\n    <tr>\n      <th>...</th>\n      <td>...</td>\n      <td>...</td>\n      <td>...</td>\n      <td>...</td>\n      <td>...</td>\n      <td>...</td>\n      <td>...</td>\n      <td>...</td>\n    </tr>\n    <tr>\n      <th>1225</th>\n      <td>1219</td>\n      <td>Trousers</td>\n      <td>Pleated</td>\n      <td>XL</td>\n      <td>indigo</td>\n      <td>90</td>\n      <td>45</td>\n      <td>A indigo coloured, XL sized, Pleated Trousers</td>\n    </tr>\n    <tr>\n      <th>1226</th>\n      <td>1220</td>\n      <td>Trousers</td>\n      <td>Pleated</td>\n      <td>XS</td>\n      <td>violet</td>\n      <td>90</td>\n      <td>58</td>\n      <td>A violet coloured, XS sized, Pleated Trousers</td>\n    </tr>\n    <tr>\n      <th>1227</th>\n      <td>1221</td>\n      <td>Trousers</td>\n      <td>Pleated</td>\n      <td>S</td>\n      <td>violet</td>\n      <td>90</td>\n      <td>50</td>\n      <td>A violet coloured, S sized, Pleated Trousers</td>\n    </tr>\n    <tr>\n      <th>1228</th>\n      <td>1222</td>\n      <td>Trousers</td>\n      <td>Pleated</td>\n      <td>M</td>\n      <td>violet</td>\n      <td>90</td>\n      <td>45</td>\n      <td>A violet coloured, M sized, Pleated Trousers</td>\n    </tr>\n    <tr>\n      <th>599</th>\n      <td>593</td>\n      <td>Jacket</td>\n      <td>Bomber</td>\n      <td>L</td>\n      <td>violet</td>\n      <td>90</td>\n      <td>68</td>\n      <td>A violet coloured, L sized, Bomber Jacket</td>\n    </tr>\n  </tbody>\n</table>\n<p>1260 rows × 8 columns</p>\n</div>"
     },
     "execution_count": 192,
     "metadata": {},
     "output_type": "execute_result"
    }
   ],
   "source": [
    "product_df.sort_values(by=\"price\", ascending=False)"
   ],
   "metadata": {
    "collapsed": false,
    "ExecuteTime": {
     "end_time": "2023-12-09T02:40:57.515923500Z",
     "start_time": "2023-12-09T02:40:57.389088600Z"
    }
   },
   "id": "13ab852a59124170"
  },
  {
   "cell_type": "markdown",
   "source": [],
   "metadata": {
    "collapsed": false
   },
   "id": "aba3ae2370577dee"
  },
  {
   "cell_type": "markdown",
   "source": [
    "Pivot table untuk mencari informasi terkait produk berdasarkan tipe dan nama produknya."
   ],
   "metadata": {
    "collapsed": false
   },
   "id": "31c63a0b1e1ac3"
  },
  {
   "cell_type": "code",
   "execution_count": 193,
   "outputs": [
    {
     "data": {
      "text/plain": "             product_id quantity price     \n                nunique      sum   min  max\nproduct_type                               \nJacket              420    25387    90  119\nShirt               420    25263    92  119\nTrousers            420    25139    90  119",
      "text/html": "<div>\n<style scoped>\n    .dataframe tbody tr th:only-of-type {\n        vertical-align: middle;\n    }\n\n    .dataframe tbody tr th {\n        vertical-align: top;\n    }\n\n    .dataframe thead tr th {\n        text-align: left;\n    }\n\n    .dataframe thead tr:last-of-type th {\n        text-align: right;\n    }\n</style>\n<table border=\"1\" class=\"dataframe\">\n  <thead>\n    <tr>\n      <th></th>\n      <th>product_id</th>\n      <th>quantity</th>\n      <th colspan=\"2\" halign=\"left\">price</th>\n    </tr>\n    <tr>\n      <th></th>\n      <th>nunique</th>\n      <th>sum</th>\n      <th>min</th>\n      <th>max</th>\n    </tr>\n    <tr>\n      <th>product_type</th>\n      <th></th>\n      <th></th>\n      <th></th>\n      <th></th>\n    </tr>\n  </thead>\n  <tbody>\n    <tr>\n      <th>Jacket</th>\n      <td>420</td>\n      <td>25387</td>\n      <td>90</td>\n      <td>119</td>\n    </tr>\n    <tr>\n      <th>Shirt</th>\n      <td>420</td>\n      <td>25263</td>\n      <td>92</td>\n      <td>119</td>\n    </tr>\n    <tr>\n      <th>Trousers</th>\n      <td>420</td>\n      <td>25139</td>\n      <td>90</td>\n      <td>119</td>\n    </tr>\n  </tbody>\n</table>\n</div>"
     },
     "execution_count": 193,
     "metadata": {},
     "output_type": "execute_result"
    }
   ],
   "source": [
    "product_df.groupby(by=\"product_type\").agg({\n",
    "    \"product_id\": \"nunique\",\n",
    "    \"quantity\": \"sum\",\n",
    "    \"price\": [\"min\", \"max\"]\n",
    "})"
   ],
   "metadata": {
    "collapsed": false,
    "ExecuteTime": {
     "end_time": "2023-12-09T02:40:57.683348400Z",
     "start_time": "2023-12-09T02:40:57.483854400Z"
    }
   },
   "id": "badcfc97fae00907"
  },
  {
   "cell_type": "code",
   "execution_count": 194,
   "outputs": [
    {
     "data": {
      "text/plain": "                  product_id quantity price     \n                     nunique      sum   min  max\nproduct_name                                    \nBomber                    35     2083    90   90\nCamp Collared             35     2071   112  112\nCardigan                  35     2032   118  118\nCargo Pants               35     2146   106  106\nCasual Slim Fit           35     2086   113  113\nChambray                  35     2020   105  105\nChinos                    35     2101   100  100\nCoach                     35     2158   115  115\nCords                     35     2260   113  113\nCropped                   35     2085    99   99\nCuban Collar              35     2017    93   93\nDenim                     70     4204    92  115\nDrawstring                35     2042   104  104\nDress                     35     2125   119  119\nFlannel                   35     2135    96   96\nHenley                    35     2051    92   92\nHigh-Waisted              35     2198    98   98\nJoggers                   35     2107    94   94\nLeather                   35     2276   113  113\nLinen                     35     2138   116  116\nMandarin Collar           35     2203   108  108\nOxford Cloth              35     2071   114  114\nParka                     35     2201   119  119\nPeacoat                   35     2067   102  102\nPleated                   35     2030    90   90\nPolo                      35     2196   117  117\nPuffer                    35     1946   110  110\nPullover                  35     2184   114  114\nRelaxed Leg               35     2002    95   95\nShearling                 35     2169    95   95\nSlim-Fit                  35     2155   119  119\nTracksuit Bottoms         35     2038    91   91\nTrench Coat               35     2132   112  112\nWindbreaker               35     2085   109  109\nWool                      35     1975   111  111",
      "text/html": "<div>\n<style scoped>\n    .dataframe tbody tr th:only-of-type {\n        vertical-align: middle;\n    }\n\n    .dataframe tbody tr th {\n        vertical-align: top;\n    }\n\n    .dataframe thead tr th {\n        text-align: left;\n    }\n\n    .dataframe thead tr:last-of-type th {\n        text-align: right;\n    }\n</style>\n<table border=\"1\" class=\"dataframe\">\n  <thead>\n    <tr>\n      <th></th>\n      <th>product_id</th>\n      <th>quantity</th>\n      <th colspan=\"2\" halign=\"left\">price</th>\n    </tr>\n    <tr>\n      <th></th>\n      <th>nunique</th>\n      <th>sum</th>\n      <th>min</th>\n      <th>max</th>\n    </tr>\n    <tr>\n      <th>product_name</th>\n      <th></th>\n      <th></th>\n      <th></th>\n      <th></th>\n    </tr>\n  </thead>\n  <tbody>\n    <tr>\n      <th>Bomber</th>\n      <td>35</td>\n      <td>2083</td>\n      <td>90</td>\n      <td>90</td>\n    </tr>\n    <tr>\n      <th>Camp Collared</th>\n      <td>35</td>\n      <td>2071</td>\n      <td>112</td>\n      <td>112</td>\n    </tr>\n    <tr>\n      <th>Cardigan</th>\n      <td>35</td>\n      <td>2032</td>\n      <td>118</td>\n      <td>118</td>\n    </tr>\n    <tr>\n      <th>Cargo Pants</th>\n      <td>35</td>\n      <td>2146</td>\n      <td>106</td>\n      <td>106</td>\n    </tr>\n    <tr>\n      <th>Casual Slim Fit</th>\n      <td>35</td>\n      <td>2086</td>\n      <td>113</td>\n      <td>113</td>\n    </tr>\n    <tr>\n      <th>Chambray</th>\n      <td>35</td>\n      <td>2020</td>\n      <td>105</td>\n      <td>105</td>\n    </tr>\n    <tr>\n      <th>Chinos</th>\n      <td>35</td>\n      <td>2101</td>\n      <td>100</td>\n      <td>100</td>\n    </tr>\n    <tr>\n      <th>Coach</th>\n      <td>35</td>\n      <td>2158</td>\n      <td>115</td>\n      <td>115</td>\n    </tr>\n    <tr>\n      <th>Cords</th>\n      <td>35</td>\n      <td>2260</td>\n      <td>113</td>\n      <td>113</td>\n    </tr>\n    <tr>\n      <th>Cropped</th>\n      <td>35</td>\n      <td>2085</td>\n      <td>99</td>\n      <td>99</td>\n    </tr>\n    <tr>\n      <th>Cuban Collar</th>\n      <td>35</td>\n      <td>2017</td>\n      <td>93</td>\n      <td>93</td>\n    </tr>\n    <tr>\n      <th>Denim</th>\n      <td>70</td>\n      <td>4204</td>\n      <td>92</td>\n      <td>115</td>\n    </tr>\n    <tr>\n      <th>Drawstring</th>\n      <td>35</td>\n      <td>2042</td>\n      <td>104</td>\n      <td>104</td>\n    </tr>\n    <tr>\n      <th>Dress</th>\n      <td>35</td>\n      <td>2125</td>\n      <td>119</td>\n      <td>119</td>\n    </tr>\n    <tr>\n      <th>Flannel</th>\n      <td>35</td>\n      <td>2135</td>\n      <td>96</td>\n      <td>96</td>\n    </tr>\n    <tr>\n      <th>Henley</th>\n      <td>35</td>\n      <td>2051</td>\n      <td>92</td>\n      <td>92</td>\n    </tr>\n    <tr>\n      <th>High-Waisted</th>\n      <td>35</td>\n      <td>2198</td>\n      <td>98</td>\n      <td>98</td>\n    </tr>\n    <tr>\n      <th>Joggers</th>\n      <td>35</td>\n      <td>2107</td>\n      <td>94</td>\n      <td>94</td>\n    </tr>\n    <tr>\n      <th>Leather</th>\n      <td>35</td>\n      <td>2276</td>\n      <td>113</td>\n      <td>113</td>\n    </tr>\n    <tr>\n      <th>Linen</th>\n      <td>35</td>\n      <td>2138</td>\n      <td>116</td>\n      <td>116</td>\n    </tr>\n    <tr>\n      <th>Mandarin Collar</th>\n      <td>35</td>\n      <td>2203</td>\n      <td>108</td>\n      <td>108</td>\n    </tr>\n    <tr>\n      <th>Oxford Cloth</th>\n      <td>35</td>\n      <td>2071</td>\n      <td>114</td>\n      <td>114</td>\n    </tr>\n    <tr>\n      <th>Parka</th>\n      <td>35</td>\n      <td>2201</td>\n      <td>119</td>\n      <td>119</td>\n    </tr>\n    <tr>\n      <th>Peacoat</th>\n      <td>35</td>\n      <td>2067</td>\n      <td>102</td>\n      <td>102</td>\n    </tr>\n    <tr>\n      <th>Pleated</th>\n      <td>35</td>\n      <td>2030</td>\n      <td>90</td>\n      <td>90</td>\n    </tr>\n    <tr>\n      <th>Polo</th>\n      <td>35</td>\n      <td>2196</td>\n      <td>117</td>\n      <td>117</td>\n    </tr>\n    <tr>\n      <th>Puffer</th>\n      <td>35</td>\n      <td>1946</td>\n      <td>110</td>\n      <td>110</td>\n    </tr>\n    <tr>\n      <th>Pullover</th>\n      <td>35</td>\n      <td>2184</td>\n      <td>114</td>\n      <td>114</td>\n    </tr>\n    <tr>\n      <th>Relaxed Leg</th>\n      <td>35</td>\n      <td>2002</td>\n      <td>95</td>\n      <td>95</td>\n    </tr>\n    <tr>\n      <th>Shearling</th>\n      <td>35</td>\n      <td>2169</td>\n      <td>95</td>\n      <td>95</td>\n    </tr>\n    <tr>\n      <th>Slim-Fit</th>\n      <td>35</td>\n      <td>2155</td>\n      <td>119</td>\n      <td>119</td>\n    </tr>\n    <tr>\n      <th>Tracksuit Bottoms</th>\n      <td>35</td>\n      <td>2038</td>\n      <td>91</td>\n      <td>91</td>\n    </tr>\n    <tr>\n      <th>Trench Coat</th>\n      <td>35</td>\n      <td>2132</td>\n      <td>112</td>\n      <td>112</td>\n    </tr>\n    <tr>\n      <th>Windbreaker</th>\n      <td>35</td>\n      <td>2085</td>\n      <td>109</td>\n      <td>109</td>\n    </tr>\n    <tr>\n      <th>Wool</th>\n      <td>35</td>\n      <td>1975</td>\n      <td>111</td>\n      <td>111</td>\n    </tr>\n  </tbody>\n</table>\n</div>"
     },
     "execution_count": 194,
     "metadata": {},
     "output_type": "execute_result"
    }
   ],
   "source": [
    "product_df.groupby(by=\"product_name\").agg({\n",
    "    \"product_id\": \"nunique\",\n",
    "    \"quantity\": \"sum\",\n",
    "    \"price\": [\"min\", \"max\"]\n",
    "})"
   ],
   "metadata": {
    "collapsed": false,
    "ExecuteTime": {
     "end_time": "2023-12-09T02:40:58.046968300Z",
     "start_time": "2023-12-09T02:40:57.664102700Z"
    }
   },
   "id": "2252f16ef0044473"
  },
  {
   "cell_type": "markdown",
   "source": [],
   "metadata": {
    "collapsed": false
   },
   "id": "a86516efb8efedec"
  },
  {
   "cell_type": "markdown",
   "source": [
    "Mencari produk yang paling laris dengan menyatukan (merge) tabel product_df dan sales_df"
   ],
   "metadata": {
    "collapsed": false
   },
   "id": "2ebc8a36b64a0367"
  },
  {
   "cell_type": "code",
   "execution_count": 195,
   "outputs": [
    {
     "data": {
      "text/plain": "   sales_id  order_id  product_id  price_per_unit  quantity_x  total_price  \\\n0         0         1         218             106           2          212   \n1         1         1         481             118           1          118   \n2         2         1           2              96           3          288   \n3         3         1        1002             106           2          212   \n4         4         1         691             113           3          339   \n\n  product_type  product_name size  colour  price  quantity_y  \\\n0        Shirt      Chambray    L  orange    105          44   \n1       Jacket        Puffer    S  indigo    110          62   \n2        Shirt  Oxford Cloth    M     red    114          54   \n3     Trousers          Wool    M    blue    111          52   \n4       Jacket         Parka    S  indigo    119          53   \n\n                                   description  \n0   A orange coloured, L sized, Chambray Shirt  \n1    A indigo coloured, S sized, Puffer Jacket  \n2  A red coloured, M sized, Oxford Cloth Shirt  \n3      A blue coloured, M sized, Wool Trousers  \n4     A indigo coloured, S sized, Parka Jacket  ",
      "text/html": "<div>\n<style scoped>\n    .dataframe tbody tr th:only-of-type {\n        vertical-align: middle;\n    }\n\n    .dataframe tbody tr th {\n        vertical-align: top;\n    }\n\n    .dataframe thead th {\n        text-align: right;\n    }\n</style>\n<table border=\"1\" class=\"dataframe\">\n  <thead>\n    <tr style=\"text-align: right;\">\n      <th></th>\n      <th>sales_id</th>\n      <th>order_id</th>\n      <th>product_id</th>\n      <th>price_per_unit</th>\n      <th>quantity_x</th>\n      <th>total_price</th>\n      <th>product_type</th>\n      <th>product_name</th>\n      <th>size</th>\n      <th>colour</th>\n      <th>price</th>\n      <th>quantity_y</th>\n      <th>description</th>\n    </tr>\n  </thead>\n  <tbody>\n    <tr>\n      <th>0</th>\n      <td>0</td>\n      <td>1</td>\n      <td>218</td>\n      <td>106</td>\n      <td>2</td>\n      <td>212</td>\n      <td>Shirt</td>\n      <td>Chambray</td>\n      <td>L</td>\n      <td>orange</td>\n      <td>105</td>\n      <td>44</td>\n      <td>A orange coloured, L sized, Chambray Shirt</td>\n    </tr>\n    <tr>\n      <th>1</th>\n      <td>1</td>\n      <td>1</td>\n      <td>481</td>\n      <td>118</td>\n      <td>1</td>\n      <td>118</td>\n      <td>Jacket</td>\n      <td>Puffer</td>\n      <td>S</td>\n      <td>indigo</td>\n      <td>110</td>\n      <td>62</td>\n      <td>A indigo coloured, S sized, Puffer Jacket</td>\n    </tr>\n    <tr>\n      <th>2</th>\n      <td>2</td>\n      <td>1</td>\n      <td>2</td>\n      <td>96</td>\n      <td>3</td>\n      <td>288</td>\n      <td>Shirt</td>\n      <td>Oxford Cloth</td>\n      <td>M</td>\n      <td>red</td>\n      <td>114</td>\n      <td>54</td>\n      <td>A red coloured, M sized, Oxford Cloth Shirt</td>\n    </tr>\n    <tr>\n      <th>3</th>\n      <td>3</td>\n      <td>1</td>\n      <td>1002</td>\n      <td>106</td>\n      <td>2</td>\n      <td>212</td>\n      <td>Trousers</td>\n      <td>Wool</td>\n      <td>M</td>\n      <td>blue</td>\n      <td>111</td>\n      <td>52</td>\n      <td>A blue coloured, M sized, Wool Trousers</td>\n    </tr>\n    <tr>\n      <th>4</th>\n      <td>4</td>\n      <td>1</td>\n      <td>691</td>\n      <td>113</td>\n      <td>3</td>\n      <td>339</td>\n      <td>Jacket</td>\n      <td>Parka</td>\n      <td>S</td>\n      <td>indigo</td>\n      <td>119</td>\n      <td>53</td>\n      <td>A indigo coloured, S sized, Parka Jacket</td>\n    </tr>\n  </tbody>\n</table>\n</div>"
     },
     "execution_count": 195,
     "metadata": {},
     "output_type": "execute_result"
    }
   ],
   "source": [
    "sales_product_df = pd.merge(\n",
    "    left=sales_df,\n",
    "    right=product_df,\n",
    "    how=\"left\",\n",
    "    left_on=\"product_id\",\n",
    "    right_on=\"product_id\"\n",
    ")\n",
    "sales_product_df.head()"
   ],
   "metadata": {
    "collapsed": false,
    "ExecuteTime": {
     "end_time": "2023-12-09T02:40:58.277814200Z",
     "start_time": "2023-12-09T02:40:58.013643900Z"
    }
   },
   "id": "cd2b243225c573ae"
  },
  {
   "cell_type": "markdown",
   "source": [],
   "metadata": {
    "collapsed": false
   },
   "id": "14cc625a40d682ee"
  },
  {
   "cell_type": "markdown",
   "source": [
    "Mencari informasi penjualan produk berdasarkan tipenya dengan pivot tabel berdasarkan product type"
   ],
   "metadata": {
    "collapsed": false
   },
   "id": "e6ede9a622344fa7"
  },
  {
   "cell_type": "code",
   "execution_count": 196,
   "outputs": [
    {
     "data": {
      "text/plain": "              sales_id  quantity_x  total_price\nproduct_type                                   \nJacket            1676        3343       357026\nShirt             1641        3259       333600\nTrousers          1683        3360       341174",
      "text/html": "<div>\n<style scoped>\n    .dataframe tbody tr th:only-of-type {\n        vertical-align: middle;\n    }\n\n    .dataframe tbody tr th {\n        vertical-align: top;\n    }\n\n    .dataframe thead th {\n        text-align: right;\n    }\n</style>\n<table border=\"1\" class=\"dataframe\">\n  <thead>\n    <tr style=\"text-align: right;\">\n      <th></th>\n      <th>sales_id</th>\n      <th>quantity_x</th>\n      <th>total_price</th>\n    </tr>\n    <tr>\n      <th>product_type</th>\n      <th></th>\n      <th></th>\n      <th></th>\n    </tr>\n  </thead>\n  <tbody>\n    <tr>\n      <th>Jacket</th>\n      <td>1676</td>\n      <td>3343</td>\n      <td>357026</td>\n    </tr>\n    <tr>\n      <th>Shirt</th>\n      <td>1641</td>\n      <td>3259</td>\n      <td>333600</td>\n    </tr>\n    <tr>\n      <th>Trousers</th>\n      <td>1683</td>\n      <td>3360</td>\n      <td>341174</td>\n    </tr>\n  </tbody>\n</table>\n</div>"
     },
     "execution_count": 196,
     "metadata": {},
     "output_type": "execute_result"
    }
   ],
   "source": [
    "sales_product_df.groupby(by=\"product_type\").agg({\n",
    "    \"sales_id\": \"nunique\",\n",
    "    \"quantity_x\": \"sum\",\n",
    "    \"total_price\": \"sum\"\n",
    "})"
   ],
   "metadata": {
    "collapsed": false,
    "ExecuteTime": {
     "end_time": "2023-12-09T02:40:58.447228900Z",
     "start_time": "2023-12-09T02:40:58.178268800Z"
    }
   },
   "id": "e2b5564c038b62ea"
  },
  {
   "cell_type": "markdown",
   "source": [],
   "metadata": {
    "collapsed": false
   },
   "id": "16adea1b62b162bb"
  },
  {
   "cell_type": "markdown",
   "source": [
    "Mencari informasi penjualan produk berdasarkan nama produk dengan pivot tabel"
   ],
   "metadata": {
    "collapsed": false
   },
   "id": "f10b44c64d452e5d"
  },
  {
   "cell_type": "code",
   "execution_count": 197,
   "outputs": [
    {
     "data": {
      "text/plain": "                   sales_id  quantity_x  total_price\nproduct_name                                        \nDenim                   273         527        52399\nCasual Slim Fit         154         306        36414\nTrench Coat             146         299        35581\nShearling               150         302        35334\nPuffer                  140         298        35164\nFlannel                 141         281        33158\nCropped                 135         284        32660\nPleated                 147         308        32340\nJoggers                 164         334        31062\nChambray                141         290        30740\nParka                   134         269        30397\nBomber                  150         297        29700\nChinos                  135         260        29380\nWindbreaker             143         287        29274\nCardigan                134         260        29120\nPeacoat                 132         266        28994\nTracksuit Bottoms       130         257        28784\nSlim-Fit                154         288        27936\nOxford Cloth            146         289        27744\nDrawstring              147         288        27648\nHigh-Waisted            140         278        27522\nCamp Collared           139         279        27342\nCargo Pants             134         267        27234\nRelaxed Leg             146         301        27090\nCuban Collar            122         254        26670\nHenley                  146         281        26414\nWool                    125         249        26394\nLeather                 136         263        25774\nMandarin Collar         124         236        25724\nDress                   127         243        25272\nPullover                143         276        25116\nPolo                    131         264        25080\nCoach                   134         265        24645\nLinen                   131         270        24570\nCords                   126         246        23124",
      "text/html": "<div>\n<style scoped>\n    .dataframe tbody tr th:only-of-type {\n        vertical-align: middle;\n    }\n\n    .dataframe tbody tr th {\n        vertical-align: top;\n    }\n\n    .dataframe thead th {\n        text-align: right;\n    }\n</style>\n<table border=\"1\" class=\"dataframe\">\n  <thead>\n    <tr style=\"text-align: right;\">\n      <th></th>\n      <th>sales_id</th>\n      <th>quantity_x</th>\n      <th>total_price</th>\n    </tr>\n    <tr>\n      <th>product_name</th>\n      <th></th>\n      <th></th>\n      <th></th>\n    </tr>\n  </thead>\n  <tbody>\n    <tr>\n      <th>Denim</th>\n      <td>273</td>\n      <td>527</td>\n      <td>52399</td>\n    </tr>\n    <tr>\n      <th>Casual Slim Fit</th>\n      <td>154</td>\n      <td>306</td>\n      <td>36414</td>\n    </tr>\n    <tr>\n      <th>Trench Coat</th>\n      <td>146</td>\n      <td>299</td>\n      <td>35581</td>\n    </tr>\n    <tr>\n      <th>Shearling</th>\n      <td>150</td>\n      <td>302</td>\n      <td>35334</td>\n    </tr>\n    <tr>\n      <th>Puffer</th>\n      <td>140</td>\n      <td>298</td>\n      <td>35164</td>\n    </tr>\n    <tr>\n      <th>Flannel</th>\n      <td>141</td>\n      <td>281</td>\n      <td>33158</td>\n    </tr>\n    <tr>\n      <th>Cropped</th>\n      <td>135</td>\n      <td>284</td>\n      <td>32660</td>\n    </tr>\n    <tr>\n      <th>Pleated</th>\n      <td>147</td>\n      <td>308</td>\n      <td>32340</td>\n    </tr>\n    <tr>\n      <th>Joggers</th>\n      <td>164</td>\n      <td>334</td>\n      <td>31062</td>\n    </tr>\n    <tr>\n      <th>Chambray</th>\n      <td>141</td>\n      <td>290</td>\n      <td>30740</td>\n    </tr>\n    <tr>\n      <th>Parka</th>\n      <td>134</td>\n      <td>269</td>\n      <td>30397</td>\n    </tr>\n    <tr>\n      <th>Bomber</th>\n      <td>150</td>\n      <td>297</td>\n      <td>29700</td>\n    </tr>\n    <tr>\n      <th>Chinos</th>\n      <td>135</td>\n      <td>260</td>\n      <td>29380</td>\n    </tr>\n    <tr>\n      <th>Windbreaker</th>\n      <td>143</td>\n      <td>287</td>\n      <td>29274</td>\n    </tr>\n    <tr>\n      <th>Cardigan</th>\n      <td>134</td>\n      <td>260</td>\n      <td>29120</td>\n    </tr>\n    <tr>\n      <th>Peacoat</th>\n      <td>132</td>\n      <td>266</td>\n      <td>28994</td>\n    </tr>\n    <tr>\n      <th>Tracksuit Bottoms</th>\n      <td>130</td>\n      <td>257</td>\n      <td>28784</td>\n    </tr>\n    <tr>\n      <th>Slim-Fit</th>\n      <td>154</td>\n      <td>288</td>\n      <td>27936</td>\n    </tr>\n    <tr>\n      <th>Oxford Cloth</th>\n      <td>146</td>\n      <td>289</td>\n      <td>27744</td>\n    </tr>\n    <tr>\n      <th>Drawstring</th>\n      <td>147</td>\n      <td>288</td>\n      <td>27648</td>\n    </tr>\n    <tr>\n      <th>High-Waisted</th>\n      <td>140</td>\n      <td>278</td>\n      <td>27522</td>\n    </tr>\n    <tr>\n      <th>Camp Collared</th>\n      <td>139</td>\n      <td>279</td>\n      <td>27342</td>\n    </tr>\n    <tr>\n      <th>Cargo Pants</th>\n      <td>134</td>\n      <td>267</td>\n      <td>27234</td>\n    </tr>\n    <tr>\n      <th>Relaxed Leg</th>\n      <td>146</td>\n      <td>301</td>\n      <td>27090</td>\n    </tr>\n    <tr>\n      <th>Cuban Collar</th>\n      <td>122</td>\n      <td>254</td>\n      <td>26670</td>\n    </tr>\n    <tr>\n      <th>Henley</th>\n      <td>146</td>\n      <td>281</td>\n      <td>26414</td>\n    </tr>\n    <tr>\n      <th>Wool</th>\n      <td>125</td>\n      <td>249</td>\n      <td>26394</td>\n    </tr>\n    <tr>\n      <th>Leather</th>\n      <td>136</td>\n      <td>263</td>\n      <td>25774</td>\n    </tr>\n    <tr>\n      <th>Mandarin Collar</th>\n      <td>124</td>\n      <td>236</td>\n      <td>25724</td>\n    </tr>\n    <tr>\n      <th>Dress</th>\n      <td>127</td>\n      <td>243</td>\n      <td>25272</td>\n    </tr>\n    <tr>\n      <th>Pullover</th>\n      <td>143</td>\n      <td>276</td>\n      <td>25116</td>\n    </tr>\n    <tr>\n      <th>Polo</th>\n      <td>131</td>\n      <td>264</td>\n      <td>25080</td>\n    </tr>\n    <tr>\n      <th>Coach</th>\n      <td>134</td>\n      <td>265</td>\n      <td>24645</td>\n    </tr>\n    <tr>\n      <th>Linen</th>\n      <td>131</td>\n      <td>270</td>\n      <td>24570</td>\n    </tr>\n    <tr>\n      <th>Cords</th>\n      <td>126</td>\n      <td>246</td>\n      <td>23124</td>\n    </tr>\n  </tbody>\n</table>\n</div>"
     },
     "execution_count": 197,
     "metadata": {},
     "output_type": "execute_result"
    }
   ],
   "source": [
    "sales_product_df.groupby(by=\"product_name\").agg({\n",
    "    \"sales_id\": \"nunique\",\n",
    "    \"quantity_x\": \"sum\",\n",
    "    \"total_price\": \"sum\"\n",
    "}).sort_values(by=\"total_price\", ascending=False)"
   ],
   "metadata": {
    "collapsed": false,
    "ExecuteTime": {
     "end_time": "2023-12-09T02:40:58.687996600Z",
     "start_time": "2023-12-09T02:40:58.430717400Z"
    }
   },
   "id": "275ac9e968e56c23"
  },
  {
   "cell_type": "markdown",
   "source": [],
   "metadata": {
    "collapsed": false
   },
   "id": "fce2b1b289e5e0a0"
  },
  {
   "cell_type": "markdown",
   "source": [
    "### Eksplorasi data all_df"
   ],
   "metadata": {
    "collapsed": false
   },
   "id": "7c70adaeef82bee9"
  },
  {
   "cell_type": "markdown",
   "source": [
    "Membuat DataFrame baru bernama all_df untuk menampung semua informasi dari keempat tabel."
   ],
   "metadata": {
    "collapsed": false
   },
   "id": "f74a9277d07d01be"
  },
  {
   "cell_type": "code",
   "execution_count": 198,
   "outputs": [
    {
     "data": {
      "text/plain": "   sales_id  order_id  product_id  price_per_unit  quantity_x  total_price  \\\n0         0         1         218             106           2          212   \n1         1         1         481             118           1          118   \n2         2         1           2              96           3          288   \n3         3         1        1002             106           2          212   \n4         4         1         691             113           3          339   \n\n  product_type  product_name size  colour  ...  customer_name  \\\n0        Shirt      Chambray    L  orange  ...       fulan 64   \n1       Jacket        Puffer    S  indigo  ...       fulan 64   \n2        Shirt  Oxford Cloth    M     red  ...       fulan 64   \n3     Trousers          Wool    M    blue  ...       fulan 64   \n4       Jacket         Parka    S  indigo  ...       fulan 64   \n\n              gender age               home_address  zip_code            city  \\\n0  Prefer not to say  75  4927 Alice MeadowApt. 960      7787  Sanfordborough   \n1  Prefer not to say  75  4927 Alice MeadowApt. 960      7787  Sanfordborough   \n2  Prefer not to say  75  4927 Alice MeadowApt. 960      7787  Sanfordborough   \n3  Prefer not to say  75  4927 Alice MeadowApt. 960      7787  Sanfordborough   \n4  Prefer not to say  75  4927 Alice MeadowApt. 960      7787  Sanfordborough   \n\n             state    country  status age_group  \n0  South Australia  Australia  Active   Seniors  \n1  South Australia  Australia  Active   Seniors  \n2  South Australia  Australia  Active   Seniors  \n3  South Australia  Australia  Active   Seniors  \n4  South Australia  Australia  Active   Seniors  \n\n[5 rows x 28 columns]",
      "text/html": "<div>\n<style scoped>\n    .dataframe tbody tr th:only-of-type {\n        vertical-align: middle;\n    }\n\n    .dataframe tbody tr th {\n        vertical-align: top;\n    }\n\n    .dataframe thead th {\n        text-align: right;\n    }\n</style>\n<table border=\"1\" class=\"dataframe\">\n  <thead>\n    <tr style=\"text-align: right;\">\n      <th></th>\n      <th>sales_id</th>\n      <th>order_id</th>\n      <th>product_id</th>\n      <th>price_per_unit</th>\n      <th>quantity_x</th>\n      <th>total_price</th>\n      <th>product_type</th>\n      <th>product_name</th>\n      <th>size</th>\n      <th>colour</th>\n      <th>...</th>\n      <th>customer_name</th>\n      <th>gender</th>\n      <th>age</th>\n      <th>home_address</th>\n      <th>zip_code</th>\n      <th>city</th>\n      <th>state</th>\n      <th>country</th>\n      <th>status</th>\n      <th>age_group</th>\n    </tr>\n  </thead>\n  <tbody>\n    <tr>\n      <th>0</th>\n      <td>0</td>\n      <td>1</td>\n      <td>218</td>\n      <td>106</td>\n      <td>2</td>\n      <td>212</td>\n      <td>Shirt</td>\n      <td>Chambray</td>\n      <td>L</td>\n      <td>orange</td>\n      <td>...</td>\n      <td>fulan 64</td>\n      <td>Prefer not to say</td>\n      <td>75</td>\n      <td>4927 Alice MeadowApt. 960</td>\n      <td>7787</td>\n      <td>Sanfordborough</td>\n      <td>South Australia</td>\n      <td>Australia</td>\n      <td>Active</td>\n      <td>Seniors</td>\n    </tr>\n    <tr>\n      <th>1</th>\n      <td>1</td>\n      <td>1</td>\n      <td>481</td>\n      <td>118</td>\n      <td>1</td>\n      <td>118</td>\n      <td>Jacket</td>\n      <td>Puffer</td>\n      <td>S</td>\n      <td>indigo</td>\n      <td>...</td>\n      <td>fulan 64</td>\n      <td>Prefer not to say</td>\n      <td>75</td>\n      <td>4927 Alice MeadowApt. 960</td>\n      <td>7787</td>\n      <td>Sanfordborough</td>\n      <td>South Australia</td>\n      <td>Australia</td>\n      <td>Active</td>\n      <td>Seniors</td>\n    </tr>\n    <tr>\n      <th>2</th>\n      <td>2</td>\n      <td>1</td>\n      <td>2</td>\n      <td>96</td>\n      <td>3</td>\n      <td>288</td>\n      <td>Shirt</td>\n      <td>Oxford Cloth</td>\n      <td>M</td>\n      <td>red</td>\n      <td>...</td>\n      <td>fulan 64</td>\n      <td>Prefer not to say</td>\n      <td>75</td>\n      <td>4927 Alice MeadowApt. 960</td>\n      <td>7787</td>\n      <td>Sanfordborough</td>\n      <td>South Australia</td>\n      <td>Australia</td>\n      <td>Active</td>\n      <td>Seniors</td>\n    </tr>\n    <tr>\n      <th>3</th>\n      <td>3</td>\n      <td>1</td>\n      <td>1002</td>\n      <td>106</td>\n      <td>2</td>\n      <td>212</td>\n      <td>Trousers</td>\n      <td>Wool</td>\n      <td>M</td>\n      <td>blue</td>\n      <td>...</td>\n      <td>fulan 64</td>\n      <td>Prefer not to say</td>\n      <td>75</td>\n      <td>4927 Alice MeadowApt. 960</td>\n      <td>7787</td>\n      <td>Sanfordborough</td>\n      <td>South Australia</td>\n      <td>Australia</td>\n      <td>Active</td>\n      <td>Seniors</td>\n    </tr>\n    <tr>\n      <th>4</th>\n      <td>4</td>\n      <td>1</td>\n      <td>691</td>\n      <td>113</td>\n      <td>3</td>\n      <td>339</td>\n      <td>Jacket</td>\n      <td>Parka</td>\n      <td>S</td>\n      <td>indigo</td>\n      <td>...</td>\n      <td>fulan 64</td>\n      <td>Prefer not to say</td>\n      <td>75</td>\n      <td>4927 Alice MeadowApt. 960</td>\n      <td>7787</td>\n      <td>Sanfordborough</td>\n      <td>South Australia</td>\n      <td>Australia</td>\n      <td>Active</td>\n      <td>Seniors</td>\n    </tr>\n  </tbody>\n</table>\n<p>5 rows × 28 columns</p>\n</div>"
     },
     "execution_count": 198,
     "metadata": {},
     "output_type": "execute_result"
    }
   ],
   "source": [
    "all_df = pd.merge(\n",
    "    left = sales_product_df,\n",
    "    right = orders_customers_df,\n",
    "    how = \"left\",\n",
    "    left_on = \"order_id\",\n",
    "    right_on = \"order_id\"\n",
    ")\n",
    "all_df.head()"
   ],
   "metadata": {
    "collapsed": false,
    "ExecuteTime": {
     "end_time": "2023-12-09T02:42:53.692527200Z",
     "start_time": "2023-12-09T02:42:53.628384900Z"
    }
   },
   "id": "c0eff5afb6bb25d3"
  },
  {
   "cell_type": "markdown",
   "source": [],
   "metadata": {
    "collapsed": false
   },
   "id": "4e71a79bd16cded4"
  },
  {
   "cell_type": "markdown",
   "source": [
    "Melihat preferensi pembelian berdasarkan state pelanggan dan tipe produk"
   ],
   "metadata": {
    "collapsed": false
   },
   "id": "aa79dab9dfe2972d"
  },
  {
   "cell_type": "code",
   "execution_count": 199,
   "outputs": [
    {
     "data": {
      "text/plain": "                                           quantity_x  total_price\nstate                        product_type                         \nAustralian Capital Territory Jacket               406        43204\n                             Shirt                396        40448\n                             Trousers             454        46790\nNew South Wales              Jacket               451        47998\n                             Shirt                431        43980\n                             Trousers             392        39766\nNorthern Territory           Jacket               365        38991\n                             Shirt                336        33865\n                             Trousers             384        38998\nQueensland                   Jacket               499        53511\n                             Shirt                417        42506\n                             Trousers             453        46045\nSouth Australia              Jacket               461        49090\n                             Shirt                509        52685\n                             Trousers             455        46041\nTasmania                     Jacket               412        44370\n                             Shirt                387        39668\n                             Trousers             379        38057\nVictoria                     Jacket               359        38203\n                             Shirt                390        40206\n                             Trousers             414        41948\nWestern Australia            Jacket               390        41659\n                             Shirt                393        40242\n                             Trousers             429        43529",
      "text/html": "<div>\n<style scoped>\n    .dataframe tbody tr th:only-of-type {\n        vertical-align: middle;\n    }\n\n    .dataframe tbody tr th {\n        vertical-align: top;\n    }\n\n    .dataframe thead th {\n        text-align: right;\n    }\n</style>\n<table border=\"1\" class=\"dataframe\">\n  <thead>\n    <tr style=\"text-align: right;\">\n      <th></th>\n      <th></th>\n      <th>quantity_x</th>\n      <th>total_price</th>\n    </tr>\n    <tr>\n      <th>state</th>\n      <th>product_type</th>\n      <th></th>\n      <th></th>\n    </tr>\n  </thead>\n  <tbody>\n    <tr>\n      <th rowspan=\"3\" valign=\"top\">Australian Capital Territory</th>\n      <th>Jacket</th>\n      <td>406</td>\n      <td>43204</td>\n    </tr>\n    <tr>\n      <th>Shirt</th>\n      <td>396</td>\n      <td>40448</td>\n    </tr>\n    <tr>\n      <th>Trousers</th>\n      <td>454</td>\n      <td>46790</td>\n    </tr>\n    <tr>\n      <th rowspan=\"3\" valign=\"top\">New South Wales</th>\n      <th>Jacket</th>\n      <td>451</td>\n      <td>47998</td>\n    </tr>\n    <tr>\n      <th>Shirt</th>\n      <td>431</td>\n      <td>43980</td>\n    </tr>\n    <tr>\n      <th>Trousers</th>\n      <td>392</td>\n      <td>39766</td>\n    </tr>\n    <tr>\n      <th rowspan=\"3\" valign=\"top\">Northern Territory</th>\n      <th>Jacket</th>\n      <td>365</td>\n      <td>38991</td>\n    </tr>\n    <tr>\n      <th>Shirt</th>\n      <td>336</td>\n      <td>33865</td>\n    </tr>\n    <tr>\n      <th>Trousers</th>\n      <td>384</td>\n      <td>38998</td>\n    </tr>\n    <tr>\n      <th rowspan=\"3\" valign=\"top\">Queensland</th>\n      <th>Jacket</th>\n      <td>499</td>\n      <td>53511</td>\n    </tr>\n    <tr>\n      <th>Shirt</th>\n      <td>417</td>\n      <td>42506</td>\n    </tr>\n    <tr>\n      <th>Trousers</th>\n      <td>453</td>\n      <td>46045</td>\n    </tr>\n    <tr>\n      <th rowspan=\"3\" valign=\"top\">South Australia</th>\n      <th>Jacket</th>\n      <td>461</td>\n      <td>49090</td>\n    </tr>\n    <tr>\n      <th>Shirt</th>\n      <td>509</td>\n      <td>52685</td>\n    </tr>\n    <tr>\n      <th>Trousers</th>\n      <td>455</td>\n      <td>46041</td>\n    </tr>\n    <tr>\n      <th rowspan=\"3\" valign=\"top\">Tasmania</th>\n      <th>Jacket</th>\n      <td>412</td>\n      <td>44370</td>\n    </tr>\n    <tr>\n      <th>Shirt</th>\n      <td>387</td>\n      <td>39668</td>\n    </tr>\n    <tr>\n      <th>Trousers</th>\n      <td>379</td>\n      <td>38057</td>\n    </tr>\n    <tr>\n      <th rowspan=\"3\" valign=\"top\">Victoria</th>\n      <th>Jacket</th>\n      <td>359</td>\n      <td>38203</td>\n    </tr>\n    <tr>\n      <th>Shirt</th>\n      <td>390</td>\n      <td>40206</td>\n    </tr>\n    <tr>\n      <th>Trousers</th>\n      <td>414</td>\n      <td>41948</td>\n    </tr>\n    <tr>\n      <th rowspan=\"3\" valign=\"top\">Western Australia</th>\n      <th>Jacket</th>\n      <td>390</td>\n      <td>41659</td>\n    </tr>\n    <tr>\n      <th>Shirt</th>\n      <td>393</td>\n      <td>40242</td>\n    </tr>\n    <tr>\n      <th>Trousers</th>\n      <td>429</td>\n      <td>43529</td>\n    </tr>\n  </tbody>\n</table>\n</div>"
     },
     "execution_count": 199,
     "metadata": {},
     "output_type": "execute_result"
    }
   ],
   "source": [
    "all_df.groupby(by=[\"state\", \"product_type\"]).agg({\n",
    "    \"quantity_x\": \"sum\",\n",
    "    \"total_price\": \"sum\"\n",
    "})"
   ],
   "metadata": {
    "collapsed": false,
    "ExecuteTime": {
     "end_time": "2023-12-09T03:31:03.889302800Z",
     "start_time": "2023-12-09T03:31:03.822621900Z"
    }
   },
   "id": "306293b7eb42a83f"
  },
  {
   "cell_type": "markdown",
   "source": [],
   "metadata": {
    "collapsed": false
   },
   "id": "c62f1e9ee84203ec"
  },
  {
   "cell_type": "markdown",
   "source": [
    "Mengetahui preferensi tipe produk berdasarkan gender"
   ],
   "metadata": {
    "collapsed": false
   },
   "id": "5c49eddf91ec37f9"
  },
  {
   "cell_type": "code",
   "execution_count": 200,
   "outputs": [
    {
     "data": {
      "text/plain": "                                quantity_x  total_price\ngender            product_type                         \nFemale            Jacket               481        50963\n                  Shirt                445        45146\n                  Trousers             481        49295\nMale              Jacket               480        50978\n                  Shirt                410        41939\n                  Trousers             453        46071\nPrefer not to say Jacket              2382       255085\n                  Shirt               2404       246515\n                  Trousers            2426       245808",
      "text/html": "<div>\n<style scoped>\n    .dataframe tbody tr th:only-of-type {\n        vertical-align: middle;\n    }\n\n    .dataframe tbody tr th {\n        vertical-align: top;\n    }\n\n    .dataframe thead th {\n        text-align: right;\n    }\n</style>\n<table border=\"1\" class=\"dataframe\">\n  <thead>\n    <tr style=\"text-align: right;\">\n      <th></th>\n      <th></th>\n      <th>quantity_x</th>\n      <th>total_price</th>\n    </tr>\n    <tr>\n      <th>gender</th>\n      <th>product_type</th>\n      <th></th>\n      <th></th>\n    </tr>\n  </thead>\n  <tbody>\n    <tr>\n      <th rowspan=\"3\" valign=\"top\">Female</th>\n      <th>Jacket</th>\n      <td>481</td>\n      <td>50963</td>\n    </tr>\n    <tr>\n      <th>Shirt</th>\n      <td>445</td>\n      <td>45146</td>\n    </tr>\n    <tr>\n      <th>Trousers</th>\n      <td>481</td>\n      <td>49295</td>\n    </tr>\n    <tr>\n      <th rowspan=\"3\" valign=\"top\">Male</th>\n      <th>Jacket</th>\n      <td>480</td>\n      <td>50978</td>\n    </tr>\n    <tr>\n      <th>Shirt</th>\n      <td>410</td>\n      <td>41939</td>\n    </tr>\n    <tr>\n      <th>Trousers</th>\n      <td>453</td>\n      <td>46071</td>\n    </tr>\n    <tr>\n      <th rowspan=\"3\" valign=\"top\">Prefer not to say</th>\n      <th>Jacket</th>\n      <td>2382</td>\n      <td>255085</td>\n    </tr>\n    <tr>\n      <th>Shirt</th>\n      <td>2404</td>\n      <td>246515</td>\n    </tr>\n    <tr>\n      <th>Trousers</th>\n      <td>2426</td>\n      <td>245808</td>\n    </tr>\n  </tbody>\n</table>\n</div>"
     },
     "execution_count": 200,
     "metadata": {},
     "output_type": "execute_result"
    }
   ],
   "source": [
    "all_df.groupby(by=[\"gender\", \"product_type\"]).agg({\n",
    "    \"quantity_x\": \"sum\",\n",
    "    \"total_price\": \"sum\"\n",
    "})"
   ],
   "metadata": {
    "collapsed": false,
    "ExecuteTime": {
     "end_time": "2023-12-09T03:35:12.310211200Z",
     "start_time": "2023-12-09T03:35:12.243904400Z"
    }
   },
   "id": "adf7b039e2d046d7"
  },
  {
   "cell_type": "markdown",
   "source": [],
   "metadata": {
    "collapsed": false
   },
   "id": "add3b299d5f3d973"
  },
  {
   "cell_type": "markdown",
   "source": [
    "Mengetahui preferensi tipe produk berdasarkan kelompok umur"
   ],
   "metadata": {
    "collapsed": false
   },
   "id": "58f71fa6bdab3347"
  },
  {
   "cell_type": "code",
   "execution_count": 201,
   "outputs": [
    {
     "data": {
      "text/plain": "                        quantity_x  total_price\nage_group product_type                         \nAdults    Jacket              2292       245055\n          Shirt               2225       227781\n          Trousers            2272       231271\nSeniors   Jacket               777        82959\n          Shirt                733        74977\n          Trousers             766        77471\nYouth     Jacket               274        29012\n          Shirt                301        30842\n          Trousers             322        32432",
      "text/html": "<div>\n<style scoped>\n    .dataframe tbody tr th:only-of-type {\n        vertical-align: middle;\n    }\n\n    .dataframe tbody tr th {\n        vertical-align: top;\n    }\n\n    .dataframe thead th {\n        text-align: right;\n    }\n</style>\n<table border=\"1\" class=\"dataframe\">\n  <thead>\n    <tr style=\"text-align: right;\">\n      <th></th>\n      <th></th>\n      <th>quantity_x</th>\n      <th>total_price</th>\n    </tr>\n    <tr>\n      <th>age_group</th>\n      <th>product_type</th>\n      <th></th>\n      <th></th>\n    </tr>\n  </thead>\n  <tbody>\n    <tr>\n      <th rowspan=\"3\" valign=\"top\">Adults</th>\n      <th>Jacket</th>\n      <td>2292</td>\n      <td>245055</td>\n    </tr>\n    <tr>\n      <th>Shirt</th>\n      <td>2225</td>\n      <td>227781</td>\n    </tr>\n    <tr>\n      <th>Trousers</th>\n      <td>2272</td>\n      <td>231271</td>\n    </tr>\n    <tr>\n      <th rowspan=\"3\" valign=\"top\">Seniors</th>\n      <th>Jacket</th>\n      <td>777</td>\n      <td>82959</td>\n    </tr>\n    <tr>\n      <th>Shirt</th>\n      <td>733</td>\n      <td>74977</td>\n    </tr>\n    <tr>\n      <th>Trousers</th>\n      <td>766</td>\n      <td>77471</td>\n    </tr>\n    <tr>\n      <th rowspan=\"3\" valign=\"top\">Youth</th>\n      <th>Jacket</th>\n      <td>274</td>\n      <td>29012</td>\n    </tr>\n    <tr>\n      <th>Shirt</th>\n      <td>301</td>\n      <td>30842</td>\n    </tr>\n    <tr>\n      <th>Trousers</th>\n      <td>322</td>\n      <td>32432</td>\n    </tr>\n  </tbody>\n</table>\n</div>"
     },
     "execution_count": 201,
     "metadata": {},
     "output_type": "execute_result"
    }
   ],
   "source": [
    "all_df.groupby(by=[\"age_group\", \"product_type\"]).agg({\n",
    "    \"quantity_x\": \"sum\",\n",
    "    \"total_price\": \"sum\"\n",
    "})"
   ],
   "metadata": {
    "collapsed": false,
    "ExecuteTime": {
     "end_time": "2023-12-09T03:36:50.240411400Z",
     "start_time": "2023-12-09T03:36:50.170228600Z"
    }
   },
   "id": "8ffda44edb4d74bb"
  },
  {
   "cell_type": "code",
   "execution_count": null,
   "outputs": [],
   "source": [],
   "metadata": {
    "collapsed": false
   },
   "id": "ba6358e6e7aef5ca"
  }
 ],
 "metadata": {
  "kernelspec": {
   "display_name": "Python 3",
   "language": "python",
   "name": "python3"
  },
  "language_info": {
   "codemirror_mode": {
    "name": "ipython",
    "version": 2
   },
   "file_extension": ".py",
   "mimetype": "text/x-python",
   "name": "python",
   "nbconvert_exporter": "python",
   "pygments_lexer": "ipython2",
   "version": "2.7.6"
  }
 },
 "nbformat": 4,
 "nbformat_minor": 5
}
